{
 "cells": [
  {
   "cell_type": "markdown",
   "metadata": {},
   "source": [
    "# Similarity of sentences"
   ]
  },
  {
   "cell_type": "code",
   "execution_count": 1,
   "metadata": {},
   "outputs": [
    {
     "name": "stderr",
     "output_type": "stream",
     "text": [
      "/var/folders/dy/xr0vlym16y5cwngj_4p43nd40000gn/T/ipykernel_63133/2074201164.py:13: DeprecationWarning: \n",
      "Pyarrow will become a required dependency of pandas in the next major release of pandas (pandas 3.0),\n",
      "(to allow more performant data types, such as the Arrow string type, and better interoperability with other libraries)\n",
      "but was not found to be installed on your system.\n",
      "If this would cause problems for you,\n",
      "please provide us feedback at https://github.com/pandas-dev/pandas/issues/54466\n",
      "        \n",
      "  import pandas as pd\n",
      "/Users/diegoacosta/Documents/Maestría/Thesis/Notebooks/Complete/.venv/lib/python3.9/site-packages/tqdm/auto.py:21: TqdmWarning: IProgress not found. Please update jupyter and ipywidgets. See https://ipywidgets.readthedocs.io/en/stable/user_install.html\n",
      "  from .autonotebook import tqdm as notebook_tqdm\n"
     ]
    },
    {
     "name": "stdout",
     "output_type": "stream",
     "text": [
      "module https://tfhub.dev/google/universal-sentence-encoder/4 loaded\n"
     ]
    }
   ],
   "source": [
    "# Dependecies\n",
    "from ast import literal_eval\n",
    "\n",
    "from gensim.parsing.preprocessing import STOPWORDS\n",
    "\n",
    "import matplotlib.pyplot as plt\n",
    "\n",
    "import numpy as np\n",
    "import nltk\n",
    "from nltk.corpus import stopwords\n",
    "from nltk.tokenize.treebank import TreebankWordDetokenizer\n",
    "\n",
    "import pandas as pd\n",
    "from sklearn.metrics.pairwise import cosine_similarity\n",
    "\n",
    "from transformers import AutoTokenizer, AutoModelForMaskedLM\n",
    "\n",
    "from absl import logging\n",
    "\n",
    "import tensorflow as tf\n",
    "\n",
    "import tensorflow_hub as hub\n",
    "import matplotlib.pyplot as plt\n",
    "import numpy as np\n",
    "import os\n",
    "import pandas as pd\n",
    "import re\n",
    "# import seaborn as sns\n",
    "\n",
    "module_url = \"https://tfhub.dev/google/universal-sentence-encoder/4\" #@param [\"https://tfhub.dev/google/universal-sentence-encoder/4\", \"https://tfhub.dev/google/universal-sentence-encoder-large/5\"]\n",
    "model = hub.load(module_url)\n",
    "print (\"module %s loaded\" % module_url)\n",
    "def embed(input):\n",
    "  return model(input)"
   ]
  },
  {
   "cell_type": "code",
   "execution_count": 2,
   "metadata": {},
   "outputs": [
    {
     "data": {
      "text/html": [
       "<div>\n",
       "<style scoped>\n",
       "    .dataframe tbody tr th:only-of-type {\n",
       "        vertical-align: middle;\n",
       "    }\n",
       "\n",
       "    .dataframe tbody tr th {\n",
       "        vertical-align: top;\n",
       "    }\n",
       "\n",
       "    .dataframe thead th {\n",
       "        text-align: right;\n",
       "    }\n",
       "</style>\n",
       "<table border=\"1\" class=\"dataframe\">\n",
       "  <thead>\n",
       "    <tr style=\"text-align: right;\">\n",
       "      <th></th>\n",
       "      <th>APR</th>\n",
       "      <th>DOM</th>\n",
       "      <th>EVA</th>\n",
       "      <th>MEJ</th>\n",
       "      <th>MET</th>\n",
       "      <th>PRA</th>\n",
       "      <th>REC</th>\n",
       "      <th>RET</th>\n",
       "      <th>ASE</th>\n",
       "      <th>GÉNERO ALUMNO</th>\n",
       "      <th>PROM ACUMULADO EN PROFESIONAL</th>\n",
       "      <th>Género del profesor</th>\n",
       "      <th>Tipo Comentario</th>\n",
       "      <th>Comentarios</th>\n",
       "      <th>AVG</th>\n",
       "      <th>Lemm</th>\n",
       "    </tr>\n",
       "  </thead>\n",
       "  <tbody>\n",
       "    <tr>\n",
       "      <th>0</th>\n",
       "      <td>5.0</td>\n",
       "      <td>4.0</td>\n",
       "      <td>9.0</td>\n",
       "      <td>0.0</td>\n",
       "      <td>5.0</td>\n",
       "      <td>10.0</td>\n",
       "      <td>4.0</td>\n",
       "      <td>10.0</td>\n",
       "      <td>8.0</td>\n",
       "      <td>0</td>\n",
       "      <td>94.428</td>\n",
       "      <td>0.0</td>\n",
       "      <td>0</td>\n",
       "      <td>Sabe explicar muy bien las cosas teoricas, pe...</td>\n",
       "      <td>7.2</td>\n",
       "      <td>['saber', 'explicar', 'bien', 'cosa', 'teorico...</td>\n",
       "    </tr>\n",
       "    <tr>\n",
       "      <th>1</th>\n",
       "      <td>5.0</td>\n",
       "      <td>8.0</td>\n",
       "      <td>8.0</td>\n",
       "      <td>0.0</td>\n",
       "      <td>5.0</td>\n",
       "      <td>7.0</td>\n",
       "      <td>8.0</td>\n",
       "      <td>5.0</td>\n",
       "      <td>8.0</td>\n",
       "      <td>0</td>\n",
       "      <td>95.968</td>\n",
       "      <td>0.0</td>\n",
       "      <td>0</td>\n",
       "      <td>Método anticuado de enseñar. Los temas podría...</td>\n",
       "      <td>6.3</td>\n",
       "      <td>['método', 'anticuado', 'enseñar', 'tema', 'po...</td>\n",
       "    </tr>\n",
       "    <tr>\n",
       "      <th>2</th>\n",
       "      <td>10.0</td>\n",
       "      <td>10.0</td>\n",
       "      <td>5.0</td>\n",
       "      <td>1.0</td>\n",
       "      <td>8.0</td>\n",
       "      <td>10.0</td>\n",
       "      <td>10.0</td>\n",
       "      <td>10.0</td>\n",
       "      <td>8.0</td>\n",
       "      <td>0</td>\n",
       "      <td>96.408</td>\n",
       "      <td>0.0</td>\n",
       "      <td>1</td>\n",
       "      <td>Sabe muchísimo del tema, muy preparada.</td>\n",
       "      <td>8.8</td>\n",
       "      <td>['saber', 'muchísimo', 'tema', 'preparado']</td>\n",
       "    </tr>\n",
       "    <tr>\n",
       "      <th>3</th>\n",
       "      <td>10.0</td>\n",
       "      <td>10.0</td>\n",
       "      <td>10.0</td>\n",
       "      <td>1.0</td>\n",
       "      <td>10.0</td>\n",
       "      <td>10.0</td>\n",
       "      <td>10.0</td>\n",
       "      <td>10.0</td>\n",
       "      <td>10.0</td>\n",
       "      <td>0</td>\n",
       "      <td>94.981</td>\n",
       "      <td>0.0</td>\n",
       "      <td>2</td>\n",
       "      <td>buena maestra si lo recomiendo</td>\n",
       "      <td>10.0</td>\n",
       "      <td>['buen', 'maestro', 'si', 'recomer']</td>\n",
       "    </tr>\n",
       "    <tr>\n",
       "      <th>4</th>\n",
       "      <td>9.0</td>\n",
       "      <td>10.0</td>\n",
       "      <td>9.0</td>\n",
       "      <td>1.0</td>\n",
       "      <td>9.0</td>\n",
       "      <td>9.0</td>\n",
       "      <td>9.0</td>\n",
       "      <td>9.0</td>\n",
       "      <td>9.0</td>\n",
       "      <td>0</td>\n",
       "      <td>89.040</td>\n",
       "      <td>0.0</td>\n",
       "      <td>1</td>\n",
       "      <td>Tiene mucho conocimiento sobre los temas.</td>\n",
       "      <td>9.0</td>\n",
       "      <td>['conocimiento', 'tema']</td>\n",
       "    </tr>\n",
       "  </tbody>\n",
       "</table>\n",
       "</div>"
      ],
      "text/plain": [
       "    APR   DOM   EVA  MEJ   MET   PRA   REC   RET   ASE  GÉNERO ALUMNO  \\\n",
       "0   5.0   4.0   9.0  0.0   5.0  10.0   4.0  10.0   8.0              0   \n",
       "1   5.0   8.0   8.0  0.0   5.0   7.0   8.0   5.0   8.0              0   \n",
       "2  10.0  10.0   5.0  1.0   8.0  10.0  10.0  10.0   8.0              0   \n",
       "3  10.0  10.0  10.0  1.0  10.0  10.0  10.0  10.0  10.0              0   \n",
       "4   9.0  10.0   9.0  1.0   9.0   9.0   9.0   9.0   9.0              0   \n",
       "\n",
       "   PROM ACUMULADO EN PROFESIONAL  Género del profesor  Tipo Comentario  \\\n",
       "0                         94.428                  0.0                0   \n",
       "1                         95.968                  0.0                0   \n",
       "2                         96.408                  0.0                1   \n",
       "3                         94.981                  0.0                2   \n",
       "4                         89.040                  0.0                1   \n",
       "\n",
       "                                         Comentarios   AVG  \\\n",
       "0   Sabe explicar muy bien las cosas teoricas, pe...   7.2   \n",
       "1   Método anticuado de enseñar. Los temas podría...   6.3   \n",
       "2           Sabe muchísimo del tema, muy preparada.    8.8   \n",
       "3                     buena maestra si lo recomiendo  10.0   \n",
       "4         Tiene mucho conocimiento sobre los temas.    9.0   \n",
       "\n",
       "                                                Lemm  \n",
       "0  ['saber', 'explicar', 'bien', 'cosa', 'teorico...  \n",
       "1  ['método', 'anticuado', 'enseñar', 'tema', 'po...  \n",
       "2        ['saber', 'muchísimo', 'tema', 'preparado']  \n",
       "3               ['buen', 'maestro', 'si', 'recomer']  \n",
       "4                           ['conocimiento', 'tema']  "
      ]
     },
     "execution_count": 2,
     "metadata": {},
     "output_type": "execute_result"
    }
   ],
   "source": [
    "df_ecoas=pd.read_csv('df_ready.csv', index_col=0)\n",
    "df_ecoas.head()"
   ]
  },
  {
   "cell_type": "code",
   "execution_count": 3,
   "metadata": {},
   "outputs": [
    {
     "data": {
      "text/plain": [
       "'saber muchísimo tema preparado'"
      ]
     },
     "execution_count": 3,
     "metadata": {},
     "output_type": "execute_result"
    }
   ],
   "source": [
    "df_ecoas['Lemm'] = df_ecoas['Lemm'].apply(literal_eval)\n",
    "commentsL = df_ecoas['Lemm']\n",
    "# Merge comments\n",
    "comentarios_merge=[None]*len(commentsL)\n",
    "for i in range(len(commentsL)):\n",
    "  comentarios_merge[i]=(TreebankWordDetokenizer().detokenize(list(commentsL[i])))\n",
    "\n",
    "comentarios_merge[2]"
   ]
  },
  {
   "cell_type": "code",
   "execution_count": 4,
   "metadata": {},
   "outputs": [
    {
     "name": "stderr",
     "output_type": "stream",
     "text": [
      "[nltk_data] Downloading package stopwords to\n",
      "[nltk_data]     /Users/diegoacosta/nltk_data...\n",
      "[nltk_data]   Package stopwords is already up-to-date!\n"
     ]
    }
   ],
   "source": [
    "nltk.download('stopwords')\n",
    "stop = stopwords.words('spanish')\n",
    "stop.remove('no')\n",
    "stop.append('es')"
   ]
  },
  {
   "cell_type": "code",
   "execution_count": 5,
   "metadata": {},
   "outputs": [
    {
     "name": "stdout",
     "output_type": "stream",
     "text": [
      "Aspect descriptions as student POV: ['Como estudiante, valoro cuando los profesores utilizan metodologías y actividades de aprendizaje que me brindan explicaciones claras y precisas. Aprecio especialmente el uso de medios y técnicas innovadoras, como herramientas tecnológicas, que hacen el aprendizaje más accesible y atractivo. Estas estrategias no solo facilitan mi comprensión de los temas, sino que también estimulan mi curiosidad y deseo de explorar más allá de lo básico, apoyando eficazmente mi proceso educativo', 'La posibilidad de aplicar en la práctica lo que aprendo en teoría es fundamental para mí. A través de la resolución de casos reales, proyectos, y prácticas en laboratorios o talleres, siento que mi educación cobra sentido. Visitar empresas y organizaciones o interactuar con profesionales que aplican los temas discutidos en clase me ayuda a comprender mejor cómo se utilizan estos conceptos en el mundo real, preparándome para mi futuro profesional', 'La interacción con mi profesor y la asesoría que recibo son clave para mi aprendizaje. Cuando un profesor está disponible para resolver mis dudas, ya sea en horarios convenidos o a través de medios digitales, me siento más apoyado y confiado en mi proceso educativo. Un ambiente de aprendizaje respetuoso y abierto, donde puedo expresar mis opiniones y preguntas sin temor, es esencial para mi desarrollo académico y personal', 'El sistema de evaluación me ayuda a entender mis fortalezas y debilidades dentro del curso. Aprecio cuando se utilizan diversas herramientas de evaluación que ofrecen retroalimentación constructiva, basadas en criterios claros y justos. Esta retroalimentación me permite identificar áreas de mejora y reconocer mis logros, guiándome hacia un aprendizaje más efectivo y personalizado', 'Me siento genuinamente motivado cuando los desafíos intelectuales me exigen dar lo mejor de mí. Los retos que me llevan a cuestionar lo que sé y a esforzarme por entender y aplicar conceptos complejos enriquecen mi experiencia educativa. Este nivel de exigencia no solo impulsa mi crecimiento académico, sino que también fomenta mi desarrollo personal, preparándome para enfrentar futuros desafíos con confianza.', 'Cuando un profesor actúa como guía en mi aprendizaje, inspirándome y demostrando un compromiso genuino con mi desarrollo, siento que mi educación se personaliza y profundiza. Esta actitud no solo me motiva a aprender más, sino que también me enseña la importancia del compromiso y la pasión por el conocimiento. Un educador que guía, desafía e inspira es fundamental para mi crecimiento integral como estudiante', 'El dominio de la materia por parte de mi profesor es imprescindible. Cuando un educador tiene un profundo conocimiento y experiencia en el tema que enseña, las clases son más claras, interesantes y relevantes. Este dominio permite al profesor conectar los conceptos con la vida real, despertando mi curiosidad y fomentando un aprendizaje más significativo. Además, un profesor que realmente entiende su materia puede adaptar la enseñanza a las necesidades de sus estudiantes, enriqueciendo nuestra experiencia educativa.']\n"
     ]
    }
   ],
   "source": [
    "# This are the questions we will use to compare the comments and obtain the most similar ones\n",
    "aspects = ['MET', 'PRA', 'ASE', 'EVA', 'RET', 'APR', 'DOM']\n",
    "\n",
    "# Aspects descriptions for the students point of view\n",
    "MET_student = 'Como estudiante, valoro cuando los profesores utilizan metodologías y actividades de aprendizaje que me brindan explicaciones claras y precisas. Aprecio especialmente el uso de medios y técnicas innovadoras, como herramientas tecnológicas, que hacen el aprendizaje más accesible y atractivo. Estas estrategias no solo facilitan mi comprensión de los temas, sino que también estimulan mi curiosidad y deseo de explorar más allá de lo básico, apoyando eficazmente mi proceso educativo'\n",
    "PRA_student = 'La posibilidad de aplicar en la práctica lo que aprendo en teoría es fundamental para mí. A través de la resolución de casos reales, proyectos, y prácticas en laboratorios o talleres, siento que mi educación cobra sentido. Visitar empresas y organizaciones o interactuar con profesionales que aplican los temas discutidos en clase me ayuda a comprender mejor cómo se utilizan estos conceptos en el mundo real, preparándome para mi futuro profesional'\n",
    "ASE_student = 'La interacción con mi profesor y la asesoría que recibo son clave para mi aprendizaje. Cuando un profesor está disponible para resolver mis dudas, ya sea en horarios convenidos o a través de medios digitales, me siento más apoyado y confiado en mi proceso educativo. Un ambiente de aprendizaje respetuoso y abierto, donde puedo expresar mis opiniones y preguntas sin temor, es esencial para mi desarrollo académico y personal'\n",
    "EVA_student = 'El sistema de evaluación me ayuda a entender mis fortalezas y debilidades dentro del curso. Aprecio cuando se utilizan diversas herramientas de evaluación que ofrecen retroalimentación constructiva, basadas en criterios claros y justos. Esta retroalimentación me permite identificar áreas de mejora y reconocer mis logros, guiándome hacia un aprendizaje más efectivo y personalizado'\n",
    "RET_student = 'Me siento genuinamente motivado cuando los desafíos intelectuales me exigen dar lo mejor de mí. Los retos que me llevan a cuestionar lo que sé y a esforzarme por entender y aplicar conceptos complejos enriquecen mi experiencia educativa. Este nivel de exigencia no solo impulsa mi crecimiento académico, sino que también fomenta mi desarrollo personal, preparándome para enfrentar futuros desafíos con confianza.'\n",
    "APR_student = 'Cuando un profesor actúa como guía en mi aprendizaje, inspirándome y demostrando un compromiso genuino con mi desarrollo, siento que mi educación se personaliza y profundiza. Esta actitud no solo me motiva a aprender más, sino que también me enseña la importancia del compromiso y la pasión por el conocimiento. Un educador que guía, desafía e inspira es fundamental para mi crecimiento integral como estudiante'\n",
    "DOM_student = 'El dominio de la materia por parte de mi profesor es imprescindible. Cuando un educador tiene un profundo conocimiento y experiencia en el tema que enseña, las clases son más claras, interesantes y relevantes. Este dominio permite al profesor conectar los conceptos con la vida real, despertando mi curiosidad y fomentando un aprendizaje más significativo. Además, un profesor que realmente entiende su materia puede adaptar la enseñanza a las necesidades de sus estudiantes, enriqueciendo nuestra experiencia educativa.'\n",
    "\n",
    "questions = [MET_student, PRA_student, ASE_student, EVA_student, RET_student, APR_student, DOM_student]\n",
    "\n",
    "print('Aspect descriptions as student POV:', questions)"
   ]
  },
  {
   "cell_type": "markdown",
   "metadata": {},
   "source": [
    "####  USE: Universal Sentence Encoder"
   ]
  },
  {
   "cell_type": "code",
   "execution_count": 6,
   "metadata": {},
   "outputs": [
    {
     "name": "stdout",
     "output_type": "stream",
     "text": [
      "Message: Elephant\n",
      "Embedding size: 512\n",
      "Embedding: [0.008344456553459167, 0.00048082726425491273, 0.06595247983932495, ...]\n",
      "\n",
      "Message: I am a sentence for which I would like to get its embedding.\n",
      "Embedding size: 512\n",
      "Embedding: [0.050808634608983994, -0.016524311155080795, 0.015737805515527725, ...]\n",
      "\n",
      "Message: Universal Sentence Encoder embeddings also support short paragraphs. There is no hard limit on how long the paragraph is. Roughly, the longer the more 'diluted' the embedding will be.\n",
      "Embedding size: 512\n",
      "Embedding: [-0.02833269163966179, -0.0558621808886528, -0.012941497378051281, ...]\n",
      "\n"
     ]
    }
   ],
   "source": [
    "# Examples of USE embeddings\n",
    "word = \"Elephant\"\n",
    "sentence = \"I am a sentence for which I would like to get its embedding.\"\n",
    "paragraph = (\n",
    "    \"Universal Sentence Encoder embeddings also support short paragraphs. \"\n",
    "    \"There is no hard limit on how long the paragraph is. Roughly, the longer \"\n",
    "    \"the more 'diluted' the embedding will be.\")\n",
    "messages = [word, sentence, paragraph]\n",
    "\n",
    "# Reduce logging output.\n",
    "logging.set_verbosity(logging.ERROR)\n",
    "\n",
    "message_embeddings = embed(messages)\n",
    "\n",
    "for i, message_embedding in enumerate(np.array(message_embeddings).tolist()):\n",
    "  print(\"Message: {}\".format(messages[i]))\n",
    "  print(\"Embedding size: {}\".format(len(message_embedding)))\n",
    "  message_embedding_snippet = \", \".join(\n",
    "      (str(x) for x in message_embedding[:3]))\n",
    "  print(\"Embedding: [{}, ...]\\n\".format(message_embedding_snippet))"
   ]
  },
  {
   "cell_type": "code",
   "execution_count": 7,
   "metadata": {},
   "outputs": [],
   "source": [
    "# This is a test of the similarity score for USE embeddings\n",
    "sentence1 = 'Esta es una prueba de similitud de oraciones'\n",
    "sentence2 = 'Este es un experimento para obtener la similitud coseno entre dos comentarios'"
   ]
  },
  {
   "cell_type": "code",
   "execution_count": 8,
   "metadata": {},
   "outputs": [],
   "source": [
    "# Reduce logging output.\n",
    "logging.set_verbosity(logging.ERROR)\n",
    "\n",
    "use_embeddings_comments = embed(comentarios_merge)\n",
    "use_embeddings_questions = embed(questions)"
   ]
  },
  {
   "cell_type": "code",
   "execution_count": 9,
   "metadata": {},
   "outputs": [
    {
     "name": "stdout",
     "output_type": "stream",
     "text": [
      "Comments embeddings shape (96540, 512)\n",
      "Questions embeddings shape (7, 512)\n"
     ]
    }
   ],
   "source": [
    "print('Comments embeddings shape', use_embeddings_comments.shape)\n",
    "print('Questions embeddings shape', use_embeddings_questions.shape)"
   ]
  },
  {
   "cell_type": "code",
   "execution_count": 10,
   "metadata": {},
   "outputs": [],
   "source": [
    "# Determine the maximum sequence length for questions and answers\n",
    "max_sequence_length = max(len(use_embeddings_comments[0]), len(use_embeddings_questions[0]))\n",
    "\n",
    "# Initialize an empty array to store similarity scores\n",
    "similarity_scores = np.zeros((len(questions), len(comentarios_merge)))\n",
    "\n",
    "# Calculate cosine similarity for each question-answer pair\n",
    "for i, question_embedding in enumerate(use_embeddings_questions):\n",
    "    for j, answer_embedding in enumerate(use_embeddings_comments):\n",
    "        # Pad the shorter sequence to match the maximum length\n",
    "        padded_question = np.pad(question_embedding.numpy(), (0, max_sequence_length - len(question_embedding)), 'constant')\n",
    "        padded_answer = np.pad(answer_embedding.numpy(), (0, max_sequence_length - len(answer_embedding)), 'constant')\n",
    "\n",
    "        # Calculate cosine similarity between the padded embeddings\n",
    "        similarity = cosine_similarity([padded_question], [padded_answer])[0][0]\n",
    "        similarity_scores[i][j] = similarity\n"
   ]
  },
  {
   "cell_type": "code",
   "execution_count": 11,
   "metadata": {},
   "outputs": [
    {
     "data": {
      "text/plain": [
       "array([[0.60294938, 0.55412954, 0.25313604, ..., 0.54348528, 0.58976012,\n",
       "        0.54152781],\n",
       "       [0.62665451, 0.5212484 , 0.27522719, ..., 0.5455308 , 0.5550319 ,\n",
       "        0.55782741],\n",
       "       [0.60322666, 0.58820504, 0.289958  , ..., 0.4875536 , 0.58687031,\n",
       "        0.51271003],\n",
       "       ...,\n",
       "       [0.58833194, 0.5336442 , 0.24980125, ..., 0.51842642, 0.50492167,\n",
       "        0.57650995],\n",
       "       [0.57177448, 0.48223305, 0.28086859, ..., 0.59523851, 0.5806191 ,\n",
       "        0.61828399],\n",
       "       [0.55070394, 0.51556164, 0.32364869, ..., 0.61097407, 0.55345452,\n",
       "        0.5812155 ]])"
      ]
     },
     "execution_count": 11,
     "metadata": {},
     "output_type": "execute_result"
    }
   ],
   "source": [
    "similarity_scores"
   ]
  },
  {
   "cell_type": "code",
   "execution_count": 12,
   "metadata": {},
   "outputs": [
    {
     "data": {
      "text/plain": [
       "(96540, 7)"
      ]
     },
     "execution_count": 12,
     "metadata": {},
     "output_type": "execute_result"
    }
   ],
   "source": [
    "use_similarity_scores = similarity_scores.T\n",
    "use_similarity_scores.shape"
   ]
  },
  {
   "cell_type": "markdown",
   "metadata": {},
   "source": [
    "#### BERT Embeddings"
   ]
  },
  {
   "cell_type": "code",
   "execution_count": 13,
   "metadata": {},
   "outputs": [],
   "source": [
    "tokenizer = AutoTokenizer.from_pretrained(\"dccuchile/bert-base-spanish-wwm-uncased\")"
   ]
  },
  {
   "cell_type": "code",
   "execution_count": 14,
   "metadata": {},
   "outputs": [],
   "source": [
    "encoded_questions = tokenizer(\n",
    "    questions,\n",
    "    return_tensors=\"pt\",\n",
    "    padding=True,\n",
    "    truncation=True,\n",
    "    max_length=128\n",
    ")\n",
    "\n",
    "encoded_responses = tokenizer(\n",
    "    comentarios_merge,\n",
    "    return_tensors=\"pt\",\n",
    "    padding=True,\n",
    "    truncation=True,\n",
    "    max_length=128\n",
    ")"
   ]
  },
  {
   "cell_type": "code",
   "execution_count": 15,
   "metadata": {},
   "outputs": [
    {
     "data": {
      "text/plain": [
       "(torch.Size([7, 91]), torch.Size([96540, 128]))"
      ]
     },
     "execution_count": 15,
     "metadata": {},
     "output_type": "execute_result"
    }
   ],
   "source": [
    "encoded_questions['input_ids'].shape, encoded_responses['input_ids'].shape"
   ]
  },
  {
   "cell_type": "code",
   "execution_count": 16,
   "metadata": {},
   "outputs": [
    {
     "name": "stdout",
     "output_type": "stream",
     "text": [
      "{'input_ids': tensor([   4, 4764, 2833,    5,    1,    1,    1,    1,    1,    1,    1,    1,\n",
      "           1,    1,    1,    1,    1,    1,    1,    1,    1,    1,    1,    1,\n",
      "           1,    1,    1,    1,    1,    1,    1,    1,    1,    1,    1,    1,\n",
      "           1,    1,    1,    1,    1,    1,    1,    1,    1,    1,    1,    1,\n",
      "           1,    1,    1,    1,    1,    1,    1,    1,    1,    1,    1,    1,\n",
      "           1,    1,    1,    1,    1,    1,    1,    1,    1,    1,    1,    1,\n",
      "           1,    1,    1,    1,    1,    1,    1,    1,    1,    1,    1,    1,\n",
      "           1,    1,    1,    1,    1,    1,    1,    1,    1,    1,    1,    1,\n",
      "           1,    1,    1,    1,    1,    1,    1,    1,    1,    1,    1,    1,\n",
      "           1,    1,    1,    1,    1,    1,    1,    1,    1,    1,    1,    1,\n",
      "           1,    1,    1,    1,    1,    1,    1,    1]), 'attention_mask': tensor([1, 1, 1, 1, 0, 0, 0, 0, 0, 0, 0, 0, 0, 0, 0, 0, 0, 0, 0, 0, 0, 0, 0, 0,\n",
      "        0, 0, 0, 0, 0, 0, 0, 0, 0, 0, 0, 0, 0, 0, 0, 0, 0, 0, 0, 0, 0, 0, 0, 0,\n",
      "        0, 0, 0, 0, 0, 0, 0, 0, 0, 0, 0, 0, 0, 0, 0, 0, 0, 0, 0, 0, 0, 0, 0, 0,\n",
      "        0, 0, 0, 0, 0, 0, 0, 0, 0, 0, 0, 0, 0, 0, 0, 0, 0, 0, 0, 0, 0, 0, 0, 0,\n",
      "        0, 0, 0, 0, 0, 0, 0, 0, 0, 0, 0, 0, 0, 0, 0, 0, 0, 0, 0, 0, 0, 0, 0, 0,\n",
      "        0, 0, 0, 0, 0, 0, 0, 0])}\n"
     ]
    }
   ],
   "source": [
    "encoded_responses_example = {\n",
    "    'input_ids': encoded_responses['input_ids'][4],\n",
    "    'attention_mask': encoded_responses['attention_mask'][4]\n",
    "}\n",
    "\n",
    "print(encoded_responses_example)\n"
   ]
  },
  {
   "cell_type": "code",
   "execution_count": 17,
   "metadata": {},
   "outputs": [],
   "source": [
    "# Determine the maximum sequence length for questions and answers\n",
    "max_sequence_length = max(len(encoded_questions['input_ids'][0]), len(encoded_responses['input_ids'][0]))\n",
    "\n",
    "# Initialize an empty array to store similarity scores\n",
    "similarity_scores = np.zeros((len(questions), len(comentarios_merge)))\n",
    "\n",
    "# Calculate cosine similarity for each question-answer pair\n",
    "for i, question_embedding in enumerate(encoded_questions['input_ids']):\n",
    "    for j, answer_embedding in enumerate(encoded_responses['input_ids']):\n",
    "        # Pad the shorter sequence to match the maximum length\n",
    "        padded_question = np.pad(question_embedding.numpy(), (0, max_sequence_length - len(question_embedding)), 'constant')\n",
    "        padded_answer = np.pad(answer_embedding.numpy(), (0, max_sequence_length - len(answer_embedding)), 'constant')\n",
    "\n",
    "        # Calculate cosine similarity between the padded embeddings\n",
    "        similarity = cosine_similarity([padded_question], [padded_answer])[0][0]\n",
    "        similarity_scores[i][j] = similarity\n"
   ]
  },
  {
   "cell_type": "code",
   "execution_count": 18,
   "metadata": {},
   "outputs": [
    {
     "data": {
      "text/plain": [
       "(7, 96540)"
      ]
     },
     "execution_count": 18,
     "metadata": {},
     "output_type": "execute_result"
    }
   ],
   "source": [
    "# We have the scores for similarity between comment and questions, 6 aspects for 98427 different comments\n",
    "similarity_scores.shape"
   ]
  },
  {
   "cell_type": "code",
   "execution_count": 19,
   "metadata": {},
   "outputs": [
    {
     "data": {
      "text/plain": [
       "array([[0.35860164, 0.23781862, 0.32133735, ..., 0.47777719, 0.26744933,\n",
       "        0.20655711],\n",
       "       [0.1679013 , 0.07889398, 0.24205906, ..., 0.23217634, 0.0982029 ,\n",
       "        0.12007971],\n",
       "       [0.10248931, 0.09859222, 0.17732238, ..., 0.18078429, 0.09750165,\n",
       "        0.11559857],\n",
       "       ...,\n",
       "       [0.22090321, 0.1115929 , 0.21003971, ..., 0.24424138, 0.40309566,\n",
       "        0.18152546],\n",
       "       [0.35345888, 0.10115127, 0.25212788, ..., 0.33380891, 0.30778434,\n",
       "        0.12142035],\n",
       "       [0.36593734, 0.11835073, 0.20851518, ..., 0.22719398, 0.41681304,\n",
       "        0.28330817]])"
      ]
     },
     "execution_count": 19,
     "metadata": {},
     "output_type": "execute_result"
    }
   ],
   "source": [
    "similarity_scores.T"
   ]
  },
  {
   "cell_type": "code",
   "execution_count": 20,
   "metadata": {},
   "outputs": [],
   "source": [
    "bert_similarity_scores = similarity_scores.T"
   ]
  },
  {
   "cell_type": "code",
   "execution_count": 21,
   "metadata": {},
   "outputs": [
    {
     "data": {
      "text/plain": [
       "(96540, 7)"
      ]
     },
     "execution_count": 21,
     "metadata": {},
     "output_type": "execute_result"
    }
   ],
   "source": [
    "bert_similarity_scores.shape"
   ]
  },
  {
   "cell_type": "markdown",
   "metadata": {},
   "source": [
    "# Plot the range of values for the different embeddings"
   ]
  },
  {
   "cell_type": "markdown",
   "metadata": {},
   "source": [
    "#### USE"
   ]
  },
  {
   "cell_type": "code",
   "execution_count": 22,
   "metadata": {},
   "outputs": [
    {
     "name": "stdout",
     "output_type": "stream",
     "text": [
      "0.7555310130119324\n"
     ]
    }
   ],
   "source": [
    "print(np.max(use_similarity_scores))"
   ]
  },
  {
   "cell_type": "code",
   "execution_count": 23,
   "metadata": {},
   "outputs": [
    {
     "name": "stdout",
     "output_type": "stream",
     "text": [
      "-0.14305752515792847\n"
     ]
    }
   ],
   "source": [
    "print(np.min(use_similarity_scores))"
   ]
  },
  {
   "cell_type": "code",
   "execution_count": 24,
   "metadata": {},
   "outputs": [
    {
     "data": {
      "text/plain": [
       "array([0.62818843, 0.58820504, 0.32364869, ..., 0.61097407, 0.58976012,\n",
       "       0.61828399])"
      ]
     },
     "execution_count": 24,
     "metadata": {},
     "output_type": "execute_result"
    }
   ],
   "source": [
    "max_values_use = np.max(use_similarity_scores, axis=1)\n",
    "max_values_use"
   ]
  },
  {
   "cell_type": "code",
   "execution_count": 25,
   "metadata": {},
   "outputs": [
    {
     "name": "stdout",
     "output_type": "stream",
     "text": [
      "-0.07500699907541275\n"
     ]
    }
   ],
   "source": [
    "print(np.min(max_values_use)) # The minimum value from the max values is almost 0, this means that the comments are not similar to the questions"
   ]
  },
  {
   "cell_type": "code",
   "execution_count": 42,
   "metadata": {},
   "outputs": [
    {
     "data": {
      "image/png": "[encoded data removed]",
      "text/plain": [
       "<Figure size 640x480 with 1 Axes>"
      ]
     },
     "metadata": {},
     "output_type": "display_data"
    }
   ],
   "source": [
    "plt.hist(max_values_use, bins=100, density=True, color='#C75D56')\n",
    "plt.xlabel('Values')\n",
    "plt.ylabel('Density')\n",
    "plt.title('Max Similarity Values of USE')\n",
    "plt.grid(color='#282A33', linestyle='-.')\n",
    "plt.show()"
   ]
  },
  {
   "cell_type": "code",
   "execution_count": 27,
   "metadata": {},
   "outputs": [
    {
     "name": "stdout",
     "output_type": "stream",
     "text": [
      "The mean and std of the max values\n",
      "mean: 0.48 \n",
      "std: 0.14\n"
     ]
    }
   ],
   "source": [
    "print('The mean and std of the max values\\nmean:', np.round(np.mean(max_values_use),2), '\\nstd:',np.round(np.std(max_values_use),2))"
   ]
  },
  {
   "cell_type": "code",
   "execution_count": 28,
   "metadata": {},
   "outputs": [
    {
     "data": {
      "text/plain": [
       "range(0, 96540)"
      ]
     },
     "execution_count": 28,
     "metadata": {},
     "output_type": "execute_result"
    }
   ],
   "source": [
    "range(use_similarity_scores.shape[0])"
   ]
  },
  {
   "cell_type": "code",
   "execution_count": 29,
   "metadata": {},
   "outputs": [
    {
     "data": {
      "image/png": "[encoded data removed]",
      "text/plain": [
       "<Figure size 640x480 with 1 Axes>"
      ]
     },
     "metadata": {},
     "output_type": "display_data"
    }
   ],
   "source": [
    "plt.plot(range(use_similarity_scores.shape[0]), max_values_use)\n",
    "plt.xlabel('Comment Index')\n",
    "plt.ylabel('Max Value')\n",
    "plt.title('Maximum Value for Each Comment')\n",
    "plt.show()\n"
   ]
  },
  {
   "cell_type": "markdown",
   "metadata": {},
   "source": [
    "#### BERT"
   ]
  },
  {
   "cell_type": "code",
   "execution_count": 30,
   "metadata": {},
   "outputs": [
    {
     "name": "stdout",
     "output_type": "stream",
     "text": [
      "0.717381473578131\n"
     ]
    }
   ],
   "source": [
    "print(np.max(bert_similarity_scores))"
   ]
  },
  {
   "cell_type": "code",
   "execution_count": 31,
   "metadata": {},
   "outputs": [
    {
     "name": "stdout",
     "output_type": "stream",
     "text": [
      "0.013375986672960298\n"
     ]
    }
   ],
   "source": [
    "print(np.min(bert_similarity_scores))"
   ]
  },
  {
   "cell_type": "code",
   "execution_count": 32,
   "metadata": {},
   "outputs": [
    {
     "data": {
      "text/plain": [
       "array([0.47777719, 0.24205906, 0.18078429, ..., 0.40309566, 0.35345888,\n",
       "       0.41681304])"
      ]
     },
     "execution_count": 32,
     "metadata": {},
     "output_type": "execute_result"
    }
   ],
   "source": [
    "max_values_bert = np.max(bert_similarity_scores, axis=1)\n",
    "max_values_bert"
   ]
  },
  {
   "cell_type": "code",
   "execution_count": 33,
   "metadata": {},
   "outputs": [
    {
     "data": {
      "image/png": "[encoded data removed]",
      "text/plain": [
       "<Figure size 640x480 with 1 Axes>"
      ]
     },
     "metadata": {},
     "output_type": "display_data"
    }
   ],
   "source": [
    "plt.hist(max_values_bert, bins=100, density=True, color='#C75D56')\n",
    "plt.xlabel('Values')\n",
    "plt.ylabel('Density')\n",
    "plt.title('Max Similarity Values of BERT')\n",
    "plt.grid(color='#282A33', linestyle='-.')\n",
    "plt.show()"
   ]
  },
  {
   "cell_type": "code",
   "execution_count": 34,
   "metadata": {},
   "outputs": [
    {
     "name": "stdout",
     "output_type": "stream",
     "text": [
      "The mean and std of the max values\n",
      "mean: 0.28 \n",
      "std: 0.11\n"
     ]
    }
   ],
   "source": [
    "print('The mean and std of the max values\\nmean:', np.round(np.mean(max_values_bert),2), '\\nstd:',np.round(np.std(max_values_bert),2))"
   ]
  },
  {
   "cell_type": "code",
   "execution_count": 35,
   "metadata": {},
   "outputs": [
    {
     "name": "stdout",
     "output_type": "stream",
     "text": [
      "0.018407024613106202\n"
     ]
    }
   ],
   "source": [
    "print(np.min(max_values_bert)) # The minimum value from the max values is almost 0, this means that the comments are not similar to the questions"
   ]
  },
  {
   "cell_type": "code",
   "execution_count": 36,
   "metadata": {},
   "outputs": [
    {
     "data": {
      "image/png": "[encoded data removed]",
      "text/plain": [
       "<Figure size 640x480 with 1 Axes>"
      ]
     },
     "metadata": {},
     "output_type": "display_data"
    }
   ],
   "source": [
    "plt.plot(range(bert_similarity_scores.shape[0]), max_values_bert)\n",
    "plt.xlabel('Comment Index')\n",
    "plt.ylabel('Max Value')\n",
    "plt.title('Maximum Similarity Value for Each Comment using BERT')\n",
    "plt.show()\n"
   ]
  },
  {
   "cell_type": "markdown",
   "metadata": {},
   "source": [
    "# Now lets plot the range of values of both BERT and USE embeddings"
   ]
  },
  {
   "cell_type": "code",
   "execution_count": 37,
   "metadata": {},
   "outputs": [
    {
     "data": {
      "text/plain": [
       "(96540,)"
      ]
     },
     "execution_count": 37,
     "metadata": {},
     "output_type": "execute_result"
    }
   ],
   "source": [
    "max_values_use.shape"
   ]
  },
  {
   "cell_type": "code",
   "execution_count": 38,
   "metadata": {},
   "outputs": [
    {
     "data": {
      "text/plain": [
       "(96540,)"
      ]
     },
     "execution_count": 38,
     "metadata": {},
     "output_type": "execute_result"
    }
   ],
   "source": [
    "max_values_bert.shape"
   ]
  },
  {
   "cell_type": "code",
   "execution_count": 39,
   "metadata": {},
   "outputs": [],
   "source": [
    "range_bert = np.array([np.max(max_values_bert), np.min(max_values_bert)])\n",
    "range_use = np.array([np.max(max_values_use), np.min(max_values_use)])"
   ]
  },
  {
   "cell_type": "code",
   "execution_count": 40,
   "metadata": {},
   "outputs": [
    {
     "name": "stdout",
     "output_type": "stream",
     "text": [
      "The range of values for bert is:  0.6989744489650248\n",
      "The range of values for use is:  0.8305380120873451\n"
     ]
    }
   ],
   "source": [
    "print('The range of values for bert is: ', range_bert[0]-range_bert[1])\n",
    "print('The range of values for use is: ', range_use[0]-range_use[1])"
   ]
  },
  {
   "cell_type": "code",
   "execution_count": 44,
   "metadata": {},
   "outputs": [
    {
     "data": {
      "image/png": "[encoded data removed]",
      "text/plain": [
       "<Figure size 640x480 with 1 Axes>"
      ]
     },
     "metadata": {},
     "output_type": "display_data"
    }
   ],
   "source": [
    "plt.plot(range_bert, c='r', label='BERT')\n",
    "plt.plot(range_use, c='black', label='USE')\n",
    "plt.legend()\n",
    "\n",
    "plt.xlabel('Range')\n",
    "plt.ylabel('Cosine Similarity Max Value')\n",
    "plt.show()\n"
   ]
  }
 ],
 "metadata": {
  "kernelspec": {
   "display_name": ".venv",
   "language": "python",
   "name": "python3"
  },
  "language_info": {
   "codemirror_mode": {
    "name": "ipython",
    "version": 3
   },
   "file_extension": ".py",
   "mimetype": "text/x-python",
   "name": "python",
   "nbconvert_exporter": "python",
   "pygments_lexer": "ipython3",
   "version": "3.9.6"
  }
 },
 "nbformat": 4,
 "nbformat_minor": 2
}
