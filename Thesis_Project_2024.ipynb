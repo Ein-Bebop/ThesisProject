{
  "cells": [
    {
      "cell_type": "markdown",
      "metadata": {
        "id": "iBI-kV-QJ-1U"
      },
      "source": [
        "# Thesis Project\n",
        "\n",
        "- Author 💻✍: Diego Acosta Ugalde\n",
        "- Description 🖇: This notebook contains all the implementations of my thesis project. The structure can be shown in the Table of Contents.\n",
        "- Date of creation 📅: 8/Feb/2024\n",
        "\n",
        "----\n",
        "\n",
        "MODULES\n",
        "\n",
        "    1 -> Preprocessing\n",
        "\n",
        "    2 -> Initial Data Exploration\n",
        "    \n",
        "    3 -> Text Representations\n",
        "\n",
        "    4 -> Topic Recognizion\n",
        "\n",
        "    5 -> ML Classifiers\n",
        "\n",
        "    6 -> DL Classifiers\n",
        "\n",
        "    7 -> Tranformers"
      ]
    },
    {
      "cell_type": "markdown",
      "metadata": {
        "id": "RiXX2XEyQcIx"
      },
      "source": [
        "## 1: Preprocessing of the raw ECOA data base"
      ]
    },
    {
      "cell_type": "code",
      "execution_count": null,
      "metadata": {
        "id": "fzahbY6tSLJr"
      },
      "outputs": [],
      "source": [
        "# Dependecies\n",
        "# from google.colab import drive\n",
        "# from google.colab import files\n",
        "import gensim\n",
        "from gensim import corpora\n",
        "from gensim.models import LdaModel\n",
        "from gensim.parsing.preprocessing import STOPWORDS\n",
        "from gensim.models import CoherenceModel\n",
        "import graphviz\n",
        "\n",
        "import matplotlib.pyplot as plt\n",
        "\n",
        "import numpy as np\n",
        "import nltk\n",
        "from nltk.corpus import stopwords\n",
        "from nltk.tokenize.treebank import TreebankWordDetokenizer\n",
        "\n",
        "import pandas as pd\n",
        "import pydotplus\n",
        "import plotly.graph_objects as go\n",
        "\n",
        "\n",
        "import stanza\n",
        "from stanza.models.common.doc import Document\n",
        "from scipy import stats\n",
        "from sklearn.feature_extraction.text import TfidfVectorizer\n",
        "from sklearn.model_selection import train_test_split\n",
        "from sklearn.tree import DecisionTreeClassifier\n",
        "from sklearn.manifold import TSNE\n",
        "from sklearn import tree\n",
        "from sklearn import metrics\n",
        "from sklearn.svm import SVC\n",
        "from sklearn.decomposition import PCA\n",
        "from sklearn.ensemble import RandomForestClassifier\n",
        "from sklearn.naive_bayes import MultinomialNB\n",
        "from sklearn.metrics.pairwise import cosine_similarity\n",
        "\n",
        "from transformers import AutoTokenizer, AutoModelForMaskedLM\n",
        "\n",
        "from wordcloud import WordCloud"
      ]
    },
    {
      "cell_type": "code",
      "execution_count": null,
      "metadata": {},
      "outputs": [],
      "source": [
        "# Columns that we want to use\n",
        "columns = ['MET', 'PRA', 'ASE', 'EVA', 'RET', 'APR', 'DOM', 'REC', 'MEJ', 'GÉNERO ALUMNO', 'PROM ACUMULADO EN PROFESIONAL', 'Género del profesor', 'Por qué no lo recomendarias', 'Comentarios']\n",
        "aspects = ['MET', 'PRA', 'ASE', 'EVA', 'RET', 'APR', 'DOM', 'REC', 'MEJ']"
      ]
    },
    {
      "cell_type": "code",
      "execution_count": null,
      "metadata": {
        "id": "2EbQ5W8JSM9T"
      },
      "outputs": [],
      "source": [
        "# drive.mount('/content/drive')\n",
        "# df=pd.read_excel('drive/MyDrive/Tesis/ecoa-demografico.xlsx')\n",
        "df = pd.read_excel('ecoa-demografico.xlsx')"
      ]
    },
    {
      "cell_type": "code",
      "execution_count": null,
      "metadata": {
        "colab": {
          "base_uri": "https://localhost:8080/",
          "height": 474
        },
        "id": "zXcGF9O_TT4S",
        "outputId": "12fe7e23-8e31-4f9a-8d41-e3caf30d36fc"
      },
      "outputs": [],
      "source": [
        "df.head()"
      ]
    },
    {
      "cell_type": "code",
      "execution_count": null,
      "metadata": {
        "colab": {
          "base_uri": "https://localhost:8080/"
        },
        "id": "_fMc1LRFUB65",
        "outputId": "f2cbf4ea-c6d4-474c-d38e-4e5d00661118"
      },
      "outputs": [],
      "source": [
        "print(f'Our original dataset is of shape: {df.shape}')"
      ]
    },
    {
      "cell_type": "code",
      "execution_count": null,
      "metadata": {
        "colab": {
          "base_uri": "https://localhost:8080/",
          "height": 204
        },
        "id": "W_KOmgbyVq8N",
        "outputId": "c0eb70d6-994f-4a6c-83ab-ad8e04689509"
      },
      "outputs": [],
      "source": [
        "df_ecoas = df[columns]\n",
        "df_ecoas.head()"
      ]
    },
    {
      "cell_type": "code",
      "execution_count": null,
      "metadata": {
        "id": "R2ef23W7XBE2"
      },
      "outputs": [],
      "source": [
        "pd.options.mode.chained_assignment = None # Disable warning\n",
        "df_ecoas = df_ecoas.dropna(subset=['Por qué no lo recomendarias', 'Comentarios'], thresh=1) # Delete all rows where there are neither negative or positive comments\n",
        "df_ecoas['GÉNERO ALUMNO'] = np.where((df_ecoas['GÉNERO ALUMNO'] == 'Femenino'), 0, df_ecoas['GÉNERO ALUMNO'])\n",
        "df_ecoas['GÉNERO ALUMNO'] = np.where((df_ecoas['GÉNERO ALUMNO'] == 'Masculino'), 1, df_ecoas['GÉNERO ALUMNO'])\n",
        "df_ecoas['Género del profesor'] = np.where((df_ecoas['Género del profesor'] == 'Femenino'), 0, df_ecoas['Género del profesor'])\n",
        "df_ecoas['Género del profesor'] = np.where((df_ecoas['Género del profesor'] == 'Masculino'), 1, df_ecoas['Género del profesor'])"
      ]
    },
    {
      "cell_type": "code",
      "execution_count": null,
      "metadata": {
        "id": "c-TbEZLMX-bd"
      },
      "outputs": [],
      "source": [
        "for asp in aspects: # We delete all incomplete submissions\n",
        "  df_ecoas.loc[df_ecoas[asp].isnull(),asp] = 99\n",
        "  df_ecoas = df_ecoas.loc[df_ecoas[asp] != 99]\n",
        "df_ecoas = df_ecoas.reset_index(drop=True) # Reset the index"
      ]
    },
    {
      "cell_type": "code",
      "execution_count": null,
      "metadata": {
        "colab": {
          "base_uri": "https://localhost:8080/"
        },
        "id": "2rTMtohSc3p7",
        "outputId": "8cbddda8-ad63-4233-9ed1-1a79da5e3045"
      },
      "outputs": [],
      "source": [
        "df_ecoas= df_ecoas.rename(columns={\"Comentarios\": \"Positivos\"})\n",
        "df_ecoas= df_ecoas.rename(columns={\"Por qué no lo recomendarias\": \"Negativos\"})\n",
        "p_only = df_ecoas['Positivos'].count()\n",
        "n_only = df_ecoas['Negativos'].count()\n",
        "print(f'Tenemos { p_only } comentarios SOLO positivos')\n",
        "print(f'Tenemos { n_only } comentarios SOLO negativos')"
      ]
    },
    {
      "cell_type": "code",
      "execution_count": null,
      "metadata": {
        "id": "FXkPzA9qduYS"
      },
      "outputs": [],
      "source": [
        "df_ecoas['Tipo Comentario'] = 0\n",
        "df_ecoas.loc[pd.notna(df_ecoas['Positivos']), 'Tipo Comentario'] = 1\n",
        "df_ecoas.loc[pd.notna(df_ecoas['Negativos']) & pd.notna(df_ecoas['Positivos']), 'Tipo Comentario'] = 2\n"
      ]
    },
    {
      "cell_type": "code",
      "execution_count": null,
      "metadata": {
        "id": "Xa2geqfgd9tE"
      },
      "outputs": [],
      "source": [
        "df_ecoas['Negativos'] = df_ecoas['Negativos'].fillna('')\n",
        "df_ecoas['Positivos'] = df_ecoas['Positivos'].fillna('')\n",
        "df_ecoas[\"Comentarios\"] = df_ecoas[\"Positivos\"] + ' ' + df_ecoas[\"Negativos\"]\n",
        "df_ecoas = df_ecoas.drop(columns=['Negativos', 'Positivos'])"
      ]
    },
    {
      "cell_type": "code",
      "execution_count": null,
      "metadata": {
        "id": "U0tCqzEbhtlC"
      },
      "outputs": [],
      "source": [
        "df_ecoas['AVG'] = df_ecoas[['APR', 'EVA', 'MET', 'PRA', 'REC', 'RET']].mean(axis=1).round(1)"
      ]
    },
    {
      "cell_type": "code",
      "execution_count": null,
      "metadata": {
        "colab": {
          "base_uri": "https://localhost:8080/",
          "height": 238
        },
        "id": "kRX7pyI-YNDI",
        "outputId": "8208dbcc-5fdc-43d9-fefa-d892fb39c32e"
      },
      "outputs": [],
      "source": [
        "# This is the data set after initial cleaning\n",
        "df_ecoas.head()"
      ]
    },
    {
      "cell_type": "markdown",
      "metadata": {
        "id": "d0SsumI9ZNnD"
      },
      "source": [
        "### Lemmatization\n",
        "*In this step we performed some NLP preprocessing techquines such as stop words removal, symbols and special characters removal and lemmatization of the entire comments column*"
      ]
    },
    {
      "cell_type": "code",
      "execution_count": null,
      "metadata": {
        "colab": {
          "base_uri": "https://localhost:8080/"
        },
        "id": "Vr05uXN6ZRoG",
        "outputId": "ac575f6e-2f11-49d1-d3ed-835897c23199"
      },
      "outputs": [],
      "source": [
        "comments = df_ecoas['Comentarios']\n",
        "\n",
        "for a in range(len(comments)):\n",
        "  if type(comments[a]) is not str:\n",
        "    print(type(comments[a]), 'No es str: ', a)\n",
        "    df_ecoas.drop(index=a)\n",
        "\n",
        "comments = comments.str.lower()\n",
        "\n",
        "nltk.download('stopwords')\n",
        "stop = stopwords.words('spanish')\n",
        "stop.remove('no')\n",
        "stop.append('es')\n",
        "\n",
        "# Tokenize the comments\n",
        "for i in range(len(comments)):\n",
        "  comments[i] = str(comments[i]).split()\n",
        "  comments[i] = [word for word in comments[i] if word not in stop]\n",
        "\n",
        "# Remove the symbols and replace them with blank spaces\n",
        "sim = \"!\\\"#$%&()*+-.,/:;<=>?@[\\]^_`{|}~\\n\"\n",
        "\n",
        "# Para cada símbolo, se remplaza por blank space\n",
        "for c in range(len(comments)):\n",
        "  for i in range(len(comments[c])):\n",
        "    for j in sim:\n",
        "      if comments[c][i].__contains__(j):\n",
        "        comments[c][i] = comments[c][i].replace(j,'')\n",
        "\n",
        "comments"
      ]
    },
    {
      "cell_type": "code",
      "execution_count": null,
      "metadata": {},
      "outputs": [],
      "source": [
        "total_less2  = 0\n",
        "total_si = 0\n",
        "total_no = 0\n",
        "\n",
        "for comm in comments:\n",
        "  if len(comm) <2:\n",
        "    total_less2 += 1\n",
        "    if 'si' in comm:\n",
        "      total_si += 1\n",
        "    if 'no' in comm:\n",
        "      total_no += 1\n",
        "\n",
        "print(f'Tenemos {total_less2} comentarios con una sola palabra, sin embargo, no los eliminaremos porque muchos son palabras que pueden ayudar al modelo')\n",
        "print(f'Tenemos {total_si} comentarios con la palabra \"si\"')\n",
        "print(f'Tenemos {total_no} comentarios con la palabra \"no\"')"
      ]
    },
    {
      "cell_type": "code",
      "execution_count": null,
      "metadata": {
        "colab": {
          "base_uri": "https://localhost:8080/",
          "height": 52
        },
        "id": "R5WLH7y2Z-AN",
        "outputId": "e2e9651c-6eab-47e2-93ec-e43c34056ffe"
      },
      "outputs": [],
      "source": [
        "comments = list(comments)\n",
        "for i in range(len(comments)):\n",
        "  while '' in comments[i]:\n",
        "    comments[i].remove('')\n",
        "\n",
        "comentarios_merge=[None]*len(comments)\n",
        "\n",
        "for i in range(len(comentarios_merge)):\n",
        "  comentarios_merge[i]=(TreebankWordDetokenizer().detokenize(comments[i]))\n",
        "\n",
        "print('Example of comment:')\n",
        "comentarios_merge[2]"
      ]
    },
    {
      "cell_type": "code",
      "execution_count": null,
      "metadata": {
        "colab": {
          "base_uri": "https://localhost:8080/",
          "height": 582,
          "referenced_widgets": [
            "389701d2273d40ceaac0ea1fe6770bf9",
            "71104e41527f43c093963158942a4336",
            "f3b8f388c33f4863ac6c8bddf56cffa5",
            "5cb6760140844a84999c1ec8726e9d14",
            "ce111a0f7bca47dab98f162c082bc5db",
            "214b5ad44af841eba680dcdbc926db60",
            "28cdd034ad26418c9c85a668c7c1346c",
            "40a2279aa24046328dd67467b8107b61",
            "8e51181d1702424a92a4d1265a0c5d04",
            "cbe076b020d5428f9450a337588f2700",
            "8ff8d8e2b37f4229a5ee6690a534a8fd",
            "4105a218d4d74ce1a198fee23c6a47c1",
            "3741dc99901d43a08d0c9eb0e3206474",
            "07961406fe9945e9a9d87eeac5fb9697",
            "0f0586cc31a14fed973648f4ec1b5509",
            "3e8a8b8f60e64d289f3974f98419257e",
            "82fe0a21e5d14af3a4d62d6b6b7e91ae",
            "4a2cc13f9467467f86e470835009272e",
            "95fbc17815014c8fbb24bc5d8782ebea",
            "b97a92f394b04742b7a852800906c168",
            "da21587cf5d84c20a7e1996051ddd52f",
            "a8d39d161ca94871b438e528b800028d",
            "9dcd0b32c5804730a55434f8fdca20f0",
            "4c29ba6091524584ad278ef8fd4715fd",
            "9c93629820004b31a6415a8368cd0b56",
            "77bd1cc999194667b1547051834caee6",
            "24ecbeaf9023488fb28043376b84946d",
            "39a3816b615448bb908d64c1526ab18f",
            "f67343df8bc841c8bd6f88b71c6a8907",
            "8d1b8e66c3d74272a3fddcab04f5ff84",
            "7994e50ea86a40b5bdbb3a6f4970bdbc",
            "cbeb85d7614a4bef81e1d2f58349eda6",
            "c208445059b84e5ea74c7b3b53014ba7",
            "516eecd4a7f44e6a9900f48281d0af79",
            "dd926215c04c4f22a5570f131a3d3f4c",
            "b11dc8ea980343eb965705564fd5b8ee",
            "106d5d22e9764650af23bc73f3331704",
            "87e5f7950edb4f108d84a6dc97a288b6",
            "02b9749c676240d7920041b9b9f2517b",
            "5d87d22e3fd74845ae51fe87dd0e4e23",
            "94a1dfb135f84eb0a9678d466bd15b60",
            "08d9afd6a7844d7dae0b5d8c3c1501e9",
            "5cf96dc27b3c4a2a95c9728ea4dcff4c",
            "6282db22aab241b0b48bac88cd013acc",
            "9ae75ea54fc6440b9a9a7bfbb65651ad",
            "7e4804c59001458ea8fdb21094b29c1c",
            "f87cc15d86d74cffa60fcce145503f7b",
            "5d17c9348cca42d683a50d18826ccb06",
            "ce231332b55d479aa7890409275a18ba",
            "e49776d3a30c4c82839778f70fa44e3f",
            "2b5a7afca77149bdb34b67a592e4e866",
            "6a65e0b6a98947849351a7d30c4d3931",
            "1476dc33a71d417fb53044bfe1476450",
            "d875d39a49a646a9bb9fca35c982bc0d",
            "73c75d0278494f20869289a495052670",
            "3801e2f5350e45ad9ebcc4e60403724f",
            "fac789eef0734f80b01b5f4505da7b49",
            "9b1b558d14714e4785d3bde0811e0caf",
            "aaebbf5431a24773a76c47bc6b5b851e",
            "2644a5e076b1401d90ed6f04416b7bec",
            "cb79152bf34d4f33931efe66e1f75aec",
            "dc79b89988fb4ae8bbc88ffd4f7640ac",
            "aab405d4d63049849b8c8a2cafc0272e",
            "252793a96d85486ab6a0efbdd0dce83e",
            "caccda03e94d46ebb0583f5beb78a34d",
            "336e28ffdf1a4e5cba8e493b2ee1fa4a",
            "4d7f8a60ed1d4204b01011c4f017bcd1",
            "a79d374f23be49a5b4e81c1fb76ec299",
            "ff7825cbd8314f0cb1ee7be7f1c26a7a",
            "c2f3f8e70aef42d596157c9818fc9cdf",
            "fea272d4247c4ab3b29f1d267fb74a55",
            "8d0c2c60ef7445799c50713775d81c9d",
            "926ab9edb2ff449fa5fa92d0f4a3e2d6",
            "29cb4039ed0447bea5af358399b38595",
            "70199d3ccd9249389a00de159818f80d",
            "d1a45982954043ae9bdd5f923e275acb",
            "6269c95b2fc94b20819e5b9912df7683",
            "abef293eeb734aa180bf04b49d90de32",
            "9e55e2652a0f4201bc92d025a27fedd7",
            "c3886e5ed62f4ed798666636080876d3",
            "48d3b42daf3d40d59c6ace714bc72bfc",
            "f917eb316ee44ebeaf2e7740c914d39d",
            "29ea0e5ffee84c46806b0b490e590334",
            "d351012da77b47819fbd42584e5a5e6a",
            "f1de933c525a4b3b88ae3f2ba1873d00",
            "4d31ad5321bc45b6a985b9270671c92c",
            "b5f837acb5ab4231bee532a7cc2f8098",
            "8856415d1882401e9ae049d96aeebf7d"
          ]
        },
        "id": "KzEvfN7NaZQy",
        "outputId": "f7e9dcf2-d3ba-4503-9dad-1271887ece99"
      },
      "outputs": [],
      "source": [
        "comments_lemm = []\n",
        "\n",
        "# Config the Stanza pipeline\n",
        "config = {\n",
        "\t'processors': 'tokenize,mwt,pos,lemma',\n",
        "  'lang': 'es',\n",
        "}\n",
        "nlp = stanza.Pipeline(**config) # Initialize the pipeline using a configuration dict"
      ]
    },
    {
      "cell_type": "code",
      "execution_count": null,
      "metadata": {},
      "outputs": [],
      "source": [
        "import concurrent.futures\n",
        "\n",
        "com_lemmatized = []\n",
        "comments_lemm = []\n",
        "\n",
        "def lemmatize_comments(comment):\n",
        "  doc = nlp(comment)\n",
        "  lemmatized_comment = []\n",
        "\n",
        "  for sent in doc.sentences:\n",
        "    lemmatized_comment.extend([word.lemma for word in sent.words])\n",
        "  return lemmatized_comment\n",
        "\n",
        "with concurrent.futures.ThreadPoolExecutor() as executor:\n",
        "  results = executor.map(lemmatize_comments, comentarios_merge)\n",
        "\n",
        "comments_lemm = list(results)\n"
      ]
    },
    {
      "cell_type": "code",
      "execution_count": null,
      "metadata": {
        "id": "GbCGQKFgbJ3F"
      },
      "outputs": [],
      "source": [
        "print('Example of comment after lemmatizaion:')\n",
        "comments_lemm[2]"
      ]
    },
    {
      "cell_type": "code",
      "execution_count": null,
      "metadata": {
        "colab": {
          "base_uri": "https://localhost:8080/",
          "height": 306
        },
        "id": "P55u0i3EbQYA",
        "outputId": "b7d90eb7-319f-474b-f0aa-1f8d607da153"
      },
      "outputs": [],
      "source": [
        "df_ecoas['Lemm'] = comments_lemm\n",
        "df_ecoas.tail()"
      ]
    },
    {
      "cell_type": "code",
      "execution_count": null,
      "metadata": {
        "colab": {
          "base_uri": "https://localhost:8080/"
        },
        "id": "VtzHlzyPiBxe",
        "outputId": "e0278a83-f481-4135-cf86-2b70a8235f87"
      },
      "outputs": [],
      "source": [
        "df_ecoas.shape"
      ]
    },
    {
      "cell_type": "code",
      "execution_count": null,
      "metadata": {
        "colab": {
          "base_uri": "https://localhost:8080/",
          "height": 306
        },
        "id": "TkoD0RSKiGVC",
        "outputId": "40b37034-1ed9-4ea9-bc1f-8ac788ba3d25"
      },
      "outputs": [],
      "source": [
        "df_ecoas.tail()"
      ]
    },
    {
      "cell_type": "code",
      "execution_count": null,
      "metadata": {
        "id": "RcH64vuibWyw"
      },
      "outputs": [],
      "source": [
        "df_ecoas.to_csv('df_ready.csv')"
      ]
    },
    {
      "cell_type": "markdown",
      "metadata": {
        "id": "baLmHHd1eTWU"
      },
      "source": [
        "## 2: Initial Data Exploration\n",
        "\n",
        "In this section we explore the dataset to reveal some of their characteristics.\n",
        "\n",
        "First, a correlation analysis between the quantitative data is performed to reveal the relationship between some educational aspects and other variables like gender and overall mean (promedio acumulado).\n",
        "\n",
        "In the second place, an alysis of the scores for the educational aspects on their distribution.\n",
        "\n",
        "In third place, we move to the text to perform the initial exploration of the comments using Term Frequency Inverse Document Frequency (TF-IDF) and use that text representation to create a Word Cloud.\n",
        "\n",
        "Lastly, we performed a Latent Dirichlet Allocation (LDA) analysis to observe if the LDA algorithm is capable of observe 8 categories/topics (in this case, educational aspects) and the coherience metrics that results from that analysis."
      ]
    },
    {
      "cell_type": "markdown",
      "metadata": {
        "id": "KZuJ1WIDfohR"
      },
      "source": [
        "### Correlation Analysis\n",
        "\n",
        "Using Perason and Point-biserial correlation coefficients."
      ]
    },
    {
      "cell_type": "code",
      "execution_count": null,
      "metadata": {},
      "outputs": [],
      "source": [
        "df_ecoas=pd.read_csv('df_ready.csv', index_col=0)\n",
        "df_ecoas.head()"
      ]
    },
    {
      "cell_type": "code",
      "execution_count": null,
      "metadata": {},
      "outputs": [],
      "source": [
        "comments = df_ecoas['Comentarios']\n",
        "\n",
        "for a in range(len(comments)):\n",
        "  if type(comments[a]) is not str:\n",
        "    print(type(comments[a]), 'No es str: ', a)\n",
        "    df_ecoas.drop(index=a)\n",
        "\n",
        "comments = comments.str.lower()\n",
        "\n",
        "nltk.download('stopwords')\n",
        "stop = stopwords.words('spanish')\n",
        "stop.remove('no')\n",
        "stop.append('es')\n",
        "\n",
        "# Tokenize the comments\n",
        "for i in range(len(comments)):\n",
        "  comments[i] = str(comments[i]).split()\n",
        "  comments[i] = [word for word in comments[i] if word not in stop]\n",
        "\n",
        "# Remove the symbols and replace them with blank spaces\n",
        "sim = \"!\\\"#$%&()*+-.,/:;<=>?@[\\]^_`{|}~\\n\"\n",
        "\n",
        "# Para cada símbolo, se remplaza por blank space\n",
        "for c in range(len(comments)):\n",
        "  for i in range(len(comments[c])):\n",
        "    for j in sim:\n",
        "      if comments[c][i].__contains__(j):\n",
        "        comments[c][i] = comments[c][i].replace(j,'')\n",
        "\n",
        "comments"
      ]
    },
    {
      "cell_type": "code",
      "execution_count": null,
      "metadata": {
        "colab": {
          "base_uri": "https://localhost:8080/",
          "height": 475
        },
        "id": "aPJM5X6Qh0Gz",
        "outputId": "53f5a431-9f8b-4de6-e429-b1cada0b3b98"
      },
      "outputs": [],
      "source": [
        "df_ecoas.corr(numeric_only=True)"
      ]
    },
    {
      "cell_type": "code",
      "execution_count": null,
      "metadata": {
        "colab": {
          "base_uri": "https://localhost:8080/"
        },
        "id": "YPvbuSauh633",
        "outputId": "6cafb6c6-e34d-4f8c-bf9a-37083e4a223c"
      },
      "outputs": [],
      "source": [
        "df_ecoas['MEJ'].value_counts() # Now lets focus on binary variables. MEJ"
      ]
    },
    {
      "cell_type": "code",
      "execution_count": null,
      "metadata": {
        "colab": {
          "base_uri": "https://localhost:8080/",
          "height": 111
        },
        "id": "pz3OmRreiEYG",
        "outputId": "53560a01-512d-495c-8841-ad686d273c18"
      },
      "outputs": [],
      "source": [
        "df_ecoas[['APR', 'DOM', 'EVA', 'MET', 'PRA', 'REC', 'RET', 'ASE', 'AVG']].corrwith(df_ecoas['MEJ'], method=stats.pointbiserialr)"
      ]
    },
    {
      "cell_type": "code",
      "execution_count": null,
      "metadata": {
        "colab": {
          "base_uri": "https://localhost:8080/"
        },
        "id": "kztt-WNLlzSa",
        "outputId": "ef1e2b0e-9323-4fa3-a7c6-e0f5df0903b3"
      },
      "outputs": [],
      "source": [
        "df_ecoas['GÉNERO ALUMNO'].value_counts()"
      ]
    },
    {
      "cell_type": "code",
      "execution_count": null,
      "metadata": {
        "colab": {
          "base_uri": "https://localhost:8080/",
          "height": 111
        },
        "id": "AUDv3Bccl6-B",
        "outputId": "f392b3a5-1ec5-43dd-b524-1c6586c551e4"
      },
      "outputs": [],
      "source": [
        "df_ecoas[['APR', 'DOM', 'EVA', 'MEJ', 'MET', 'PRA', 'REC', 'RET', 'ASE', 'AVG']].corrwith(df_ecoas['GÉNERO ALUMNO'], method=stats.pointbiserialr)"
      ]
    },
    {
      "cell_type": "code",
      "execution_count": null,
      "metadata": {
        "colab": {
          "base_uri": "https://localhost:8080/"
        },
        "id": "o8NujU7LmbnM",
        "outputId": "8e7da9a5-c127-4972-957e-50a8ca2139fe"
      },
      "outputs": [],
      "source": [
        "df_ecoas['Género del profesor'].value_counts()"
      ]
    },
    {
      "cell_type": "code",
      "execution_count": null,
      "metadata": {
        "colab": {
          "base_uri": "https://localhost:8080/",
          "height": 111
        },
        "id": "ARFCXv0rmes6",
        "outputId": "1c579559-81f1-41fe-9b0f-794c80936ee2"
      },
      "outputs": [],
      "source": [
        "df_ecoas[['APR', 'DOM', 'EVA', 'MEJ', 'MET', 'PRA', 'REC', 'RET', 'ASE', 'AVG']].corrwith(df_ecoas['Género del profesor'])"
      ]
    },
    {
      "cell_type": "markdown",
      "metadata": {
        "id": "2EegRBntiY07"
      },
      "source": [
        "### Distribution Analysis\n",
        "\n",
        "*We are using the Kernel Density Estimation, which is a non-parametric way to estimate the probability density function (PDF) of a random variable. This method is used to get a smooth curve (function) that is a good guess of the distribution of a set of data*"
      ]
    },
    {
      "cell_type": "markdown",
      "metadata": {
        "id": "2IJ8mcc-wXin"
      },
      "source": [
        "*As we can observe, the distribution of the average scores is highly umbalanced.*"
      ]
    },
    {
      "cell_type": "code",
      "execution_count": null,
      "metadata": {
        "colab": {
          "base_uri": "https://localhost:8080/",
          "height": 447
        },
        "id": "Kbf0vydMiYe4",
        "outputId": "69278b1d-dc16-4970-8689-af6e393e1f77"
      },
      "outputs": [],
      "source": [
        "df_ecoas['AVG'].plot(kind='kde')"
      ]
    },
    {
      "cell_type": "code",
      "execution_count": null,
      "metadata": {
        "colab": {
          "base_uri": "https://localhost:8080/",
          "height": 449
        },
        "id": "9atTabWjwq1r",
        "outputId": "3a2c0426-080d-42f1-9c9e-15de373bdc77"
      },
      "outputs": [],
      "source": [
        "df_ecoas['REC'].plot(kind='kde')"
      ]
    },
    {
      "cell_type": "markdown",
      "metadata": {
        "id": "86skdAPPw34U"
      },
      "source": [
        "*For the question \"Would you consider this professors as one of the best you have ever had?\", measured by the aspect MEJ, we can observe that the umbalance also exists but not in the same distribution as the AVG score.*\n",
        "\n",
        "*This motivated us to perform a threshold for the AVG score and observe if the umbalance could follow a similar distribution like the one below.*\n",
        "\n",
        "*Remember that the MEJ aspect has:*\n",
        "- *Considered as on the bests -> 63,162*\n",
        "- *Not considered as on the bests -> 33,378*"
      ]
    },
    {
      "cell_type": "code",
      "execution_count": null,
      "metadata": {
        "colab": {
          "base_uri": "https://localhost:8080/"
        },
        "id": "3Zgf7KxNxosq",
        "outputId": "3c028900-f1e5-421f-93be-544018131905"
      },
      "outputs": [],
      "source": [
        "yes = 63162\n",
        "no = 33378\n",
        "total = yes + no\n",
        "print(f'The percentage of YES is: {round(yes/total*100,2)}%')\n",
        "print(f'The percentage of NO is: {round(no/total*100,2)}%')"
      ]
    },
    {
      "cell_type": "code",
      "execution_count": null,
      "metadata": {
        "colab": {
          "base_uri": "https://localhost:8080/",
          "height": 472
        },
        "id": "fmUECZA8wqts",
        "outputId": "8b9ce5e6-ad82-4cb2-9475-48cadf2f1150"
      },
      "outputs": [],
      "source": [
        "df_ecoas['MEJ'].plot(kind='kde')\n",
        "# plt.legend(title='Type of comment')\n",
        "plt.title(\"MEJ aspect\")\n",
        "plt.xlabel(\"Type\")\n",
        "plt.ylabel(\"Estimated Density\")\n",
        "plt.savefig('MEJ_kde.png', dpi=300)\n",
        "plt.show()"
      ]
    },
    {
      "cell_type": "code",
      "execution_count": null,
      "metadata": {
        "colab": {
          "base_uri": "https://localhost:8080/",
          "height": 472
        },
        "id": "EgSxAJqglrHN",
        "outputId": "da26e19d-8eb1-4a36-9b78-616372b562ae"
      },
      "outputs": [],
      "source": [
        "df_ecoas['GÉNERO ALUMNO'].plot(kind='kde')\n",
        "# plt.legend(title='Type of comment')\n",
        "plt.title(\"Student Gender\")\n",
        "plt.xlabel(\"Type\")\n",
        "plt.ylabel(\"Estimated Density\")\n",
        "plt.savefig('student_gender_kde.png', dpi=300)\n",
        "plt.show()"
      ]
    },
    {
      "cell_type": "code",
      "execution_count": null,
      "metadata": {
        "colab": {
          "base_uri": "https://localhost:8080/",
          "height": 472
        },
        "id": "ND8aAQ6cmWOX",
        "outputId": "588fcb58-76a2-4d2a-a01e-03d468492e6c"
      },
      "outputs": [],
      "source": [
        "df_ecoas['Género del profesor'].plot(kind='kde')\n",
        "# plt.legend(title='Type of comment')\n",
        "plt.title(\"Professor Gender\")\n",
        "plt.xlabel(\"Type\")\n",
        "plt.ylabel(\"Estimated Density\")\n",
        "plt.savefig('professor_gender_kde.png', dpi=300)\n",
        "plt.show()"
      ]
    },
    {
      "cell_type": "markdown",
      "metadata": {
        "id": "lgsqU7PBVuKt"
      },
      "source": [
        "*There is another imbalance in the \"kind of comment\" label, the majority of students wrote positive-only comments (1), followed by positive-and-negative comments (2) and only a small portion of the students wrote negative-only (0) comments.*"
      ]
    },
    {
      "cell_type": "code",
      "execution_count": null,
      "metadata": {
        "colab": {
          "base_uri": "https://localhost:8080/",
          "height": 472
        },
        "id": "c9vxSD8HUu6-",
        "outputId": "08d6282f-5377-4920-f597-99c9ec9f5f3d"
      },
      "outputs": [],
      "source": [
        "df_ecoas['Tipo Comentario'].plot(kind='kde')\n",
        "# plt.legend(title='Type of comment')\n",
        "plt.title(\"Type of comment\")\n",
        "plt.xlabel(\"Type\")\n",
        "plt.ylabel(\"Estimated Density\")\n",
        "plt.savefig('typecomm.png', dpi=300)\n",
        "plt.show()"
      ]
    },
    {
      "cell_type": "code",
      "execution_count": null,
      "metadata": {
        "colab": {
          "base_uri": "https://localhost:8080/",
          "height": 289
        },
        "id": "bZytGVr1qFg-",
        "outputId": "10dfd538-7e6b-4ded-d833-61795d417eac"
      },
      "outputs": [],
      "source": [
        "df_ecoas.head()"
      ]
    },
    {
      "cell_type": "markdown",
      "metadata": {
        "id": "S23hIhyxBU6M"
      },
      "source": [
        "#### Using a threshold to change the data distribution\n",
        "*We will use a scale to define a threshold and change the values in the aspects from a 11-point scale to binary variables*"
      ]
    },
    {
      "cell_type": "code",
      "execution_count": null,
      "metadata": {
        "colab": {
          "base_uri": "https://localhost:8080/"
        },
        "id": "wVH83YDWCDws",
        "outputId": "47e090bc-aa3b-4499-b629-789185ae9bfb"
      },
      "outputs": [],
      "source": [
        "scales = [[0, 9, 0], [9.1, 10, 1]]\n",
        "scales"
      ]
    },
    {
      "cell_type": "code",
      "execution_count": null,
      "metadata": {
        "colab": {
          "base_uri": "https://localhost:8080/"
        },
        "id": "vWCwdpZOCJbs",
        "outputId": "35aa0d00-81ef-4c5b-fd1a-53bde796fb81"
      },
      "outputs": [],
      "source": [
        "aspects.append('AVG')\n",
        "aspects.remove('MEJ') # we remove MEJ because we don't want to use the scale on that column\n",
        "aspects"
      ]
    },
    {
      "cell_type": "code",
      "execution_count": null,
      "metadata": {
        "id": "iv9YiRJxCUT_"
      },
      "outputs": [],
      "source": [
        "df_before_scale = df_ecoas.copy() # We save a dataframe copy just in case"
      ]
    },
    {
      "cell_type": "code",
      "execution_count": null,
      "metadata": {
        "colab": {
          "base_uri": "https://localhost:8080/",
          "height": 272
        },
        "id": "EMLZTpWACrAx",
        "outputId": "9d9ab8e3-2113-431f-9a16-1623e3e6bdb3"
      },
      "outputs": [],
      "source": [
        "for asp in aspects:\n",
        "    for sc in scales:\n",
        "        df_ecoas[asp] = np.where((df_ecoas[asp] >= sc[0]) & (df_ecoas[asp] <= sc[1]), sc[2], df_ecoas[asp])\n",
        "df_ecoas = df_ecoas.reset_index(drop=True)\n",
        "df_ecoas.head()"
      ]
    },
    {
      "cell_type": "markdown",
      "metadata": {
        "id": "32j7f5JeEIpP"
      },
      "source": [
        "*Now all the columns are more or less in the same proportions*"
      ]
    },
    {
      "cell_type": "code",
      "execution_count": null,
      "metadata": {
        "colab": {
          "base_uri": "https://localhost:8080/"
        },
        "id": "6PmtJTl9C0Gy",
        "outputId": "44004c4b-24b0-4a40-aa9d-544813903b39"
      },
      "outputs": [],
      "source": [
        "for asp in aspects:\n",
        "  print(df_ecoas[asp].value_counts(normalize = True))\n",
        "  print('- - - - - - - - - - - - ')\n",
        "# MEJ is not in aspects so we print it separated\n",
        "print(df_ecoas['MEJ'].value_counts(normalize = True))\n",
        "print('- - - - - - - - - - - - ')"
      ]
    },
    {
      "cell_type": "markdown",
      "metadata": {
        "id": "tHN5x4DaEteu"
      },
      "source": [
        "*This is how the distribution of the data set looked before.*"
      ]
    },
    {
      "cell_type": "code",
      "execution_count": null,
      "metadata": {
        "colab": {
          "base_uri": "https://localhost:8080/",
          "height": 472
        },
        "id": "XyzYgfSJEU73",
        "outputId": "a9f0bb84-cd20-4e61-983e-ddbfca1a892c"
      },
      "outputs": [],
      "source": [
        "df_before_scale[aspects].plot(kind='kde')\n",
        "# Add legend to plot\n",
        "plt.title('Kernel Density Estimation Plot')\n",
        "plt.legend(aspects, title='Aspects')\n",
        "plt.xlabel(\"Score\")\n",
        "plt.ylabel(\"Estimated Density\")\n",
        "plt.savefig('initial_distribution_kde.png', dpi=300)\n",
        "plt.show()"
      ]
    },
    {
      "cell_type": "markdown",
      "metadata": {
        "id": "lfCK6ocXTHoq"
      },
      "source": [
        "Using a threshold, help us in reducing the variability since as shown before, that highly correlated values are not beneficial for the model. The distribution shape will change completely, and will now have a binomial-like distribution where the data points are categorized into one of two groups 0 or 1"
      ]
    },
    {
      "cell_type": "code",
      "execution_count": null,
      "metadata": {
        "colab": {
          "base_uri": "https://localhost:8080/"
        },
        "id": "UF7Sgvj6TzQw",
        "outputId": "a189f8e6-3be7-4175-f4e7-90a057809328"
      },
      "outputs": [],
      "source": [
        "aspects.append('MEJ')\n",
        "aspects"
      ]
    },
    {
      "cell_type": "code",
      "execution_count": null,
      "metadata": {
        "colab": {
          "base_uri": "https://localhost:8080/",
          "height": 472
        },
        "id": "xit1doIBTtm7",
        "outputId": "f62d0ac5-acb2-4875-9878-485685be47d2"
      },
      "outputs": [],
      "source": [
        "df_ecoas[aspects].plot(kind='kde')\n",
        "# Add legend to plot\n",
        "plt.title('Kernel Density Estimation Plot')\n",
        "plt.legend(aspects, title='Aspects')\n",
        "plt.xlabel(\"Score\")\n",
        "plt.ylabel(\"Estimated Density\")\n",
        "plt.savefig('scaled_distribution_kde.png', dpi=300)\n",
        "plt.show()"
      ]
    },
    {
      "cell_type": "markdown",
      "metadata": {
        "id": "h1x_RWciUSZS"
      },
      "source": [
        "The loss of information is evidenced in the new correlation matrix after the threshold is applied. As we can see, the data is now less correlated."
      ]
    },
    {
      "cell_type": "code",
      "execution_count": null,
      "metadata": {
        "colab": {
          "base_uri": "https://localhost:8080/",
          "height": 359
        },
        "id": "QIMKIFxyUMBs",
        "outputId": "849f3490-c363-4db3-b8ca-7d0067fddd7e"
      },
      "outputs": [],
      "source": [
        "df_ecoas[aspects].corr(numeric_only=True)"
      ]
    },
    {
      "cell_type": "markdown",
      "metadata": {},
      "source": [
        "## 3: Text Representations\n",
        "We will generate different text representations of the comments: TF-IDF, Word Embeddings and Transformers Encoding"
      ]
    },
    {
      "cell_type": "markdown",
      "metadata": {},
      "source": [
        "### 3.1:TF-IDF\n",
        "Term Frequency Inverse Document Frequency"
      ]
    },
    {
      "cell_type": "code",
      "execution_count": null,
      "metadata": {},
      "outputs": [],
      "source": [
        "df_ecoas.head()"
      ]
    },
    {
      "cell_type": "code",
      "execution_count": null,
      "metadata": {},
      "outputs": [],
      "source": [
        "from ast import literal_eval\n",
        "df_ecoas['Lemm'] = df_ecoas['Lemm'].apply(literal_eval)"
      ]
    },
    {
      "cell_type": "code",
      "execution_count": null,
      "metadata": {},
      "outputs": [],
      "source": [
        "commentsL = df_ecoas['Lemm']"
      ]
    },
    {
      "cell_type": "code",
      "execution_count": null,
      "metadata": {},
      "outputs": [],
      "source": [
        "# Merge comments\n",
        "comentarios_merge=[None]*len(commentsL)\n",
        "for i in range(len(commentsL)):\n",
        "  comentarios_merge[i]=(TreebankWordDetokenizer().detokenize(list(commentsL[i])))"
      ]
    },
    {
      "cell_type": "code",
      "execution_count": null,
      "metadata": {},
      "outputs": [],
      "source": [
        "comentarios_merge[2]"
      ]
    },
    {
      "cell_type": "code",
      "execution_count": null,
      "metadata": {},
      "outputs": [],
      "source": [
        "aspects_classes = df_ecoas.drop(columns=['Comentarios', 'Lemm', 'Género del profesor', 'GÉNERO ALUMNO', 'PROM ACUMULADO EN PROFESIONAL','Tipo Comentario', 'AVG', 'MEJ'])\n",
        "aspects_classes.head()"
      ]
    },
    {
      "cell_type": "code",
      "execution_count": null,
      "metadata": {},
      "outputs": [],
      "source": [
        "comments_train,comments_test,aspects_train, aspects_test = train_test_split(comentarios_merge, aspects_classes, test_size=0.25, random_state=30)\n",
        "print('Train:', 'Comentarios->', len(comments_train), 'Aspectos->',  aspects_train.shape, '\\nTest:', 'Comentarios->', len(comments_test),'Aspectos->', aspects_test.shape)"
      ]
    },
    {
      "cell_type": "code",
      "execution_count": null,
      "metadata": {},
      "outputs": [],
      "source": [
        "comments_train[:5]"
      ]
    },
    {
      "cell_type": "code",
      "execution_count": null,
      "metadata": {},
      "outputs": [],
      "source": [
        "vectorizer = TfidfVectorizer()\n",
        "tf_x_train = vectorizer.fit_transform(comments_train)\n",
        "tf_x_test = vectorizer.transform(comments_test)\n",
        "\n",
        "tf_idf = pd.DataFrame(tf_x_train.todense())\n",
        "tf_idf.columns = vectorizer.get_feature_names_out()\n",
        "tf_idf_matrix = tf_idf.T\n",
        "\n",
        "tf_idf_matrix['Count'] = tf_idf_matrix.sum(axis=1)\n",
        "\n",
        "# Top 15 words with the highest count\n",
        "tf_idf_matrix = tf_idf_matrix.sort_values(by='Count', ascending=False).head(15)\n",
        "\n",
        "print(tf_idf_matrix.drop(columns='Count').head(15))"
      ]
    },
    {
      "cell_type": "code",
      "execution_count": null,
      "metadata": {},
      "outputs": [],
      "source": [
        "# Wordcloud\n",
        "# Combine all the text data into a single string\n",
        "text_data = ' '.join(comments_train)\n",
        "\n",
        "# Create a WordCloud object\n",
        "wordcloud = WordCloud(width=1600, height=800, background_color='white').generate(text_data)\n",
        "\n",
        "# collocations = False if you don't want to consider bigrams\n",
        "\n",
        "# Display the word cloud\n",
        "plt.figure(figsize=(20, 10))\n",
        "plt.imshow(wordcloud, interpolation='bilinear')\n",
        "plt.axis('off')\n",
        "plt.savefig('WordCloud_TFIDF.png', dpi=300)\n",
        "plt.show()"
      ]
    },
    {
      "cell_type": "markdown",
      "metadata": {},
      "source": [
        "### 3.2:Word-Embeddings"
      ]
    },
    {
      "cell_type": "code",
      "execution_count": null,
      "metadata": {},
      "outputs": [],
      "source": [
        "from gensim.models import Word2Vec\n",
        "from sklearn.svm import SVC\n",
        "from sklearn.model_selection import train_test_split\n",
        "\n",
        "# Train Word2Vec model on the comments\n",
        "model = Word2Vec(sentences=comments, vector_size=100, window=5, min_count=1, workers=4)\n",
        "\n",
        "# You can access the word vectors using the 'wv' attribute of the model\n",
        "word_vectors = model.wv\n",
        "\n",
        "# Get the vector representation of a word\n",
        "vector = word_vectors['maestro']\n",
        "# print(vector)\n",
        "# Find similar words\n",
        "similar_words = word_vectors.most_similar('maestro')\n",
        "print(f'This are the most similar words to `maestro`: {similar_words}')"
      ]
    },
    {
      "cell_type": "code",
      "execution_count": null,
      "metadata": {},
      "outputs": [],
      "source": [
        "# Other similar words\n",
        "similar_words = word_vectors.most_similar('dominio')\n",
        "print(f'This are the most similar words to `dominio`: {similar_words}')\n",
        "\n",
        "similar_words = word_vectors.most_similar('actividad')\n",
        "print(f'This are the most similar words to `actividad`: {similar_words}')"
      ]
    },
    {
      "cell_type": "code",
      "execution_count": null,
      "metadata": {},
      "outputs": [],
      "source": [
        "# Function to flatten the list of lists\n",
        "def flatten_list(l):\n",
        "    return [item for sublist in l for item in sublist]"
      ]
    },
    {
      "cell_type": "code",
      "execution_count": null,
      "metadata": {},
      "outputs": [],
      "source": [
        "# Aspects keywords # this one give me max similarity of 0.82 and min from those max of 0.15\n",
        "MET_keywords = 'innovación tecnología herramientas explicaciones claridad precisión medios técnicas apoyo facilitación estilos ritmos aprendizaje recursos digitales aplicaciones interactivas plataformas educativas en línea dinámico participativo estrategias adaptación educación efectiva avanzadas enriquecimiento experiencia metodología actividades instructor estudiantes recursos digitales innovadoras tecnológicas estratégicas adaptativas participación'\n",
        "PRA_keywords = 'casos proyectos problemas prácticas laboratorios talleres empresas organizaciones interacción profesionales teoría desafíos mundo real habilidades prácticas críticas resolución aplicación consolidación enfoque conocimiento preparación fomento desarrollo campo retos experiencia aprendizaje activo inmersión profundización comprensión contextualización aplicada realidad dinamismo pragmatismo soluciones'\n",
        "ASE_keywords = 'interacción asesoría proceso éxito disponibilidad medios horarios ambiente respeto abierto apoyo dudas confianza profundo significativo potencial desarrollo profesor estudiantes entorno confianza motivación comprensión orientación consultas retroalimentación crecimiento diálogo comunicación empatía resolución preguntas accesibilidad dedicación involucramiento participación escucha asesoramiento'\n",
        "EVA_keywords = 'evaluación retroalimentación fortalezas debilidades herramientas justa equitativa políticas criterios continua pruebas trabajos presentaciones orales progreso desarrollo mejora sistema integral métodos entendimiento contribución estudiante fomento calificación desempeño objetivos logros aprendizaje feedback autoevaluación peer-review competencias resultados análisis reflexión crecimiento mejora continua'\n",
        "RET_keywords = 'reto intelectual estímulo interés motivación esfuerzo calidad aprendizaje crecimiento desafío tareas complejas significativas pensamiento crítico creatividad innovación conocimientos habilidades futuro profesional personal desarrollo solución problemas análisis reflexión autonomía perseverancia compromiso curiosidad exploración adquisición adaptabilidad resiliencia liderazgo colaboración ética'\n",
        "APR_keywords = 'guía inspiración compromiso desarrollo crecimiento integral educador confianza pasión conocimiento entorno empoderamiento exploración cuestionamiento contribución proceso educativo centrado estudiante autonomía responsabilidad preparación desafíos futuros liderazgo ética colaboración innovación creatividad pensamiento crítico motivación perseverancia adaptabilidad resiliencia curiosidad explorador activo participativo'\n",
        "DOM_keywords = 'dominio materia transmisión contenido educativo conocimientos experiencia campo claro interesante relevante conexiones conceptos curiosidad interés adaptación necesidades individuales enriquecimiento profundización experto profesional capacidad inspirador engagement contextualización aplicabilidad dinámica interactividad perspicacia visión comprensión analítica crítica metodológica didáctica pedagógica innovadora'\n",
        "\n",
        "aspect_keywords = [MET_keywords, PRA_keywords, ASE_keywords, EVA_keywords, RET_keywords, APR_keywords, DOM_keywords]\n",
        "\n",
        "# Tokenize the aspect keywords\n",
        "for i in range(len(aspect_keywords)):\n",
        "  aspect_keywords[i] = str(aspect_keywords[i]).split()\n",
        "  aspect_keywords[i] = [word for word in aspect_keywords[i] if word not in stop]\n",
        "\n",
        "print('Aspect keywords:', aspect_keywords)"
      ]
    },
    {
      "cell_type": "code",
      "execution_count": null,
      "metadata": {},
      "outputs": [],
      "source": [
        "# Aspects general descriptions # this one give me max similarity of nan and min from those max of nan\n",
        "MET = 'La metodología y actividades de aprendizaje son cruciales para una educación efectiva. Este aspecto abarca cómo el instructor brinda explicaciones claras y precisas, utilizando medios y técnicas innovadoras, junto con herramientas tecnológicas avanzadas. Estas estrategias facilitan y apoyan el aprendizaje del estudiante, adaptándose a diferentes estilos y ritmos de aprendizaje. La incorporación de recursos digitales, aplicaciones interactivas y plataformas educativas en línea enriquece la experiencia educativa, permitiendo un aprendizaje más dinámico y participativo'\n",
        "PRA = 'La comprensión de conceptos a través de su aplicación práctica es fundamental para consolidar el aprendizaje. Este enfoque incluye la resolución de casos, proyectos o problemas reales, así como la realización de prácticas en laboratorios, talleres, visitas a empresas u organizaciones y la interacción con profesionales del campo. Estas actividades no solo enriquecen el conocimiento teórico sino que también preparan a los estudiantes para los desafíos del mundo real, fomentando el desarrollo de habilidades prácticas, críticas y de resolución de problemas'\n",
        "ASE = 'La interacción efectiva con el profesor y la asesoría recibida son esenciales para un proceso de aprendizaje exitoso. Este aspecto destaca la disponibilidad del profesor en medios y horarios previamente acordados, proporcionando un ambiente de aprendizaje respetuoso y abierto. La capacidad del profesor para apoyar en la resolución de dudas y fomentar un entorno de confianza promueve un aprendizaje más profundo y significativo, permitiendo a los estudiantes desarrollar su potencial al máximo'\n",
        "EVA = 'El sistema de evaluación juega un papel crucial en el proceso educativo, proporcionando retroalimentación valiosa sobre las fortalezas y debilidades del estudiante. Utilizando un conjunto diverso de herramientas, este sistema permite evaluar de manera justa y equitativa, basándose en políticas y criterios claramente establecidos. La evaluación continua, las pruebas, los trabajos de curso y las presentaciones orales son ejemplos de métodos que contribuyen a un entendimiento integral del progreso del estudiante, fomentando su desarrollo y mejora continua.'\n",
        "RET = 'El nivel de reto intelectual es vital para estimular el interés y la motivación de los estudiantes, exigiéndoles dar su mayor esfuerzo y cumplir con calidad en beneficio de su aprendizaje y crecimiento personal. Este aspecto implica desafiar a los estudiantes con tareas complejas y significativas, promoviendo el pensamiento crítico, la creatividad y la innovación. Al enfrentarse a retos intelectuales, los estudiantes no solo adquieren conocimientos sino que también desarrollan habilidades esenciales para su futuro profesional y personal'\n",
        "APR = 'El papel del educador como guía del aprendizaje es inspirar y demostrar compromiso con el aprendizaje, desarrollo y crecimiento integral de los estudiantes. A través de su ejemplo y dedicación, el profesor inspira confianza y pasión por el conocimiento, facilitando un entorno de aprendizaje en el que los estudiantes se sienten empoderados para explorar, cuestionar y contribuir activamente a su propio proceso educativo. Este enfoque centrado en el estudiante promueve la autonomía y la responsabilidad en el aprendizaje, preparándolos para enfrentar desafíos futuros con confianza'\n",
        "DOM = 'El dominio de la materia por parte del profesor es un componente esencial para transmitir efectivamente el contenido educativo. Este aspecto refleja los profundos conocimientos y experiencia del educador en su campo, permitiéndole presentar los temas de manera clara, interesante y relevante. Un sólido dominio facilita la generación de conexiones entre conceptos, estimulando la curiosidad y el interés de los estudiantes. Además, habilita al profesor para adaptar su enseñanza a las necesidades individuales de los estudiantes, enriqueciendo su experiencia de aprendizaje.'\n",
        "\n",
        "aspect_descriptions = [MET, PRA, ASE, EVA, RET, APR, DOM]\n",
        "\n",
        "# Tokenize the aspect keywords\n",
        "for i in range(len(aspect_descriptions)):\n",
        "  aspect_descriptions[i] = str(aspect_descriptions[i]).split()\n",
        "  aspect_descriptions[i] = [word for word in aspect_descriptions[i] if word not in stop]\n",
        "\n",
        "print('Aspect general description:', aspect_descriptions)"
      ]
    },
    {
      "cell_type": "code",
      "execution_count": null,
      "metadata": {},
      "outputs": [],
      "source": [
        "# Aspects descriptions for the students point of view\n",
        "MET_student = 'Como estudiante, valoro cuando los profesores utilizan metodologías y actividades de aprendizaje que me brindan explicaciones claras y precisas. Aprecio especialmente el uso de medios y técnicas innovadoras, como herramientas tecnológicas, que hacen el aprendizaje más accesible y atractivo. Estas estrategias no solo facilitan mi comprensión de los temas, sino que también estimulan mi curiosidad y deseo de explorar más allá de lo básico, apoyando eficazmente mi proceso educativo'\n",
        "PRA_student = 'La posibilidad de aplicar en la práctica lo que aprendo en teoría es fundamental para mí. A través de la resolución de casos reales, proyectos, y prácticas en laboratorios o talleres, siento que mi educación cobra sentido. Visitar empresas y organizaciones o interactuar con profesionales que aplican los temas discutidos en clase me ayuda a comprender mejor cómo se utilizan estos conceptos en el mundo real, preparándome para mi futuro profesional'\n",
        "ASE_student = 'La interacción con mi profesor y la asesoría que recibo son clave para mi aprendizaje. Cuando un profesor está disponible para resolver mis dudas, ya sea en horarios convenidos o a través de medios digitales, me siento más apoyado y confiado en mi proceso educativo. Un ambiente de aprendizaje respetuoso y abierto, donde puedo expresar mis opiniones y preguntas sin temor, es esencial para mi desarrollo académico y personal'\n",
        "EVA_student = 'El sistema de evaluación me ayuda a entender mis fortalezas y debilidades dentro del curso. Aprecio cuando se utilizan diversas herramientas de evaluación que ofrecen retroalimentación constructiva, basadas en criterios claros y justos. Esta retroalimentación me permite identificar áreas de mejora y reconocer mis logros, guiándome hacia un aprendizaje más efectivo y personalizado'\n",
        "RET_student = 'Me siento genuinamente motivado cuando los desafíos intelectuales me exigen dar lo mejor de mí. Los retos que me llevan a cuestionar lo que sé y a esforzarme por entender y aplicar conceptos complejos enriquecen mi experiencia educativa. Este nivel de exigencia no solo impulsa mi crecimiento académico, sino que también fomenta mi desarrollo personal, preparándome para enfrentar futuros desafíos con confianza.'\n",
        "APR_student = 'Cuando un profesor actúa como guía en mi aprendizaje, inspirándome y demostrando un compromiso genuino con mi desarrollo, siento que mi educación se personaliza y profundiza. Esta actitud no solo me motiva a aprender más, sino que también me enseña la importancia del compromiso y la pasión por el conocimiento. Un educador que guía, desafía e inspira es fundamental para mi crecimiento integral como estudiante'\n",
        "DOM_student = 'El dominio de la materia por parte de mi profesor es imprescindible. Cuando un educador tiene un profundo conocimiento y experiencia en el tema que enseña, las clases son más claras, interesantes y relevantes. Este dominio permite al profesor conectar los conceptos con la vida real, despertando mi curiosidad y fomentando un aprendizaje más significativo. Además, un profesor que realmente entiende su materia puede adaptar la enseñanza a las necesidades de sus estudiantes, enriqueciendo nuestra experiencia educativa.'\n",
        "\n",
        "aspects_studentpov = [MET_student, PRA_student, ASE_student, EVA_student, RET_student, APR_student, DOM_student]\n",
        "\n",
        "# Tokenize the aspect keywords\n",
        "for i in range(len(aspects_studentpov)):\n",
        "  aspects_studentpov[i] = str(aspects_studentpov[i]).split()\n",
        "  aspects_studentpov[i] = [word for word in aspects_studentpov[i] if word not in stop]\n",
        "\n",
        "print('Aspect descriptions as student POV:', aspects_studentpov)"
      ]
    },
    {
      "cell_type": "code",
      "execution_count": null,
      "metadata": {},
      "outputs": [],
      "source": [
        "# Aspects exact questions in the SET\n",
        "ecoa_questions = [\n",
        "# MET\n",
        "'metodología y actividades de aprendizaje (me brindó explicaciones claras y precisas, medios y técnicas innovadoras o herramientas tecnológicas que facilitaron y apoyaron mi aprendizaje)',\n",
        "# PRA\n",
        "'comprensión de conceptos en términos de su aplicación en la práctica (resolví casos, proyectos o problemas reales, realicé prácticas en laboratorios o talleres, visitas a empresas u organizaciones, o interactué con personas que trabajan aplicando los temas de la clase)',\n",
        "# ASE\n",
        "'interacción con el profesor y la asesoría recibida durante el proceso de aprendizaje (me apoyó para resolver dudas, el profesor estuvo disponible en medios y horarios previamente acordados, hubo un ambiente de aprendizaje respetuoso y abierto)',\n",
        "# EVA\n",
        "'sistema de evaluación (se utilizó un conjunto de herramientas que me dieron retroalimentación sobre mis fortalezas y debilidades en el curso con base en políticas y criterios establecidos oportunamente)',\n",
        "# RET\n",
        "'nivel de reto intelectual (me motivó y me exigió dar mi mayor esfuerzo y cumplir con calidad en beneficio de mi aprendizaje y mi crecimiento personal)',\n",
        "# APR\n",
        "'papel como guía del aprendizaje (me inspiró y demostró compromiso con mi aprendizaje, desarrollo y crecimiento integral)',\n",
        "# DOM\n",
        "'dominio de la materia (sus conocimientos y experiencia)',\n",
        "]\n",
        "\n",
        "# Tokenize the aspect keywords\n",
        "for i in range(len(ecoa_questions)):\n",
        "  ecoa_questions[i] = str(ecoa_questions[i]).split()\n",
        "  ecoa_questions[i] = [word for word in ecoa_questions[i] if word not in stop]\n",
        "\n",
        "\n",
        "print('Aspect ecoa questions:', ecoa_questions)"
      ]
    },
    {
      "cell_type": "code",
      "execution_count": null,
      "metadata": {},
      "outputs": [],
      "source": [
        "# We can now create a vector using the word vectors from the Word2Vec model\n",
        "\n",
        "def get_embedding(descriptions): # Function to obtain the description vector\n",
        "    asp_emb = []\n",
        "    for description in descriptions:\n",
        "        description_words = description  # Split the comment into individual words\n",
        "        description_vector = np.zeros(model.vector_size)  # Initialize an array of zeros for the comment vector\n",
        "        \n",
        "        for word in description_words:\n",
        "            if word in model.wv:\n",
        "                description_vector += model.wv[word]  # Add the word vector to the comment vector\n",
        "        asp_emb.append(description_vector)\n",
        "    return asp_emb\n"
      ]
    },
    {
      "cell_type": "code",
      "execution_count": null,
      "metadata": {},
      "outputs": [],
      "source": [
        "aspects = ['MET', 'PRA', 'ASE', 'EVA', 'RET', 'APR', 'DOM', 'REC', 'MEJ']"
      ]
    },
    {
      "cell_type": "code",
      "execution_count": null,
      "metadata": {},
      "outputs": [],
      "source": [
        "# Example usage for the aspect keywords\n",
        "aspects_keywords_vectors = get_embedding(aspect_keywords)\n",
        "\n",
        "# Obtain the most similar words to the comment\n",
        "similar_words = model.wv.similar_by_vector(aspects_keywords_vectors[0])\n",
        "\n",
        "print(f\"The most similar words to the aspect {aspects[0]}: '{aspect_keywords[0]}' are:\")\n",
        "for word, similarity in similar_words:\n",
        "    print(f\"{word}: {similarity}\")"
      ]
    },
    {
      "cell_type": "code",
      "execution_count": null,
      "metadata": {},
      "outputs": [],
      "source": [
        "# Example usage for the aspect descriptions\n",
        "aspects_description_vectors = get_embedding(aspect_descriptions)\n",
        "\n",
        "# Obtain the most similar words to the comment\n",
        "similar_words = model.wv.similar_by_vector(aspects_description_vectors[1])\n",
        "\n",
        "print(f\"The most similar words to the aspect {aspects[1]}: '{aspect_descriptions[1]}' are:\")\n",
        "for word, similarity in similar_words:\n",
        "    print(f\"{word}: {similarity}\")"
      ]
    },
    {
      "cell_type": "code",
      "execution_count": null,
      "metadata": {},
      "outputs": [],
      "source": [
        "# Example usage for the aspect descriptions from student POV\n",
        "aspects_studentpov_vectors = get_embedding(aspects_studentpov)\n",
        "\n",
        "# Obtain the most similar words to the comment\n",
        "similar_words = model.wv.similar_by_vector(aspects_studentpov_vectors[2])\n",
        "\n",
        "print(f\"The most similar words to the aspect {aspects[2]}: '{aspects_studentpov[2]}' are:\")\n",
        "for word, similarity in similar_words:\n",
        "    print(f\"{word}: {similarity}\")"
      ]
    },
    {
      "cell_type": "code",
      "execution_count": null,
      "metadata": {},
      "outputs": [],
      "source": [
        "# Example usage for the aspect descriptions from the exact question in the SET\n",
        "aspects_questions_vectors = get_embedding(ecoa_questions)\n",
        "\n",
        "# Obtain the most similar words to the comment\n",
        "similar_words = model.wv.similar_by_vector(aspects_questions_vectors[4])\n",
        "\n",
        "print(f\"The most similar words to the aspect {aspects[4]}: '{ecoa_questions[4]}' are:\")\n",
        "for word, similarity in similar_words:\n",
        "    print(f\"{word}: {similarity}\")"
      ]
    },
    {
      "cell_type": "markdown",
      "metadata": {},
      "source": [
        "#### PCA: Principal Component Analysis"
      ]
    },
    {
      "cell_type": "code",
      "execution_count": null,
      "metadata": {},
      "outputs": [],
      "source": [
        "# We can use PCA to reduce the number of dimensions of the vectors\n",
        "pca = PCA(n_components=2)\n",
        "# Perform PCA\n",
        "pca_embeddings = pca.fit_transform(aspects_keywords_vectors)\n",
        "def two_d_graph(pca_embeddings, title):\n",
        "    colors = (\"red\", \"green\", \"blue\", \"orange\", \"black\", \"purple\", \"yellow\")\n",
        " \n",
        "    # Create plot\n",
        "    fig = plt.figure()\n",
        "    ax = fig.gca()\n",
        " \n",
        "    for data, color, group in zip(pca_embeddings, colors, aspects[:7]):\n",
        "        x, y = data\n",
        "        ax.scatter(x, y, alpha=0.8, c=color, edgecolors='none', s=30, label=group)\n",
        " \n",
        "    plt.title(title)\n",
        "    plt.legend(loc=1)\n",
        "    plt.show()\n",
        "\n",
        "two_d_graph(pca_embeddings, 'Reduced vocab set for aspects_keywords')"
      ]
    },
    {
      "cell_type": "code",
      "execution_count": null,
      "metadata": {},
      "outputs": [],
      "source": [
        "# We will do the same for the aspect descriptions\n",
        "pca = PCA(n_components=2)\n",
        "# Perform PCA\n",
        "pca_embeddings = pca.fit_transform(aspects_description_vectors)\n",
        "two_d_graph(pca_embeddings, 'Reduced vocab set for aspects descriptions')"
      ]
    },
    {
      "cell_type": "code",
      "execution_count": null,
      "metadata": {},
      "outputs": [],
      "source": [
        "# We will do the same for the aspect students POV descriptions\n",
        "pca = PCA(n_components=2)\n",
        "# Perform PCA\n",
        "pca_embeddings = pca.fit_transform(aspects_studentpov_vectors)\n",
        "two_d_graph(pca_embeddings, 'Reduced vocab set for aspects descriptions from student POV')"
      ]
    },
    {
      "cell_type": "code",
      "execution_count": null,
      "metadata": {},
      "outputs": [],
      "source": [
        "# Finally, we do the same for the aspect exact questions in the SET\n",
        "pca = PCA(n_components=2)\n",
        "# Perform PCA\n",
        "pca_embeddings = pca.fit_transform(aspects_questions_vectors)\n",
        "two_d_graph(pca_embeddings, 'Reduced vocab set for exact questions in the SET')"
      ]
    },
    {
      "cell_type": "markdown",
      "metadata": {},
      "source": [
        "#### t-SNE"
      ]
    },
    {
      "cell_type": "code",
      "execution_count": null,
      "metadata": {},
      "outputs": [],
      "source": [
        "from sklearn.manifold import TSNE"
      ]
    },
    {
      "cell_type": "code",
      "execution_count": null,
      "metadata": {},
      "outputs": [],
      "source": [
        "# We don't want to use all the aspects because REC y MEJ are not in the Word2Vec model, so we will use only the first 7 aspects\n",
        "aspects[:7]"
      ]
    },
    {
      "cell_type": "code",
      "execution_count": null,
      "metadata": {},
      "outputs": [],
      "source": [
        "np.array(aspects_keywords_vectors).shape"
      ]
    },
    {
      "cell_type": "code",
      "execution_count": null,
      "metadata": {},
      "outputs": [],
      "source": [
        "tsne = TSNE(n_components=2, random_state=0)\n",
        "X_tsne = tsne.fit_transform(np.array(aspects_keywords_vectors).T)"
      ]
    },
    {
      "cell_type": "code",
      "execution_count": null,
      "metadata": {},
      "outputs": [],
      "source": [
        "pca_embeddings"
      ]
    },
    {
      "cell_type": "code",
      "execution_count": null,
      "metadata": {},
      "outputs": [],
      "source": [
        "def two_d_graph(pca_embeddings, title):\n",
        "    colors = (\"red\", \"green\", \"blue\", \"orange\", \"black\", \"purple\", \"yellow\")\n",
        " \n",
        "    # Create plot\n",
        "    fig = plt.figure()\n",
        "    ax = fig.gca()\n",
        " \n",
        "    for data, color, group in zip(pca_embeddings, colors, aspects[:7]):\n",
        "        x, y = data\n",
        "        ax.scatter(x, y, alpha=0.8, c=color, edgecolors='none', s=30, label=group)\n",
        " \n",
        "    plt.title(title)\n",
        "    plt.legend(loc=1)\n",
        "    plt.show()\n",
        "\n",
        "two_d_graph(X_tsne, 'Reduced vocab set for aspects_keywords')"
      ]
    },
    {
      "cell_type": "code",
      "execution_count": null,
      "metadata": {},
      "outputs": [],
      "source": [
        "tsne = TSNE(n_components=2, random_state=0)\n",
        "X_tsne = tsne.fit_transform(np.array(aspects_description_vectors).T)\n",
        "two_d_graph(X_tsne, 'Reduced vocab set for aspects_descriptions_vectors')"
      ]
    },
    {
      "cell_type": "code",
      "execution_count": null,
      "metadata": {},
      "outputs": [],
      "source": [
        "tsne = TSNE(n_components=2, random_state=0)\n",
        "X_tsne = tsne.fit_transform(np.array(aspects_studentpov_vectors).T)\n",
        "two_d_graph(X_tsne, 'Reduced vocab set for aspects_studentpov_vectors')"
      ]
    },
    {
      "cell_type": "code",
      "execution_count": null,
      "metadata": {},
      "outputs": [],
      "source": [
        "tsne = TSNE(n_components=2, random_state=0)\n",
        "X_tsne = tsne.fit_transform(np.array(aspects_questions_vectors).T)\n",
        "two_d_graph(X_tsne, 'Reduced vocab set for aspects_questions_vectors (exact questions in the SET)')"
      ]
    },
    {
      "cell_type": "markdown",
      "metadata": {},
      "source": [
        "#### Saving the word embeddings model"
      ]
    },
    {
      "cell_type": "code",
      "execution_count": null,
      "metadata": {},
      "outputs": [],
      "source": [
        "# We can now create a comment vector using the word vectors from the Word2Vec model and obtain the most similar words\n",
        "\n",
        "# Define a function to obtain the comment vector\n",
        "def get_comment_vector(comment):\n",
        "    comment_words = comment  # Split the comment into individual words\n",
        "    comment_vector = np.zeros(model.vector_size)  # Initialize an array of zeros for the comment vector\n",
        "    \n",
        "    for word in comment_words:\n",
        "        if word in model.wv:\n",
        "            comment_vector += model.wv[word]  # Add the word vector to the comment vector\n",
        "    \n",
        "    return comment_vector\n",
        "\n",
        "# Example usage\n",
        "comment_vector = get_comment_vector(comments[2])\n",
        "\n",
        "# Obtain the most similar words to the comment\n",
        "similar_words = model.wv.similar_by_vector(comment_vector)\n",
        "\n",
        "print(f\"The most similar words to the comment '{comments[2]}' are:\")\n",
        "for word, similarity in similar_words:\n",
        "    print(f\"{word}: {similarity}\")\n"
      ]
    },
    {
      "cell_type": "code",
      "execution_count": null,
      "metadata": {},
      "outputs": [],
      "source": [
        "# Save the model\n",
        "model.save('word2vec.model')"
      ]
    },
    {
      "cell_type": "code",
      "execution_count": null,
      "metadata": {},
      "outputs": [],
      "source": [
        "# Load the model\n",
        "model = Word2Vec.load('word2vec.model')"
      ]
    },
    {
      "cell_type": "markdown",
      "metadata": {},
      "source": [
        "### 3.3:BERT"
      ]
    },
    {
      "cell_type": "code",
      "execution_count": null,
      "metadata": {},
      "outputs": [],
      "source": [
        "df_ecoas.head()"
      ]
    },
    {
      "cell_type": "code",
      "execution_count": null,
      "metadata": {},
      "outputs": [],
      "source": [
        "comentarios_merge[:5]"
      ]
    },
    {
      "cell_type": "code",
      "execution_count": null,
      "metadata": {},
      "outputs": [],
      "source": [
        "tokenizer = AutoTokenizer.from_pretrained(\"dccuchile/bert-base-spanish-wwm-uncased\")"
      ]
    },
    {
      "cell_type": "code",
      "execution_count": null,
      "metadata": {},
      "outputs": [],
      "source": [
        "# This are the questions we will use to compare the comments and obtain the most similar ones\n",
        "questions = ['MET', 'PRA', 'ASE', 'EVA', 'RET', 'APR', 'DOM']\n"
      ]
    },
    {
      "cell_type": "code",
      "execution_count": null,
      "metadata": {},
      "outputs": [],
      "source": [
        "encoded_questions = tokenizer(\n",
        "    questions,\n",
        "    return_tensors=\"pt\",\n",
        "    padding=True,\n",
        "    truncation=True,\n",
        "    max_length=128\n",
        ")\n",
        "\n",
        "encoded_responses = tokenizer(\n",
        "    comentarios_merge,\n",
        "    return_tensors=\"pt\",\n",
        "    padding=True,\n",
        "    truncation=True,\n",
        "    max_length=128\n",
        ")"
      ]
    },
    {
      "cell_type": "code",
      "execution_count": null,
      "metadata": {},
      "outputs": [],
      "source": [
        "encoded_questions['input_ids'].shape, encoded_responses['input_ids'].shape"
      ]
    },
    {
      "cell_type": "code",
      "execution_count": null,
      "metadata": {},
      "outputs": [],
      "source": [
        "encoded_responses_example = {\n",
        "    'input_ids': encoded_responses['input_ids'][4],\n",
        "    'attention_mask': encoded_responses['attention_mask'][4]\n",
        "}\n",
        "\n",
        "print(encoded_responses_example)\n"
      ]
    },
    {
      "cell_type": "markdown",
      "metadata": {},
      "source": [
        "## 4:Topic Recognizion"
      ]
    },
    {
      "cell_type": "markdown",
      "metadata": {},
      "source": [
        "To continue with this task, we will use the last text representation of the previous section: BERT.\n",
        "\n",
        "We perfomed cosine similarity between the encoded questions and the encoded comments, this give us an idea of the aspects that the students are talking about in the comment."
      ]
    },
    {
      "cell_type": "code",
      "execution_count": null,
      "metadata": {},
      "outputs": [],
      "source": [
        "# Determine the maximum sequence length for questions and answers\n",
        "max_sequence_length = max(len(encoded_questions['input_ids'][0]), len(encoded_responses['input_ids'][0]))\n",
        "\n",
        "# Initialize an empty array to store similarity scores\n",
        "similarity_scores = np.zeros((len(questions), len(comentarios_merge)))\n",
        "\n",
        "# Calculate cosine similarity for each question-answer pair\n",
        "for i, question_embedding in enumerate(encoded_questions['input_ids']):\n",
        "    for j, answer_embedding in enumerate(encoded_responses['input_ids']):\n",
        "        # Pad the shorter sequence to match the maximum length\n",
        "        padded_question = np.pad(question_embedding.numpy(), (0, max_sequence_length - len(question_embedding)), 'constant')\n",
        "        padded_answer = np.pad(answer_embedding.numpy(), (0, max_sequence_length - len(answer_embedding)), 'constant')\n",
        "\n",
        "        # Calculate cosine similarity between the padded embeddings\n",
        "        similarity = cosine_similarity([padded_question], [padded_answer])[0][0]\n",
        "        similarity_scores[i][j] = similarity\n"
      ]
    },
    {
      "cell_type": "code",
      "execution_count": null,
      "metadata": {},
      "outputs": [],
      "source": [
        "# We have the scores for similarity between comment and questions, 6 aspects for 98427 different comments\n",
        "similarity_scores.shape"
      ]
    },
    {
      "cell_type": "code",
      "execution_count": null,
      "metadata": {},
      "outputs": [],
      "source": [
        "similarity_scores.T"
      ]
    },
    {
      "cell_type": "code",
      "execution_count": null,
      "metadata": {},
      "outputs": [],
      "source": [
        "most_likely_questions = np.argmax(similarity_scores.T, axis=1) # Find the index of the max value along the rows\n",
        "mlikely_question = pd.DataFrame(most_likely_questions) # Convert to dataframe\n",
        "questions_counts = mlikely_question.value_counts() # Count the number of times each question was the most similar\n",
        "\n",
        "List_questions = []\n",
        "for idx in range(len(questions)):\n",
        "    List_questions.append([questions[idx], aspects[idx], questions_counts[idx]])\n",
        "\n",
        "pd.set_option('colheader_justify', 'center') # Center the column's names\n",
        "\n",
        "df_countQA = pd.DataFrame(List_questions, columns = ['Pregunta', 'Aspect Key', 'Count'])\n",
        "print(df_countQA)"
      ]
    },
    {
      "cell_type": "code",
      "execution_count": null,
      "metadata": {},
      "outputs": [],
      "source": [
        "mlikely_question.rename(columns={0: \"Cosine_Sim_MostLikeQ\"}, inplace=True)\n",
        "mlikely_question['MostLikeAsp'] = [aspects[i] for i in mlikely_question['Cosine_Sim_MostLikeQ']]"
      ]
    },
    {
      "cell_type": "code",
      "execution_count": null,
      "metadata": {},
      "outputs": [],
      "source": [
        "aspects[:7]"
      ]
    },
    {
      "cell_type": "code",
      "execution_count": null,
      "metadata": {},
      "outputs": [],
      "source": [
        "similarity_scores.T[0]"
      ]
    },
    {
      "cell_type": "code",
      "execution_count": null,
      "metadata": {},
      "outputs": [],
      "source": [
        "df_ecoas['mlq_numb'] = mlikely_question['Cosine_Sim_MostLikeQ'] # Add the most likely question number to the dataframe\n",
        "df_ecoas['mlq_asp'] = mlikely_question['MostLikeAsp'] # Add the most likely question KEY to the dataframe\n",
        "df_ecoas.head()"
      ]
    },
    {
      "cell_type": "code",
      "execution_count": null,
      "metadata": {},
      "outputs": [],
      "source": [
        "df_ecoas.tail()"
      ]
    },
    {
      "cell_type": "markdown",
      "metadata": {},
      "source": [
        "Latent Dirichlet Allocation (LDA)\n",
        "\n",
        "Latent Dirichlet Allocation (LDA) is a type of statistical model that is used to discover the abstract \"topics\" that occur in a collection of documents. It's widely used in natural language processing (NLP) for tasks like document classification, organizing large sets of documents, and helping in understanding the main themes (educational aspects in this case) in them."
      ]
    },
    {
      "cell_type": "code",
      "execution_count": null,
      "metadata": {},
      "outputs": [],
      "source": [
        "commentsL[:5]"
      ]
    },
    {
      "cell_type": "code",
      "execution_count": null,
      "metadata": {},
      "outputs": [],
      "source": [
        "# Create dictionary and document-term matrix\n",
        "dictionary = corpora.Dictionary(commentsL)\n",
        "corpus = [dictionary.doc2bow(doc) for doc in commentsL]"
      ]
    },
    {
      "cell_type": "code",
      "execution_count": null,
      "metadata": {},
      "outputs": [],
      "source": [
        "# Build LDA model\n",
        "num_topics = 8\n",
        "lda_model = LdaModel(corpus, num_topics=num_topics, id2word=dictionary, passes=10)\n",
        "\n",
        "# Print topics and their top keywords\n",
        "for idx, topic in lda_model.print_topics(-1):\n",
        "    print(f'Topic: {idx} \\nWords: {topic}\\n')\n",
        "\n",
        "# Get topics for each document\n",
        "topics_for_documents = [lda_model[doc] for doc in corpus]"
      ]
    },
    {
      "cell_type": "code",
      "execution_count": null,
      "metadata": {},
      "outputs": [],
      "source": [
        "# Define the number of topics\n",
        "num_topics = 8\n",
        "\n",
        "# Create a dictionary representation of the documents.\n",
        "dictionary = corpora.Dictionary(commentsL)\n",
        "\n",
        "# Filter out tokens that appear in less than 10 documents or more than 50% of the documents\n",
        "dictionary.filter_extremes(no_below=10, no_above=0.5)\n",
        "\n",
        "# Convert the documents into a bag-of-words format: list of (token_id, token_count) tuples\n",
        "corpus = [dictionary.doc2bow(doc) for doc in commentsL]\n",
        "\n",
        "# Train the LDA model\n",
        "lda_model = LdaModel(corpus=corpus,\n",
        "                     id2word=dictionary,\n",
        "                     num_topics=num_topics,\n",
        "                     random_state=100,\n",
        "                     update_every=1,\n",
        "                     chunksize=100,\n",
        "                     passes=10,\n",
        "                     alpha='auto',\n",
        "                     per_word_topics=True)\n",
        "\n",
        "# Print the top keywords for each topic\n",
        "for topic_id in range(num_topics):\n",
        "    top_words = lda_model.show_topic(topic_id, topn=10)\n",
        "    print(f\"Topic {topic_id + 1}:\")\n",
        "    print([word[0] for word in top_words])\n",
        "\n",
        "# Compute coherence score to evaluate the model\n",
        "coherence_model_lda = CoherenceModel(model=lda_model, texts=commentsL, dictionary=dictionary, coherence='c_v')\n",
        "coherence_lda = coherence_model_lda.get_coherence()\n",
        "print('\\nCoherence Score:', coherence_lda)\n",
        "\n",
        "topics_for_documents = [lda_model[doc] for doc in corpus]"
      ]
    },
    {
      "cell_type": "code",
      "execution_count": null,
      "metadata": {},
      "outputs": [],
      "source": [
        "len(topics_for_documents)"
      ]
    },
    {
      "cell_type": "code",
      "execution_count": null,
      "metadata": {},
      "outputs": [],
      "source": [
        "commentsL[2]"
      ]
    },
    {
      "cell_type": "code",
      "execution_count": null,
      "metadata": {},
      "outputs": [],
      "source": [
        "topics_for_documents[0]"
      ]
    },
    {
      "cell_type": "markdown",
      "metadata": {},
      "source": [
        "LDA hyper-parameters fine tuning:\n",
        "\n",
        "Use different number of values of filter extremes and observe the performance on coherence score for different number of topics"
      ]
    },
    {
      "cell_type": "code",
      "execution_count": null,
      "metadata": {},
      "outputs": [],
      "source": [
        "# Define a range of no_below filter extreme values\n",
        "below1 = 100\n",
        "below2 = 1000\n",
        "below3 = 2500\n",
        "below4 = 0\n",
        "\n",
        "#Define a range of no_above filter extreme values\n",
        "above1 = 0.7\n",
        "above2 = 0.65\n",
        "above3 = 0.6\n",
        "above4 = 1\n",
        "\n",
        "extreme_values = [[below1, above1],[below2, above2],[below3, above3], [below4, above4]]\n",
        "\n",
        "# Define a range of candidate numbers of topics\n",
        "min_topics = 2\n",
        "max_topics = 10\n",
        "step_size = 1\n",
        "topic_range = range(min_topics, max_topics + 1, step_size)"
      ]
    },
    {
      "cell_type": "code",
      "execution_count": null,
      "metadata": {},
      "outputs": [],
      "source": [
        "dictionary = corpora.Dictionary(commentsL)\n",
        "print(len(dictionary))"
      ]
    },
    {
      "cell_type": "code",
      "execution_count": null,
      "metadata": {},
      "outputs": [],
      "source": [
        "for extremes in extreme_values:\n",
        "    print('- - - - - - - - - - - - - - - - - - - - - - - ')\n",
        "    coherence_scores = []\n",
        "    for num_topics in topic_range:\n",
        "        print(f'Number of topics: {num_topics} Extremes: {extremes}')\n",
        "        # Create a dictionary representation of the documents.\n",
        "        dictionary = corpora.Dictionary(commentsL)\n",
        "\n",
        "        # Filter out tokens that appear in less than 10 documents or more than 50% of the documents\n",
        "        dictionary.filter_extremes(no_below=extremes[0], no_above=extremes[1])\n",
        "        dictionary.compactify()\n",
        "        print(len(dictionary))\n",
        "\n",
        "        # Convert the documents into a bag-of-words format: list of (token_id, token_count) tuples\n",
        "        corpus = [dictionary.doc2bow(doc) for doc in commentsL]"
      ]
    },
    {
      "cell_type": "code",
      "execution_count": null,
      "metadata": {},
      "outputs": [],
      "source": [
        "for extremes in extreme_values:\n",
        "    print('- - - - - - - - - - - - - - - - - - - - - - - ')\n",
        "    coherence_scores = []\n",
        "\n",
        "    # Create a dictionary representation of the documents.\n",
        "    dictionary = corpora.Dictionary(commentsL)\n",
        "\n",
        "    # Filter out tokens that appear in less than 10 documents or more than 50% of the documents\n",
        "    dictionary.filter_extremes(no_below=extremes[0], no_above=extremes[1])\n",
        "    dictionary.compactify()\n",
        "    print(f'Len of the Dictionary: {len(dictionary)}')\n",
        "\n",
        "    # Convert the documents into a bag-of-words format: list of (token_id, token_count) tuples\n",
        "    corpus = [dictionary.doc2bow(doc) for doc in commentsL]\n",
        "\n",
        "    for num_topics in topic_range:\n",
        "        print(f'Number of topics: {num_topics} Extremes: {extremes}')\n",
        "\n",
        "\n",
        "        # Train the LDA model\n",
        "        lda_model = LdaModel(corpus=corpus,\n",
        "                         id2word=dictionary,\n",
        "                         num_topics=num_topics,\n",
        "                         random_state=100,\n",
        "                         update_every=1,\n",
        "                         chunksize=100,\n",
        "                         passes=10,\n",
        "                         alpha='auto',\n",
        "                         per_word_topics=True)\n",
        "\n",
        "        coherence_model_lda = CoherenceModel(model=lda_model, texts=commentsL, dictionary=dictionary, coherence='c_v')\n",
        "        coherence_scores.append(coherence_model_lda.get_coherence())\n",
        "\n",
        "    # Plot the coherence scores\n",
        "    plt.plot(topic_range, coherence_scores)\n",
        "    plt.xlabel(\"Number of Topics\")\n",
        "    plt.ylabel(\"Coherence Score\")\n",
        "    plt.title(\"Coherence Score vs. Number of Topics\")\n",
        "    plt.show()"
      ]
    },
    {
      "cell_type": "markdown",
      "metadata": {},
      "source": [
        "I try the best number of topics that resulted from the experiments"
      ]
    },
    {
      "cell_type": "code",
      "execution_count": null,
      "metadata": {},
      "outputs": [],
      "source": [
        "# Define the number of topics\n",
        "num_topics = 2\n",
        "\n",
        "# Create a dictionary representation of the documents.\n",
        "dictionary = corpora.Dictionary(commentsL)\n",
        "\n",
        "# Filter out tokens that appear in less than 10 documents or more than 50% of the documents\n",
        "dictionary.filter_extremes(no_below=100, no_above=0.7)\n",
        "\n",
        "# Convert the documents into a bag-of-words format: list of (token_id, token_count) tuples\n",
        "corpus = [dictionary.doc2bow(doc) for doc in commentsL]\n",
        "\n",
        "# Train the LDA model\n",
        "lda_model = LdaModel(corpus=corpus,\n",
        "                     id2word=dictionary,\n",
        "                     num_topics=num_topics,\n",
        "                     random_state=100,\n",
        "                     update_every=1,\n",
        "                     chunksize=100,\n",
        "                     passes=30,\n",
        "                     alpha='auto',\n",
        "                     per_word_topics=True)\n",
        "\n",
        "# Print the top keywords for each topic\n",
        "for topic_id in range(num_topics):\n",
        "    top_words = lda_model.show_topic(topic_id, topn=10)\n",
        "    print(f\"Topic {topic_id + 1}:\")\n",
        "    print([word[0] for word in top_words])\n",
        "\n",
        "# Compute coherence score to evaluate the model\n",
        "coherence_model_lda = CoherenceModel(model=lda_model, texts=commentsL, dictionary=dictionary, coherence='c_v')\n",
        "coherence_lda = coherence_model_lda.get_coherence()\n",
        "print('\\nCoherence Score:', coherence_lda)\n",
        "\n",
        "topics_for_documents = [lda_model[doc] for doc in corpus]"
      ]
    },
    {
      "cell_type": "code",
      "execution_count": null,
      "metadata": {},
      "outputs": [],
      "source": [
        "# Altough the coherence score is working properly, the coherence score is not roust enough to determine the presene of topics\n",
        "# We will stick with the BERT cosine similarity to determine the most likely topic for each comment instead\n",
        "topics_for_documents[2]"
      ]
    },
    {
      "cell_type": "markdown",
      "metadata": {},
      "source": [
        "## 5: ML Classifiers"
      ]
    },
    {
      "cell_type": "code",
      "execution_count": null,
      "metadata": {},
      "outputs": [],
      "source": [
        "df_ecoas.head()"
      ]
    },
    {
      "cell_type": "code",
      "execution_count": null,
      "metadata": {},
      "outputs": [],
      "source": [
        "df_ecoas.shape"
      ]
    },
    {
      "cell_type": "markdown",
      "metadata": {},
      "source": [
        "### 5.1: Using TF-IDF"
      ]
    },
    {
      "cell_type": "code",
      "execution_count": null,
      "metadata": {},
      "outputs": [],
      "source": [
        "aspects"
      ]
    },
    {
      "cell_type": "code",
      "execution_count": null,
      "metadata": {},
      "outputs": [],
      "source": [
        "aspects_classes = df_ecoas.drop(columns=['GÉNERO ALUMNO', 'PROM ACUMULADO EN PROFESIONAL', 'Género del profesor', 'Tipo Comentario', 'Comentarios', 'AVG','Lemm','mlq_numb', 'mlq_asp'], errors='ignore')\n",
        "aspects_classes.head()"
      ]
    },
    {
      "cell_type": "code",
      "execution_count": null,
      "metadata": {},
      "outputs": [],
      "source": [
        "comentarios_merge[:5]"
      ]
    },
    {
      "cell_type": "code",
      "execution_count": null,
      "metadata": {},
      "outputs": [],
      "source": [
        "comments_train,comments_test,aspects_train, aspects_test = train_test_split(comentarios_merge, aspects_classes, test_size=0.25, random_state=30)\n",
        "print('Train:', 'Comentarios->', len(comments_train), 'Aspectos->',  aspects_train.shape, '\\nTest:', 'Comentarios->', len(comments_test),'Aspectos->', aspects_test.shape)"
      ]
    },
    {
      "cell_type": "code",
      "execution_count": null,
      "metadata": {},
      "outputs": [],
      "source": [
        "vectorizer = TfidfVectorizer()\n",
        "tf_x_train = vectorizer.fit_transform(comments_train)\n",
        "tf_x_test = vectorizer.transform(comments_test)"
      ]
    },
    {
      "cell_type": "markdown",
      "metadata": {},
      "source": [
        "#### Decision Tree"
      ]
    },
    {
      "cell_type": "code",
      "execution_count": null,
      "metadata": {},
      "outputs": [],
      "source": [
        "# Decision Tree\n",
        "classN = ['Negative', 'Positive']\n",
        "accList = []\n",
        "baccList= []\n",
        "aucList = []\n",
        "cmatrixList = []\n",
        "creportList = []\n",
        "\n",
        "for asp in aspects:\n",
        "  t = DecisionTreeClassifier(random_state = 1509654,criterion='entropy',max_depth=8)\n",
        "  t.fit(tf_x_train, aspects_train[asp])\n",
        "\n",
        "  # Metrics\n",
        "  y_pred = t.predict(tf_x_test)\n",
        "\n",
        "  accList.append(t.score(tf_x_test, aspects_test[asp]))\n",
        "  baccList.append(metrics.balanced_accuracy_score(aspects_test[asp], y_pred))\n",
        "  cmatrixList.append(metrics.confusion_matrix(aspects_test[asp], y_pred))\n",
        "  creportList.append(metrics.classification_report(aspects_test[asp], y_pred))\n",
        "\n",
        "for a in range(len(aspects)):\n",
        "  print('------------',aspects[a],'------------')\n",
        "  # print('Accuracy: ', round(accList[a],2))\n",
        "  print('Balanced Acc: ', round(baccList[a],2))\n",
        "  # print('Auc: ', round(aucList[a],2))\n",
        "  # print('Confusion Matrix: \\n', cmatrixList[a])\n",
        "  print(creportList[a])"
      ]
    },
    {
      "cell_type": "markdown",
      "metadata": {},
      "source": [
        "#### Random Forest"
      ]
    },
    {
      "cell_type": "code",
      "execution_count": null,
      "metadata": {},
      "outputs": [],
      "source": [
        "# Random Forest\n",
        "classN = ['Negative', 'Positive']\n",
        "accList = []\n",
        "baccList= []\n",
        "aucList = []\n",
        "cmatrixList = []\n",
        "creportList = []\n",
        "\n",
        "for asp in aspects:\n",
        "  t = RandomForestClassifier(min_samples_leaf=8)\n",
        "  t.fit(tf_x_train, aspects_train[asp])\n",
        "\n",
        "  # Metrics\n",
        "  y_pred = t.predict(tf_x_test)\n",
        "\n",
        "  accList.append(t.score(tf_x_test, aspects_test[asp]))\n",
        "  baccList.append(metrics.balanced_accuracy_score(aspects_test[asp], y_pred))\n",
        "  cmatrixList.append(metrics.confusion_matrix(aspects_test[asp], y_pred))\n",
        "  creportList.append(metrics.classification_report(aspects_test[asp], y_pred))\n",
        "\n",
        "for a in range(len(aspects)):\n",
        "  print('------------',aspects[a],'------------')\n",
        "  # print('Accuracy: ', round(accList[a],2))\n",
        "  print('Balanced Acc: ', round(baccList[a],2))\n",
        "  # print('Auc: ', round(aucList[a],2))\n",
        "  # print('Confusion Matrix: \\n', cmatrixList[a])\n",
        "  print(creportList[a])"
      ]
    },
    {
      "cell_type": "markdown",
      "metadata": {},
      "source": [
        "#### SVM"
      ]
    },
    {
      "cell_type": "code",
      "execution_count": null,
      "metadata": {},
      "outputs": [],
      "source": [
        "for asp in aspects:\n",
        "    print(aspects_train[asp])"
      ]
    },
    {
      "cell_type": "code",
      "execution_count": null,
      "metadata": {},
      "outputs": [],
      "source": [
        "aspects = ['APR', 'REC', 'RET']"
      ]
    },
    {
      "cell_type": "code",
      "execution_count": null,
      "metadata": {},
      "outputs": [],
      "source": [
        "# SVM linear\n",
        "classN = ['Negative', 'Positive']\n",
        "accList = []\n",
        "baccList= []\n",
        "aucList = []\n",
        "cmatrixList = []\n",
        "creportList = []\n",
        "\n",
        "for asp in aspects:\n",
        "  svm = SVC(kernel='linear', random_state=12022024)\n",
        "  svm.fit(tf_x_train, aspects_train[asp])\n",
        "\n",
        "  # Metrics\n",
        "  y_pred = svm.predict(tf_x_test)\n",
        "\n",
        "  accList.append(svm.score(tf_x_test, aspects_test[asp]))\n",
        "  baccList.append(metrics.balanced_accuracy_score(aspects_test[asp], y_pred))\n",
        "  cmatrixList.append(metrics.confusion_matrix(aspects_test[asp], y_pred))\n",
        "  creportList.append(metrics.classification_report(aspects_test[asp], y_pred))\n",
        "\n",
        "for a in range(len(aspects)):\n",
        "  print('------------',aspects[a],'------------')\n",
        "  # print('Accuracy: ', round(accList[a],2))\n",
        "  print('Balanced Acc: ', round(baccList[a],2))\n",
        "  # print('Auc: ', round(aucList[a],2))\n",
        "  # print('Confusion Matrix: \\n', cmatrixList[a])\n",
        "  print(creportList[a])"
      ]
    },
    {
      "cell_type": "code",
      "execution_count": null,
      "metadata": {},
      "outputs": [],
      "source": [
        "# SVM poly\n",
        "classN = ['Negative', 'Positive']\n",
        "accList = []\n",
        "baccList= []\n",
        "aucList = []\n",
        "cmatrixList = []\n",
        "creportList = []\n",
        "\n",
        "for asp in aspects:\n",
        "  svm = SVC(kernel='poly', random_state=12022024)\n",
        "  svm.fit(tf_x_train, aspects_train[asp])\n",
        "\n",
        "  # Metrics\n",
        "  y_pred = svm.predict(tf_x_test)\n",
        "\n",
        "  accList.append(svm.score(tf_x_test, aspects_test[asp]))\n",
        "  baccList.append(metrics.balanced_accuracy_score(aspects_test[asp], y_pred))\n",
        "  cmatrixList.append(metrics.confusion_matrix(aspects_test[asp], y_pred))\n",
        "  creportList.append(metrics.classification_report(aspects_test[asp], y_pred))\n",
        "\n",
        "for a in range(len(aspects)):\n",
        "  print('------------',aspects[a],'------------')\n",
        "  # print('Accuracy: ', round(accList[a],2))\n",
        "  print('Balanced Acc: ', round(baccList[a],2))\n",
        "  # print('Auc: ', round(aucList[a],2))\n",
        "  # print('Confusion Matrix: \\n', cmatrixList[a])\n",
        "  print(creportList[a])"
      ]
    },
    {
      "cell_type": "code",
      "execution_count": null,
      "metadata": {},
      "outputs": [],
      "source": [
        "# SVM rbf\n",
        "classN = ['Negative', 'Positive']\n",
        "accList = []\n",
        "baccList= []\n",
        "aucList = []\n",
        "cmatrixList = []\n",
        "creportList = []\n",
        "\n",
        "for asp in aspects:\n",
        "  svm = SVC(kernel='rbf', random_state=12022024)\n",
        "  svm.fit(tf_x_train, aspects_train[asp])\n",
        "\n",
        "  # Metrics\n",
        "  y_pred = svm.predict(tf_x_test)\n",
        "\n",
        "  accList.append(svm.score(tf_x_test, aspects_test[asp]))\n",
        "  baccList.append(metrics.balanced_accuracy_score(aspects_test[asp], y_pred))\n",
        "  cmatrixList.append(metrics.confusion_matrix(aspects_test[asp], y_pred))\n",
        "  creportList.append(metrics.classification_report(aspects_test[asp], y_pred))\n",
        "\n",
        "for a in range(len(aspects)):\n",
        "  print('------------',aspects[a],'------------')\n",
        "  # print('Accuracy: ', round(accList[a],2))\n",
        "  print('Balanced Acc: ', round(baccList[a],2))\n",
        "  # print('Auc: ', round(aucList[a],2))\n",
        "  # print('Confusion Matrix: \\n', cmatrixList[a])\n",
        "  print(creportList[a])"
      ]
    },
    {
      "cell_type": "code",
      "execution_count": null,
      "metadata": {},
      "outputs": [],
      "source": [
        "# SVM sigmoid\n",
        "classN = ['Negative', 'Positive']\n",
        "accList = []\n",
        "baccList= []\n",
        "aucList = []\n",
        "cmatrixList = []\n",
        "creportList = []\n",
        "\n",
        "for asp in aspects:\n",
        "  svm = SVC(kernel='sigmoid', random_state=12022024)\n",
        "  svm.fit(tf_x_train, aspects_train[asp])\n",
        "\n",
        "  # Metrics\n",
        "  y_pred = svm.predict(tf_x_test)\n",
        "\n",
        "  accList.append(svm.score(tf_x_test, aspects_test[asp]))\n",
        "  baccList.append(metrics.balanced_accuracy_score(aspects_test[asp], y_pred))\n",
        "  cmatrixList.append(metrics.confusion_matrix(aspects_test[asp], y_pred))\n",
        "  creportList.append(metrics.classification_report(aspects_test[asp], y_pred))\n",
        "\n",
        "for a in range(len(aspects)):\n",
        "  print('------------',aspects[a],'------------')\n",
        "  # print('Accuracy: ', round(accList[a],2))\n",
        "  print('Balanced Acc: ', round(baccList[a],2))\n",
        "  # print('Auc: ', round(aucList[a],2))\n",
        "  # print('Confusion Matrix: \\n', cmatrixList[a])\n",
        "  print(creportList[a])"
      ]
    },
    {
      "cell_type": "markdown",
      "metadata": {},
      "source": [
        "#### Naive-Bayes"
      ]
    },
    {
      "cell_type": "code",
      "execution_count": null,
      "metadata": {},
      "outputs": [],
      "source": [
        "# Naive Bayes\n",
        "aspects_test = ['REC', 'MEJ']\n",
        "classN = ['Negative', 'Positive']\n",
        "accList = []\n",
        "baccList= []\n",
        "aucList = []\n",
        "cmatrixList = []\n",
        "creportList = []\n",
        "\n",
        "for asp in aspects:\n",
        "  mnb = MultinomialNB()\n",
        "  mnb.fit(tf_x_train, aspects_train[asp])\n",
        "\n",
        "  # Metrics\n",
        "  y_pred = mnb.predict(tf_x_test)\n",
        "\n",
        "  accList.append(mnb.score(tf_x_test, aspects_test[asp]))\n",
        "  baccList.append(metrics.balanced_accuracy_score(aspects_test[asp], y_pred))\n",
        "  cmatrixList.append(metrics.confusion_matrix(aspects_test[asp], y_pred))\n",
        "  creportList.append(metrics.classification_report(aspects_test[asp], y_pred))\n",
        "\n",
        "for a in range(len(aspects)):\n",
        "  print('------------',aspects[a],'------------')\n",
        "  # print('Accuracy: ', round(accList[a],2))\n",
        "  print('Balanced Acc: ', round(baccList[a],2))\n",
        "  # print('Auc: ', round(aucList[a],2))\n",
        "  # print('Confusion Matrix: \\n', cmatrixList[a])\n",
        "  print(creportList[a])"
      ]
    },
    {
      "cell_type": "markdown",
      "metadata": {},
      "source": [
        "### 5.2: Using Word Embeddings"
      ]
    },
    {
      "cell_type": "code",
      "execution_count": null,
      "metadata": {},
      "outputs": [],
      "source": [
        "# Load the model\n",
        "model = Word2Vec.load('word2vec.model')\n",
        "\n",
        "# Define a function to obtain the comment vector\n",
        "def get_comments_vectors(comments):\n",
        "    comments_vectors = []\n",
        "    for comment in comments:\n",
        "        comment_words = comment  # Split the comment into individual words\n",
        "        comment_vector = np.zeros(model.vector_size)  # Initialize an array of zeros for the comment vector\n",
        "        \n",
        "        for word in comment_words:\n",
        "            if word in model.wv:\n",
        "                comment_vector += model.wv[word]  # Add the word vector to the comment vector\n",
        "        comments_vectors.append(comment_vector)\n",
        "    return comments_vectors\n",
        "\n",
        "# Example usage\n",
        "comments_vectors = get_comments_vectors(comments)"
      ]
    },
    {
      "cell_type": "code",
      "execution_count": null,
      "metadata": {},
      "outputs": [],
      "source": [
        "print(comments_vectors[0])\n",
        "print(len(comments_vectors))"
      ]
    },
    {
      "cell_type": "code",
      "execution_count": null,
      "metadata": {},
      "outputs": [],
      "source": [
        "comments_train,comments_test,aspects_train, aspects_test = train_test_split(comments_vectors, aspects_classes, test_size=0.25, random_state=30)\n",
        "print('Train:', 'Comentarios->', len(comments_train), 'Aspectos->',  aspects_train.shape, '\\nTest:', 'Comentarios->', len(comments_test),'Aspectos->', aspects_test.shape)"
      ]
    },
    {
      "cell_type": "markdown",
      "metadata": {},
      "source": [
        "## 6: DL Classifiers"
      ]
    },
    {
      "cell_type": "markdown",
      "metadata": {},
      "source": [
        "### 6.1 Using Word Embeddings"
      ]
    },
    {
      "cell_type": "code",
      "execution_count": null,
      "metadata": {},
      "outputs": [],
      "source": []
    },
    {
      "cell_type": "code",
      "execution_count": null,
      "metadata": {},
      "outputs": [],
      "source": [
        "# SVM poly\n",
        "aspects_test = ['REC', 'APR']\n",
        "classN = ['Negative', 'Positive']\n",
        "accList = []\n",
        "baccList= []\n",
        "aucList = []\n",
        "cmatrixList = []\n",
        "creportList = []\n",
        "\n",
        "for asp in aspects_test:\n",
        "  svm = SVC(kernel='poly', random_state=12022024)\n",
        "  svm.fit(comments_vectors, aspects_train[asp])\n",
        "\n",
        "  # Metrics\n",
        "  y_pred = svm.predict(tf_x_test)\n",
        "\n",
        "  accList.append(svm.score(tf_x_test, aspects_test[asp]))\n",
        "  baccList.append(metrics.balanced_accuracy_score(aspects_test[asp], y_pred))\n",
        "  cmatrixList.append(metrics.confusion_matrix(aspects_test[asp], y_pred))\n",
        "  creportList.append(metrics.classification_report(aspects_test[asp], y_pred))\n",
        "\n",
        "for a in range(len(aspects_test)):\n",
        "  print('------------',aspects_test[a],'------------')\n",
        "  # print('Accuracy: ', round(accList[a],2))\n",
        "  print('Balanced Acc: ', round(baccList[a],2))\n",
        "  # print('Auc: ', round(aucList[a],2))\n",
        "  # print('Confusion Matrix: \\n', cmatrixList[a])\n",
        "  print(creportList[a])"
      ]
    },
    {
      "cell_type": "markdown",
      "metadata": {},
      "source": [
        "#### Multilayer perceptron"
      ]
    },
    {
      "cell_type": "code",
      "execution_count": null,
      "metadata": {},
      "outputs": [],
      "source": [
        "from tensorflow.keras.models import Sequential\n",
        "from tensorflow.keras.layers import Dense"
      ]
    },
    {
      "cell_type": "code",
      "execution_count": null,
      "metadata": {},
      "outputs": [],
      "source": [
        "aspectos = ['APR', 'DOM', 'REC', 'RET']\n",
        "classN = ['Negative', 'Neutral', 'Positive']\n",
        "accList = []\n",
        "baccList= []\n",
        "aucList = []\n",
        "cmatrixList = []\n",
        "creportList = []\n",
        "grafos = []\n",
        "\n",
        "for asp in aspectos:\n",
        "  # Entrenar todos los modelos con cada aspecto usando MLP\n",
        "  m = Sequential()\n",
        "  m.add(Dense(128, input_shape=(100,), activation='relu'))\n",
        "  m.add(Dense(64, activation='relu'))\n",
        "  m.add(Dense(3, activation='softmax'))\n",
        "\n",
        "  # Compile the model\n",
        "  m.compile(loss='sparse_categorical_crossentropy', optimizer='adam', metrics=['accuracy'])\n",
        "\n",
        "  # Train the model\n",
        "  m.fit(comments_train, aspects_train[asp], epochs=10, batch_size=32, validation_data=(comments_test, aspects_test[asp]))\n",
        "\n",
        "  # Metrics\n",
        "  # y_pred = m.predict_classes(comments_test)\n",
        "  y_pred = np.argmax(m.predict(comments_test), axis=-1)\n",
        "\n",
        "  # accList.append(svm.score(comments_test, aspects_test[asp]))\n",
        "  # baccList.append(metrics.balanced_accuracy_score(aspects_test[asp], y_pred))\n",
        "  # cmatrixList.append(metrics.confusion_matrix(aspects_test[asp], y_pred))\n",
        "  # creportList.append(metrics.classification_report(aspects_test[asp], y_pred))\n",
        "  \n",
        "  # pred = svm.predict_proba(comments_test)\n",
        "  # aucList.append(metrics.roc_auc_score(aspects_test[asp].to_numpy(), pred, multi_class='ovr'))\n",
        "\n",
        "  cr = metrics.classification_report(aspects_test[asp], y_pred)\n",
        "  creportList.append(cr)\n",
        "  print(cr)"
      ]
    },
    {
      "cell_type": "markdown",
      "metadata": {},
      "source": [
        "#### TODO: Convolutional Neural Network"
      ]
    },
    {
      "cell_type": "code",
      "execution_count": null,
      "metadata": {},
      "outputs": [],
      "source": [
        "from tensorflow.keras.models import Sequential\n",
        "from tensorflow.keras.layers import Embedding, Conv1D, GlobalMaxPooling1D, Dense\n",
        "\n",
        "# Define the model\n",
        "cnn = Sequential()\n",
        "\n",
        "# Vocabulary size\n",
        "vocab_size = len(model.wv.key_to_index)\n",
        "\n",
        "# Embedding dimension\n",
        "embedding_dim = model.vector_size\n",
        "\n",
        "# Add an embedding layer\n",
        "cnn.add(Embedding(input_dim=vocab_size, output_dim=embedding_dim, input_length=140))\n",
        "\n",
        "# Add a 1D convolutional layer\n",
        "cnn.add(Conv1D(filters=128, kernel_size=5, activation='relu'))\n",
        "\n",
        "# Add a global max pooling layer\n",
        "cnn.add(GlobalMaxPooling1D())\n",
        "\n",
        "# Add a dense layer\n",
        "cnn.add(Dense(units=64, activation='relu'))\n",
        "\n",
        "# Add an output layer\n",
        "cnn.add(Dense(units=1, activation='softmax'))\n",
        "\n",
        "# Compile the model\n",
        "cnn.compile(loss='binary_crossentropy', optimizer='adam', metrics=['accuracy'])\n",
        "\n",
        "# Print the model summary\n",
        "cnn.summary()\n"
      ]
    },
    {
      "cell_type": "markdown",
      "metadata": {},
      "source": [
        "## 7: Transformers"
      ]
    },
    {
      "cell_type": "code",
      "execution_count": null,
      "metadata": {},
      "outputs": [],
      "source": []
    }
  ],
  "metadata": {
    "colab": {
      "provenance": [],
      "toc_visible": true
    },
    "kernelspec": {
      "display_name": "Python 3",
      "name": "python3"
    },
    "language_info": {
      "codemirror_mode": {
        "name": "ipython",
        "version": 3
      },
      "file_extension": ".py",
      "mimetype": "text/x-python",
      "name": "python",
      "nbconvert_exporter": "python",
      "pygments_lexer": "ipython3",
      "version": "3.9.6"
    },
    "widgets": {
      "application/vnd.jupyter.widget-state+json": {
        "02b9749c676240d7920041b9b9f2517b": {
          "model_module": "@jupyter-widgets/base",
          "model_module_version": "1.2.0",
          "model_name": "LayoutModel",
          "state": {
            "_model_module": "@jupyter-widgets/base",
            "_model_module_version": "1.2.0",
            "_model_name": "LayoutModel",
            "_view_count": null,
            "_view_module": "@jupyter-widgets/base",
            "_view_module_version": "1.2.0",
            "_view_name": "LayoutView",
            "align_content": null,
            "align_items": null,
            "align_self": null,
            "border": null,
            "bottom": null,
            "display": null,
            "flex": null,
            "flex_flow": null,
            "grid_area": null,
            "grid_auto_columns": null,
            "grid_auto_flow": null,
            "grid_auto_rows": null,
            "grid_column": null,
            "grid_gap": null,
            "grid_row": null,
            "grid_template_areas": null,
            "grid_template_columns": null,
            "grid_template_rows": null,
            "height": null,
            "justify_content": null,
            "justify_items": null,
            "left": null,
            "margin": null,
            "max_height": null,
            "max_width": null,
            "min_height": null,
            "min_width": null,
            "object_fit": null,
            "object_position": null,
            "order": null,
            "overflow": null,
            "overflow_x": null,
            "overflow_y": null,
            "padding": null,
            "right": null,
            "top": null,
            "visibility": null,
            "width": null
          }
        },
        "07961406fe9945e9a9d87eeac5fb9697": {
          "model_module": "@jupyter-widgets/controls",
          "model_module_version": "1.5.0",
          "model_name": "FloatProgressModel",
          "state": {
            "_dom_classes": [],
            "_model_module": "@jupyter-widgets/controls",
            "_model_module_version": "1.5.0",
            "_model_name": "FloatProgressModel",
            "_view_count": null,
            "_view_module": "@jupyter-widgets/controls",
            "_view_module_version": "1.5.0",
            "_view_name": "ProgressView",
            "bar_style": "success",
            "description": "",
            "description_tooltip": null,
            "layout": "IPY_MODEL_95fbc17815014c8fbb24bc5d8782ebea",
            "max": 635818,
            "min": 0,
            "orientation": "horizontal",
            "style": "IPY_MODEL_b97a92f394b04742b7a852800906c168",
            "value": 635818
          }
        },
        "08d9afd6a7844d7dae0b5d8c3c1501e9": {
          "model_module": "@jupyter-widgets/controls",
          "model_module_version": "1.5.0",
          "model_name": "ProgressStyleModel",
          "state": {
            "_model_module": "@jupyter-widgets/controls",
            "_model_module_version": "1.5.0",
            "_model_name": "ProgressStyleModel",
            "_view_count": null,
            "_view_module": "@jupyter-widgets/base",
            "_view_module_version": "1.2.0",
            "_view_name": "StyleView",
            "bar_color": null,
            "description_width": ""
          }
        },
        "0f0586cc31a14fed973648f4ec1b5509": {
          "model_module": "@jupyter-widgets/controls",
          "model_module_version": "1.5.0",
          "model_name": "HTMLModel",
          "state": {
            "_dom_classes": [],
            "_model_module": "@jupyter-widgets/controls",
            "_model_module_version": "1.5.0",
            "_model_name": "HTMLModel",
            "_view_count": null,
            "_view_module": "@jupyter-widgets/controls",
            "_view_module_version": "1.5.0",
            "_view_name": "HTMLView",
            "description": "",
            "description_tooltip": null,
            "layout": "IPY_MODEL_da21587cf5d84c20a7e1996051ddd52f",
            "placeholder": "​",
            "style": "IPY_MODEL_a8d39d161ca94871b438e528b800028d",
            "value": " 636k/636k [00:00&lt;00:00, 2.46MB/s]"
          }
        },
        "106d5d22e9764650af23bc73f3331704": {
          "model_module": "@jupyter-widgets/controls",
          "model_module_version": "1.5.0",
          "model_name": "HTMLModel",
          "state": {
            "_dom_classes": [],
            "_model_module": "@jupyter-widgets/controls",
            "_model_module_version": "1.5.0",
            "_model_name": "HTMLModel",
            "_view_count": null,
            "_view_module": "@jupyter-widgets/controls",
            "_view_module_version": "1.5.0",
            "_view_name": "HTMLView",
            "description": "",
            "description_tooltip": null,
            "layout": "IPY_MODEL_5cf96dc27b3c4a2a95c9728ea4dcff4c",
            "placeholder": "​",
            "style": "IPY_MODEL_6282db22aab241b0b48bac88cd013acc",
            "value": " 36.9M/36.9M [00:00&lt;00:00, 62.9MB/s]"
          }
        },
        "1476dc33a71d417fb53044bfe1476450": {
          "model_module": "@jupyter-widgets/controls",
          "model_module_version": "1.5.0",
          "model_name": "ProgressStyleModel",
          "state": {
            "_model_module": "@jupyter-widgets/controls",
            "_model_module_version": "1.5.0",
            "_model_name": "ProgressStyleModel",
            "_view_count": null,
            "_view_module": "@jupyter-widgets/base",
            "_view_module_version": "1.2.0",
            "_view_name": "StyleView",
            "bar_color": null,
            "description_width": ""
          }
        },
        "214b5ad44af841eba680dcdbc926db60": {
          "model_module": "@jupyter-widgets/base",
          "model_module_version": "1.2.0",
          "model_name": "LayoutModel",
          "state": {
            "_model_module": "@jupyter-widgets/base",
            "_model_module_version": "1.2.0",
            "_model_name": "LayoutModel",
            "_view_count": null,
            "_view_module": "@jupyter-widgets/base",
            "_view_module_version": "1.2.0",
            "_view_name": "LayoutView",
            "align_content": null,
            "align_items": null,
            "align_self": null,
            "border": null,
            "bottom": null,
            "display": null,
            "flex": null,
            "flex_flow": null,
            "grid_area": null,
            "grid_auto_columns": null,
            "grid_auto_flow": null,
            "grid_auto_rows": null,
            "grid_column": null,
            "grid_gap": null,
            "grid_row": null,
            "grid_template_areas": null,
            "grid_template_columns": null,
            "grid_template_rows": null,
            "height": null,
            "justify_content": null,
            "justify_items": null,
            "left": null,
            "margin": null,
            "max_height": null,
            "max_width": null,
            "min_height": null,
            "min_width": null,
            "object_fit": null,
            "object_position": null,
            "order": null,
            "overflow": null,
            "overflow_x": null,
            "overflow_y": null,
            "padding": null,
            "right": null,
            "top": null,
            "visibility": null,
            "width": null
          }
        },
        "24ecbeaf9023488fb28043376b84946d": {
          "model_module": "@jupyter-widgets/base",
          "model_module_version": "1.2.0",
          "model_name": "LayoutModel",
          "state": {
            "_model_module": "@jupyter-widgets/base",
            "_model_module_version": "1.2.0",
            "_model_name": "LayoutModel",
            "_view_count": null,
            "_view_module": "@jupyter-widgets/base",
            "_view_module_version": "1.2.0",
            "_view_name": "LayoutView",
            "align_content": null,
            "align_items": null,
            "align_self": null,
            "border": null,
            "bottom": null,
            "display": null,
            "flex": null,
            "flex_flow": null,
            "grid_area": null,
            "grid_auto_columns": null,
            "grid_auto_flow": null,
            "grid_auto_rows": null,
            "grid_column": null,
            "grid_gap": null,
            "grid_row": null,
            "grid_template_areas": null,
            "grid_template_columns": null,
            "grid_template_rows": null,
            "height": null,
            "justify_content": null,
            "justify_items": null,
            "left": null,
            "margin": null,
            "max_height": null,
            "max_width": null,
            "min_height": null,
            "min_width": null,
            "object_fit": null,
            "object_position": null,
            "order": null,
            "overflow": null,
            "overflow_x": null,
            "overflow_y": null,
            "padding": null,
            "right": null,
            "top": null,
            "visibility": null,
            "width": null
          }
        },
        "252793a96d85486ab6a0efbdd0dce83e": {
          "model_module": "@jupyter-widgets/controls",
          "model_module_version": "1.5.0",
          "model_name": "ProgressStyleModel",
          "state": {
            "_model_module": "@jupyter-widgets/controls",
            "_model_module_version": "1.5.0",
            "_model_name": "ProgressStyleModel",
            "_view_count": null,
            "_view_module": "@jupyter-widgets/base",
            "_view_module_version": "1.2.0",
            "_view_name": "StyleView",
            "bar_color": null,
            "description_width": ""
          }
        },
        "2644a5e076b1401d90ed6f04416b7bec": {
          "model_module": "@jupyter-widgets/base",
          "model_module_version": "1.2.0",
          "model_name": "LayoutModel",
          "state": {
            "_model_module": "@jupyter-widgets/base",
            "_model_module_version": "1.2.0",
            "_model_name": "LayoutModel",
            "_view_count": null,
            "_view_module": "@jupyter-widgets/base",
            "_view_module_version": "1.2.0",
            "_view_name": "LayoutView",
            "align_content": null,
            "align_items": null,
            "align_self": null,
            "border": null,
            "bottom": null,
            "display": null,
            "flex": null,
            "flex_flow": null,
            "grid_area": null,
            "grid_auto_columns": null,
            "grid_auto_flow": null,
            "grid_auto_rows": null,
            "grid_column": null,
            "grid_gap": null,
            "grid_row": null,
            "grid_template_areas": null,
            "grid_template_columns": null,
            "grid_template_rows": null,
            "height": null,
            "justify_content": null,
            "justify_items": null,
            "left": null,
            "margin": null,
            "max_height": null,
            "max_width": null,
            "min_height": null,
            "min_width": null,
            "object_fit": null,
            "object_position": null,
            "order": null,
            "overflow": null,
            "overflow_x": null,
            "overflow_y": null,
            "padding": null,
            "right": null,
            "top": null,
            "visibility": null,
            "width": null
          }
        },
        "28cdd034ad26418c9c85a668c7c1346c": {
          "model_module": "@jupyter-widgets/controls",
          "model_module_version": "1.5.0",
          "model_name": "DescriptionStyleModel",
          "state": {
            "_model_module": "@jupyter-widgets/controls",
            "_model_module_version": "1.5.0",
            "_model_name": "DescriptionStyleModel",
            "_view_count": null,
            "_view_module": "@jupyter-widgets/base",
            "_view_module_version": "1.2.0",
            "_view_name": "StyleView",
            "description_width": ""
          }
        },
        "29cb4039ed0447bea5af358399b38595": {
          "model_module": "@jupyter-widgets/base",
          "model_module_version": "1.2.0",
          "model_name": "LayoutModel",
          "state": {
            "_model_module": "@jupyter-widgets/base",
            "_model_module_version": "1.2.0",
            "_model_name": "LayoutModel",
            "_view_count": null,
            "_view_module": "@jupyter-widgets/base",
            "_view_module_version": "1.2.0",
            "_view_name": "LayoutView",
            "align_content": null,
            "align_items": null,
            "align_self": null,
            "border": null,
            "bottom": null,
            "display": null,
            "flex": null,
            "flex_flow": null,
            "grid_area": null,
            "grid_auto_columns": null,
            "grid_auto_flow": null,
            "grid_auto_rows": null,
            "grid_column": null,
            "grid_gap": null,
            "grid_row": null,
            "grid_template_areas": null,
            "grid_template_columns": null,
            "grid_template_rows": null,
            "height": null,
            "justify_content": null,
            "justify_items": null,
            "left": null,
            "margin": null,
            "max_height": null,
            "max_width": null,
            "min_height": null,
            "min_width": null,
            "object_fit": null,
            "object_position": null,
            "order": null,
            "overflow": null,
            "overflow_x": null,
            "overflow_y": null,
            "padding": null,
            "right": null,
            "top": null,
            "visibility": null,
            "width": null
          }
        },
        "29ea0e5ffee84c46806b0b490e590334": {
          "model_module": "@jupyter-widgets/base",
          "model_module_version": "1.2.0",
          "model_name": "LayoutModel",
          "state": {
            "_model_module": "@jupyter-widgets/base",
            "_model_module_version": "1.2.0",
            "_model_name": "LayoutModel",
            "_view_count": null,
            "_view_module": "@jupyter-widgets/base",
            "_view_module_version": "1.2.0",
            "_view_name": "LayoutView",
            "align_content": null,
            "align_items": null,
            "align_self": null,
            "border": null,
            "bottom": null,
            "display": null,
            "flex": null,
            "flex_flow": null,
            "grid_area": null,
            "grid_auto_columns": null,
            "grid_auto_flow": null,
            "grid_auto_rows": null,
            "grid_column": null,
            "grid_gap": null,
            "grid_row": null,
            "grid_template_areas": null,
            "grid_template_columns": null,
            "grid_template_rows": null,
            "height": null,
            "justify_content": null,
            "justify_items": null,
            "left": null,
            "margin": null,
            "max_height": null,
            "max_width": null,
            "min_height": null,
            "min_width": null,
            "object_fit": null,
            "object_position": null,
            "order": null,
            "overflow": null,
            "overflow_x": null,
            "overflow_y": null,
            "padding": null,
            "right": null,
            "top": null,
            "visibility": null,
            "width": null
          }
        },
        "2b5a7afca77149bdb34b67a592e4e866": {
          "model_module": "@jupyter-widgets/controls",
          "model_module_version": "1.5.0",
          "model_name": "DescriptionStyleModel",
          "state": {
            "_model_module": "@jupyter-widgets/controls",
            "_model_module_version": "1.5.0",
            "_model_name": "DescriptionStyleModel",
            "_view_count": null,
            "_view_module": "@jupyter-widgets/base",
            "_view_module_version": "1.2.0",
            "_view_name": "StyleView",
            "description_width": ""
          }
        },
        "336e28ffdf1a4e5cba8e493b2ee1fa4a": {
          "model_module": "@jupyter-widgets/controls",
          "model_module_version": "1.5.0",
          "model_name": "DescriptionStyleModel",
          "state": {
            "_model_module": "@jupyter-widgets/controls",
            "_model_module_version": "1.5.0",
            "_model_name": "DescriptionStyleModel",
            "_view_count": null,
            "_view_module": "@jupyter-widgets/base",
            "_view_module_version": "1.2.0",
            "_view_name": "StyleView",
            "description_width": ""
          }
        },
        "3741dc99901d43a08d0c9eb0e3206474": {
          "model_module": "@jupyter-widgets/controls",
          "model_module_version": "1.5.0",
          "model_name": "HTMLModel",
          "state": {
            "_dom_classes": [],
            "_model_module": "@jupyter-widgets/controls",
            "_model_module_version": "1.5.0",
            "_model_name": "HTMLModel",
            "_view_count": null,
            "_view_module": "@jupyter-widgets/controls",
            "_view_module_version": "1.5.0",
            "_view_name": "HTMLView",
            "description": "",
            "description_tooltip": null,
            "layout": "IPY_MODEL_82fe0a21e5d14af3a4d62d6b6b7e91ae",
            "placeholder": "​",
            "style": "IPY_MODEL_4a2cc13f9467467f86e470835009272e",
            "value": "Downloading https://huggingface.co/stanfordnlp/stanza-es/resolve/v1.7.0/models/tokenize/ancora.pt: 100%"
          }
        },
        "3801e2f5350e45ad9ebcc4e60403724f": {
          "model_module": "@jupyter-widgets/controls",
          "model_module_version": "1.5.0",
          "model_name": "HBoxModel",
          "state": {
            "_dom_classes": [],
            "_model_module": "@jupyter-widgets/controls",
            "_model_module_version": "1.5.0",
            "_model_name": "HBoxModel",
            "_view_count": null,
            "_view_module": "@jupyter-widgets/controls",
            "_view_module_version": "1.5.0",
            "_view_name": "HBoxView",
            "box_style": "",
            "children": [
              "IPY_MODEL_fac789eef0734f80b01b5f4505da7b49",
              "IPY_MODEL_9b1b558d14714e4785d3bde0811e0caf",
              "IPY_MODEL_aaebbf5431a24773a76c47bc6b5b851e"
            ],
            "layout": "IPY_MODEL_2644a5e076b1401d90ed6f04416b7bec"
          }
        },
        "389701d2273d40ceaac0ea1fe6770bf9": {
          "model_module": "@jupyter-widgets/controls",
          "model_module_version": "1.5.0",
          "model_name": "HBoxModel",
          "state": {
            "_dom_classes": [],
            "_model_module": "@jupyter-widgets/controls",
            "_model_module_version": "1.5.0",
            "_model_name": "HBoxModel",
            "_view_count": null,
            "_view_module": "@jupyter-widgets/controls",
            "_view_module_version": "1.5.0",
            "_view_name": "HBoxView",
            "box_style": "",
            "children": [
              "IPY_MODEL_71104e41527f43c093963158942a4336",
              "IPY_MODEL_f3b8f388c33f4863ac6c8bddf56cffa5",
              "IPY_MODEL_5cb6760140844a84999c1ec8726e9d14"
            ],
            "layout": "IPY_MODEL_ce111a0f7bca47dab98f162c082bc5db"
          }
        },
        "39a3816b615448bb908d64c1526ab18f": {
          "model_module": "@jupyter-widgets/base",
          "model_module_version": "1.2.0",
          "model_name": "LayoutModel",
          "state": {
            "_model_module": "@jupyter-widgets/base",
            "_model_module_version": "1.2.0",
            "_model_name": "LayoutModel",
            "_view_count": null,
            "_view_module": "@jupyter-widgets/base",
            "_view_module_version": "1.2.0",
            "_view_name": "LayoutView",
            "align_content": null,
            "align_items": null,
            "align_self": null,
            "border": null,
            "bottom": null,
            "display": null,
            "flex": null,
            "flex_flow": null,
            "grid_area": null,
            "grid_auto_columns": null,
            "grid_auto_flow": null,
            "grid_auto_rows": null,
            "grid_column": null,
            "grid_gap": null,
            "grid_row": null,
            "grid_template_areas": null,
            "grid_template_columns": null,
            "grid_template_rows": null,
            "height": null,
            "justify_content": null,
            "justify_items": null,
            "left": null,
            "margin": null,
            "max_height": null,
            "max_width": null,
            "min_height": null,
            "min_width": null,
            "object_fit": null,
            "object_position": null,
            "order": null,
            "overflow": null,
            "overflow_x": null,
            "overflow_y": null,
            "padding": null,
            "right": null,
            "top": null,
            "visibility": null,
            "width": null
          }
        },
        "3e8a8b8f60e64d289f3974f98419257e": {
          "model_module": "@jupyter-widgets/base",
          "model_module_version": "1.2.0",
          "model_name": "LayoutModel",
          "state": {
            "_model_module": "@jupyter-widgets/base",
            "_model_module_version": "1.2.0",
            "_model_name": "LayoutModel",
            "_view_count": null,
            "_view_module": "@jupyter-widgets/base",
            "_view_module_version": "1.2.0",
            "_view_name": "LayoutView",
            "align_content": null,
            "align_items": null,
            "align_self": null,
            "border": null,
            "bottom": null,
            "display": null,
            "flex": null,
            "flex_flow": null,
            "grid_area": null,
            "grid_auto_columns": null,
            "grid_auto_flow": null,
            "grid_auto_rows": null,
            "grid_column": null,
            "grid_gap": null,
            "grid_row": null,
            "grid_template_areas": null,
            "grid_template_columns": null,
            "grid_template_rows": null,
            "height": null,
            "justify_content": null,
            "justify_items": null,
            "left": null,
            "margin": null,
            "max_height": null,
            "max_width": null,
            "min_height": null,
            "min_width": null,
            "object_fit": null,
            "object_position": null,
            "order": null,
            "overflow": null,
            "overflow_x": null,
            "overflow_y": null,
            "padding": null,
            "right": null,
            "top": null,
            "visibility": null,
            "width": null
          }
        },
        "40a2279aa24046328dd67467b8107b61": {
          "model_module": "@jupyter-widgets/base",
          "model_module_version": "1.2.0",
          "model_name": "LayoutModel",
          "state": {
            "_model_module": "@jupyter-widgets/base",
            "_model_module_version": "1.2.0",
            "_model_name": "LayoutModel",
            "_view_count": null,
            "_view_module": "@jupyter-widgets/base",
            "_view_module_version": "1.2.0",
            "_view_name": "LayoutView",
            "align_content": null,
            "align_items": null,
            "align_self": null,
            "border": null,
            "bottom": null,
            "display": null,
            "flex": null,
            "flex_flow": null,
            "grid_area": null,
            "grid_auto_columns": null,
            "grid_auto_flow": null,
            "grid_auto_rows": null,
            "grid_column": null,
            "grid_gap": null,
            "grid_row": null,
            "grid_template_areas": null,
            "grid_template_columns": null,
            "grid_template_rows": null,
            "height": null,
            "justify_content": null,
            "justify_items": null,
            "left": null,
            "margin": null,
            "max_height": null,
            "max_width": null,
            "min_height": null,
            "min_width": null,
            "object_fit": null,
            "object_position": null,
            "order": null,
            "overflow": null,
            "overflow_x": null,
            "overflow_y": null,
            "padding": null,
            "right": null,
            "top": null,
            "visibility": null,
            "width": null
          }
        },
        "4105a218d4d74ce1a198fee23c6a47c1": {
          "model_module": "@jupyter-widgets/controls",
          "model_module_version": "1.5.0",
          "model_name": "HBoxModel",
          "state": {
            "_dom_classes": [],
            "_model_module": "@jupyter-widgets/controls",
            "_model_module_version": "1.5.0",
            "_model_name": "HBoxModel",
            "_view_count": null,
            "_view_module": "@jupyter-widgets/controls",
            "_view_module_version": "1.5.0",
            "_view_name": "HBoxView",
            "box_style": "",
            "children": [
              "IPY_MODEL_3741dc99901d43a08d0c9eb0e3206474",
              "IPY_MODEL_07961406fe9945e9a9d87eeac5fb9697",
              "IPY_MODEL_0f0586cc31a14fed973648f4ec1b5509"
            ],
            "layout": "IPY_MODEL_3e8a8b8f60e64d289f3974f98419257e"
          }
        },
        "48d3b42daf3d40d59c6ace714bc72bfc": {
          "model_module": "@jupyter-widgets/controls",
          "model_module_version": "1.5.0",
          "model_name": "HTMLModel",
          "state": {
            "_dom_classes": [],
            "_model_module": "@jupyter-widgets/controls",
            "_model_module_version": "1.5.0",
            "_model_name": "HTMLModel",
            "_view_count": null,
            "_view_module": "@jupyter-widgets/controls",
            "_view_module_version": "1.5.0",
            "_view_name": "HTMLView",
            "description": "",
            "description_tooltip": null,
            "layout": "IPY_MODEL_b5f837acb5ab4231bee532a7cc2f8098",
            "placeholder": "​",
            "style": "IPY_MODEL_8856415d1882401e9ae049d96aeebf7d",
            "value": " 20.0M/20.0M [00:00&lt;00:00, 57.3MB/s]"
          }
        },
        "4a2cc13f9467467f86e470835009272e": {
          "model_module": "@jupyter-widgets/controls",
          "model_module_version": "1.5.0",
          "model_name": "DescriptionStyleModel",
          "state": {
            "_model_module": "@jupyter-widgets/controls",
            "_model_module_version": "1.5.0",
            "_model_name": "DescriptionStyleModel",
            "_view_count": null,
            "_view_module": "@jupyter-widgets/base",
            "_view_module_version": "1.2.0",
            "_view_name": "StyleView",
            "description_width": ""
          }
        },
        "4c29ba6091524584ad278ef8fd4715fd": {
          "model_module": "@jupyter-widgets/controls",
          "model_module_version": "1.5.0",
          "model_name": "HTMLModel",
          "state": {
            "_dom_classes": [],
            "_model_module": "@jupyter-widgets/controls",
            "_model_module_version": "1.5.0",
            "_model_name": "HTMLModel",
            "_view_count": null,
            "_view_module": "@jupyter-widgets/controls",
            "_view_module_version": "1.5.0",
            "_view_name": "HTMLView",
            "description": "",
            "description_tooltip": null,
            "layout": "IPY_MODEL_39a3816b615448bb908d64c1526ab18f",
            "placeholder": "​",
            "style": "IPY_MODEL_f67343df8bc841c8bd6f88b71c6a8907",
            "value": "Downloading https://huggingface.co/stanfordnlp/stanza-es/resolve/v1.7.0/models/mwt/ancora.pt: 100%"
          }
        },
        "4d31ad5321bc45b6a985b9270671c92c": {
          "model_module": "@jupyter-widgets/controls",
          "model_module_version": "1.5.0",
          "model_name": "ProgressStyleModel",
          "state": {
            "_model_module": "@jupyter-widgets/controls",
            "_model_module_version": "1.5.0",
            "_model_name": "ProgressStyleModel",
            "_view_count": null,
            "_view_module": "@jupyter-widgets/base",
            "_view_module_version": "1.2.0",
            "_view_name": "StyleView",
            "bar_color": null,
            "description_width": ""
          }
        },
        "4d7f8a60ed1d4204b01011c4f017bcd1": {
          "model_module": "@jupyter-widgets/controls",
          "model_module_version": "1.5.0",
          "model_name": "HBoxModel",
          "state": {
            "_dom_classes": [],
            "_model_module": "@jupyter-widgets/controls",
            "_model_module_version": "1.5.0",
            "_model_name": "HBoxModel",
            "_view_count": null,
            "_view_module": "@jupyter-widgets/controls",
            "_view_module_version": "1.5.0",
            "_view_name": "HBoxView",
            "box_style": "",
            "children": [
              "IPY_MODEL_a79d374f23be49a5b4e81c1fb76ec299",
              "IPY_MODEL_ff7825cbd8314f0cb1ee7be7f1c26a7a",
              "IPY_MODEL_c2f3f8e70aef42d596157c9818fc9cdf"
            ],
            "layout": "IPY_MODEL_fea272d4247c4ab3b29f1d267fb74a55"
          }
        },
        "516eecd4a7f44e6a9900f48281d0af79": {
          "model_module": "@jupyter-widgets/controls",
          "model_module_version": "1.5.0",
          "model_name": "HBoxModel",
          "state": {
            "_dom_classes": [],
            "_model_module": "@jupyter-widgets/controls",
            "_model_module_version": "1.5.0",
            "_model_name": "HBoxModel",
            "_view_count": null,
            "_view_module": "@jupyter-widgets/controls",
            "_view_module_version": "1.5.0",
            "_view_name": "HBoxView",
            "box_style": "",
            "children": [
              "IPY_MODEL_dd926215c04c4f22a5570f131a3d3f4c",
              "IPY_MODEL_b11dc8ea980343eb965705564fd5b8ee",
              "IPY_MODEL_106d5d22e9764650af23bc73f3331704"
            ],
            "layout": "IPY_MODEL_87e5f7950edb4f108d84a6dc97a288b6"
          }
        },
        "5cb6760140844a84999c1ec8726e9d14": {
          "model_module": "@jupyter-widgets/controls",
          "model_module_version": "1.5.0",
          "model_name": "HTMLModel",
          "state": {
            "_dom_classes": [],
            "_model_module": "@jupyter-widgets/controls",
            "_model_module_version": "1.5.0",
            "_model_name": "HTMLModel",
            "_view_count": null,
            "_view_module": "@jupyter-widgets/controls",
            "_view_module_version": "1.5.0",
            "_view_name": "HTMLView",
            "description": "",
            "description_tooltip": null,
            "layout": "IPY_MODEL_cbe076b020d5428f9450a337588f2700",
            "placeholder": "​",
            "style": "IPY_MODEL_8ff8d8e2b37f4229a5ee6690a534a8fd",
            "value": " 370k/? [00:00&lt;00:00, 11.1MB/s]"
          }
        },
        "5cf96dc27b3c4a2a95c9728ea4dcff4c": {
          "model_module": "@jupyter-widgets/base",
          "model_module_version": "1.2.0",
          "model_name": "LayoutModel",
          "state": {
            "_model_module": "@jupyter-widgets/base",
            "_model_module_version": "1.2.0",
            "_model_name": "LayoutModel",
            "_view_count": null,
            "_view_module": "@jupyter-widgets/base",
            "_view_module_version": "1.2.0",
            "_view_name": "LayoutView",
            "align_content": null,
            "align_items": null,
            "align_self": null,
            "border": null,
            "bottom": null,
            "display": null,
            "flex": null,
            "flex_flow": null,
            "grid_area": null,
            "grid_auto_columns": null,
            "grid_auto_flow": null,
            "grid_auto_rows": null,
            "grid_column": null,
            "grid_gap": null,
            "grid_row": null,
            "grid_template_areas": null,
            "grid_template_columns": null,
            "grid_template_rows": null,
            "height": null,
            "justify_content": null,
            "justify_items": null,
            "left": null,
            "margin": null,
            "max_height": null,
            "max_width": null,
            "min_height": null,
            "min_width": null,
            "object_fit": null,
            "object_position": null,
            "order": null,
            "overflow": null,
            "overflow_x": null,
            "overflow_y": null,
            "padding": null,
            "right": null,
            "top": null,
            "visibility": null,
            "width": null
          }
        },
        "5d17c9348cca42d683a50d18826ccb06": {
          "model_module": "@jupyter-widgets/controls",
          "model_module_version": "1.5.0",
          "model_name": "HTMLModel",
          "state": {
            "_dom_classes": [],
            "_model_module": "@jupyter-widgets/controls",
            "_model_module_version": "1.5.0",
            "_model_name": "HTMLModel",
            "_view_count": null,
            "_view_module": "@jupyter-widgets/controls",
            "_view_module_version": "1.5.0",
            "_view_name": "HTMLView",
            "description": "",
            "description_tooltip": null,
            "layout": "IPY_MODEL_d875d39a49a646a9bb9fca35c982bc0d",
            "placeholder": "​",
            "style": "IPY_MODEL_73c75d0278494f20869289a495052670",
            "value": " 4.61M/4.61M [00:00&lt;00:00, 3.53MB/s]"
          }
        },
        "5d87d22e3fd74845ae51fe87dd0e4e23": {
          "model_module": "@jupyter-widgets/controls",
          "model_module_version": "1.5.0",
          "model_name": "DescriptionStyleModel",
          "state": {
            "_model_module": "@jupyter-widgets/controls",
            "_model_module_version": "1.5.0",
            "_model_name": "DescriptionStyleModel",
            "_view_count": null,
            "_view_module": "@jupyter-widgets/base",
            "_view_module_version": "1.2.0",
            "_view_name": "StyleView",
            "description_width": ""
          }
        },
        "6269c95b2fc94b20819e5b9912df7683": {
          "model_module": "@jupyter-widgets/controls",
          "model_module_version": "1.5.0",
          "model_name": "DescriptionStyleModel",
          "state": {
            "_model_module": "@jupyter-widgets/controls",
            "_model_module_version": "1.5.0",
            "_model_name": "DescriptionStyleModel",
            "_view_count": null,
            "_view_module": "@jupyter-widgets/base",
            "_view_module_version": "1.2.0",
            "_view_name": "StyleView",
            "description_width": ""
          }
        },
        "6282db22aab241b0b48bac88cd013acc": {
          "model_module": "@jupyter-widgets/controls",
          "model_module_version": "1.5.0",
          "model_name": "DescriptionStyleModel",
          "state": {
            "_model_module": "@jupyter-widgets/controls",
            "_model_module_version": "1.5.0",
            "_model_name": "DescriptionStyleModel",
            "_view_count": null,
            "_view_module": "@jupyter-widgets/base",
            "_view_module_version": "1.2.0",
            "_view_name": "StyleView",
            "description_width": ""
          }
        },
        "6a65e0b6a98947849351a7d30c4d3931": {
          "model_module": "@jupyter-widgets/base",
          "model_module_version": "1.2.0",
          "model_name": "LayoutModel",
          "state": {
            "_model_module": "@jupyter-widgets/base",
            "_model_module_version": "1.2.0",
            "_model_name": "LayoutModel",
            "_view_count": null,
            "_view_module": "@jupyter-widgets/base",
            "_view_module_version": "1.2.0",
            "_view_name": "LayoutView",
            "align_content": null,
            "align_items": null,
            "align_self": null,
            "border": null,
            "bottom": null,
            "display": null,
            "flex": null,
            "flex_flow": null,
            "grid_area": null,
            "grid_auto_columns": null,
            "grid_auto_flow": null,
            "grid_auto_rows": null,
            "grid_column": null,
            "grid_gap": null,
            "grid_row": null,
            "grid_template_areas": null,
            "grid_template_columns": null,
            "grid_template_rows": null,
            "height": null,
            "justify_content": null,
            "justify_items": null,
            "left": null,
            "margin": null,
            "max_height": null,
            "max_width": null,
            "min_height": null,
            "min_width": null,
            "object_fit": null,
            "object_position": null,
            "order": null,
            "overflow": null,
            "overflow_x": null,
            "overflow_y": null,
            "padding": null,
            "right": null,
            "top": null,
            "visibility": null,
            "width": null
          }
        },
        "70199d3ccd9249389a00de159818f80d": {
          "model_module": "@jupyter-widgets/controls",
          "model_module_version": "1.5.0",
          "model_name": "ProgressStyleModel",
          "state": {
            "_model_module": "@jupyter-widgets/controls",
            "_model_module_version": "1.5.0",
            "_model_name": "ProgressStyleModel",
            "_view_count": null,
            "_view_module": "@jupyter-widgets/base",
            "_view_module_version": "1.2.0",
            "_view_name": "StyleView",
            "bar_color": null,
            "description_width": ""
          }
        },
        "71104e41527f43c093963158942a4336": {
          "model_module": "@jupyter-widgets/controls",
          "model_module_version": "1.5.0",
          "model_name": "HTMLModel",
          "state": {
            "_dom_classes": [],
            "_model_module": "@jupyter-widgets/controls",
            "_model_module_version": "1.5.0",
            "_model_name": "HTMLModel",
            "_view_count": null,
            "_view_module": "@jupyter-widgets/controls",
            "_view_module_version": "1.5.0",
            "_view_name": "HTMLView",
            "description": "",
            "description_tooltip": null,
            "layout": "IPY_MODEL_214b5ad44af841eba680dcdbc926db60",
            "placeholder": "​",
            "style": "IPY_MODEL_28cdd034ad26418c9c85a668c7c1346c",
            "value": "Downloading https://raw.githubusercontent.com/stanfordnlp/stanza-resources/main/resources_1.7.0.json: "
          }
        },
        "73c75d0278494f20869289a495052670": {
          "model_module": "@jupyter-widgets/controls",
          "model_module_version": "1.5.0",
          "model_name": "DescriptionStyleModel",
          "state": {
            "_model_module": "@jupyter-widgets/controls",
            "_model_module_version": "1.5.0",
            "_model_name": "DescriptionStyleModel",
            "_view_count": null,
            "_view_module": "@jupyter-widgets/base",
            "_view_module_version": "1.2.0",
            "_view_name": "StyleView",
            "description_width": ""
          }
        },
        "77bd1cc999194667b1547051834caee6": {
          "model_module": "@jupyter-widgets/controls",
          "model_module_version": "1.5.0",
          "model_name": "HTMLModel",
          "state": {
            "_dom_classes": [],
            "_model_module": "@jupyter-widgets/controls",
            "_model_module_version": "1.5.0",
            "_model_name": "HTMLModel",
            "_view_count": null,
            "_view_module": "@jupyter-widgets/controls",
            "_view_module_version": "1.5.0",
            "_view_name": "HTMLView",
            "description": "",
            "description_tooltip": null,
            "layout": "IPY_MODEL_cbeb85d7614a4bef81e1d2f58349eda6",
            "placeholder": "​",
            "style": "IPY_MODEL_c208445059b84e5ea74c7b3b53014ba7",
            "value": " 601k/601k [00:00&lt;00:00, 3.56MB/s]"
          }
        },
        "7994e50ea86a40b5bdbb3a6f4970bdbc": {
          "model_module": "@jupyter-widgets/controls",
          "model_module_version": "1.5.0",
          "model_name": "ProgressStyleModel",
          "state": {
            "_model_module": "@jupyter-widgets/controls",
            "_model_module_version": "1.5.0",
            "_model_name": "ProgressStyleModel",
            "_view_count": null,
            "_view_module": "@jupyter-widgets/base",
            "_view_module_version": "1.2.0",
            "_view_name": "StyleView",
            "bar_color": null,
            "description_width": ""
          }
        },
        "7e4804c59001458ea8fdb21094b29c1c": {
          "model_module": "@jupyter-widgets/controls",
          "model_module_version": "1.5.0",
          "model_name": "HTMLModel",
          "state": {
            "_dom_classes": [],
            "_model_module": "@jupyter-widgets/controls",
            "_model_module_version": "1.5.0",
            "_model_name": "HTMLModel",
            "_view_count": null,
            "_view_module": "@jupyter-widgets/controls",
            "_view_module_version": "1.5.0",
            "_view_name": "HTMLView",
            "description": "",
            "description_tooltip": null,
            "layout": "IPY_MODEL_e49776d3a30c4c82839778f70fa44e3f",
            "placeholder": "​",
            "style": "IPY_MODEL_2b5a7afca77149bdb34b67a592e4e866",
            "value": "Downloading https://huggingface.co/stanfordnlp/stanza-es/resolve/v1.7.0/models/lemma/ancora_nocharlm.pt: 100%"
          }
        },
        "82fe0a21e5d14af3a4d62d6b6b7e91ae": {
          "model_module": "@jupyter-widgets/base",
          "model_module_version": "1.2.0",
          "model_name": "LayoutModel",
          "state": {
            "_model_module": "@jupyter-widgets/base",
            "_model_module_version": "1.2.0",
            "_model_name": "LayoutModel",
            "_view_count": null,
            "_view_module": "@jupyter-widgets/base",
            "_view_module_version": "1.2.0",
            "_view_name": "LayoutView",
            "align_content": null,
            "align_items": null,
            "align_self": null,
            "border": null,
            "bottom": null,
            "display": null,
            "flex": null,
            "flex_flow": null,
            "grid_area": null,
            "grid_auto_columns": null,
            "grid_auto_flow": null,
            "grid_auto_rows": null,
            "grid_column": null,
            "grid_gap": null,
            "grid_row": null,
            "grid_template_areas": null,
            "grid_template_columns": null,
            "grid_template_rows": null,
            "height": null,
            "justify_content": null,
            "justify_items": null,
            "left": null,
            "margin": null,
            "max_height": null,
            "max_width": null,
            "min_height": null,
            "min_width": null,
            "object_fit": null,
            "object_position": null,
            "order": null,
            "overflow": null,
            "overflow_x": null,
            "overflow_y": null,
            "padding": null,
            "right": null,
            "top": null,
            "visibility": null,
            "width": null
          }
        },
        "87e5f7950edb4f108d84a6dc97a288b6": {
          "model_module": "@jupyter-widgets/base",
          "model_module_version": "1.2.0",
          "model_name": "LayoutModel",
          "state": {
            "_model_module": "@jupyter-widgets/base",
            "_model_module_version": "1.2.0",
            "_model_name": "LayoutModel",
            "_view_count": null,
            "_view_module": "@jupyter-widgets/base",
            "_view_module_version": "1.2.0",
            "_view_name": "LayoutView",
            "align_content": null,
            "align_items": null,
            "align_self": null,
            "border": null,
            "bottom": null,
            "display": null,
            "flex": null,
            "flex_flow": null,
            "grid_area": null,
            "grid_auto_columns": null,
            "grid_auto_flow": null,
            "grid_auto_rows": null,
            "grid_column": null,
            "grid_gap": null,
            "grid_row": null,
            "grid_template_areas": null,
            "grid_template_columns": null,
            "grid_template_rows": null,
            "height": null,
            "justify_content": null,
            "justify_items": null,
            "left": null,
            "margin": null,
            "max_height": null,
            "max_width": null,
            "min_height": null,
            "min_width": null,
            "object_fit": null,
            "object_position": null,
            "order": null,
            "overflow": null,
            "overflow_x": null,
            "overflow_y": null,
            "padding": null,
            "right": null,
            "top": null,
            "visibility": null,
            "width": null
          }
        },
        "8856415d1882401e9ae049d96aeebf7d": {
          "model_module": "@jupyter-widgets/controls",
          "model_module_version": "1.5.0",
          "model_name": "DescriptionStyleModel",
          "state": {
            "_model_module": "@jupyter-widgets/controls",
            "_model_module_version": "1.5.0",
            "_model_name": "DescriptionStyleModel",
            "_view_count": null,
            "_view_module": "@jupyter-widgets/base",
            "_view_module_version": "1.2.0",
            "_view_name": "StyleView",
            "description_width": ""
          }
        },
        "8d0c2c60ef7445799c50713775d81c9d": {
          "model_module": "@jupyter-widgets/base",
          "model_module_version": "1.2.0",
          "model_name": "LayoutModel",
          "state": {
            "_model_module": "@jupyter-widgets/base",
            "_model_module_version": "1.2.0",
            "_model_name": "LayoutModel",
            "_view_count": null,
            "_view_module": "@jupyter-widgets/base",
            "_view_module_version": "1.2.0",
            "_view_name": "LayoutView",
            "align_content": null,
            "align_items": null,
            "align_self": null,
            "border": null,
            "bottom": null,
            "display": null,
            "flex": null,
            "flex_flow": null,
            "grid_area": null,
            "grid_auto_columns": null,
            "grid_auto_flow": null,
            "grid_auto_rows": null,
            "grid_column": null,
            "grid_gap": null,
            "grid_row": null,
            "grid_template_areas": null,
            "grid_template_columns": null,
            "grid_template_rows": null,
            "height": null,
            "justify_content": null,
            "justify_items": null,
            "left": null,
            "margin": null,
            "max_height": null,
            "max_width": null,
            "min_height": null,
            "min_width": null,
            "object_fit": null,
            "object_position": null,
            "order": null,
            "overflow": null,
            "overflow_x": null,
            "overflow_y": null,
            "padding": null,
            "right": null,
            "top": null,
            "visibility": null,
            "width": null
          }
        },
        "8d1b8e66c3d74272a3fddcab04f5ff84": {
          "model_module": "@jupyter-widgets/base",
          "model_module_version": "1.2.0",
          "model_name": "LayoutModel",
          "state": {
            "_model_module": "@jupyter-widgets/base",
            "_model_module_version": "1.2.0",
            "_model_name": "LayoutModel",
            "_view_count": null,
            "_view_module": "@jupyter-widgets/base",
            "_view_module_version": "1.2.0",
            "_view_name": "LayoutView",
            "align_content": null,
            "align_items": null,
            "align_self": null,
            "border": null,
            "bottom": null,
            "display": null,
            "flex": null,
            "flex_flow": null,
            "grid_area": null,
            "grid_auto_columns": null,
            "grid_auto_flow": null,
            "grid_auto_rows": null,
            "grid_column": null,
            "grid_gap": null,
            "grid_row": null,
            "grid_template_areas": null,
            "grid_template_columns": null,
            "grid_template_rows": null,
            "height": null,
            "justify_content": null,
            "justify_items": null,
            "left": null,
            "margin": null,
            "max_height": null,
            "max_width": null,
            "min_height": null,
            "min_width": null,
            "object_fit": null,
            "object_position": null,
            "order": null,
            "overflow": null,
            "overflow_x": null,
            "overflow_y": null,
            "padding": null,
            "right": null,
            "top": null,
            "visibility": null,
            "width": null
          }
        },
        "8e51181d1702424a92a4d1265a0c5d04": {
          "model_module": "@jupyter-widgets/controls",
          "model_module_version": "1.5.0",
          "model_name": "ProgressStyleModel",
          "state": {
            "_model_module": "@jupyter-widgets/controls",
            "_model_module_version": "1.5.0",
            "_model_name": "ProgressStyleModel",
            "_view_count": null,
            "_view_module": "@jupyter-widgets/base",
            "_view_module_version": "1.2.0",
            "_view_name": "StyleView",
            "bar_color": null,
            "description_width": ""
          }
        },
        "8ff8d8e2b37f4229a5ee6690a534a8fd": {
          "model_module": "@jupyter-widgets/controls",
          "model_module_version": "1.5.0",
          "model_name": "DescriptionStyleModel",
          "state": {
            "_model_module": "@jupyter-widgets/controls",
            "_model_module_version": "1.5.0",
            "_model_name": "DescriptionStyleModel",
            "_view_count": null,
            "_view_module": "@jupyter-widgets/base",
            "_view_module_version": "1.2.0",
            "_view_name": "StyleView",
            "description_width": ""
          }
        },
        "926ab9edb2ff449fa5fa92d0f4a3e2d6": {
          "model_module": "@jupyter-widgets/controls",
          "model_module_version": "1.5.0",
          "model_name": "DescriptionStyleModel",
          "state": {
            "_model_module": "@jupyter-widgets/controls",
            "_model_module_version": "1.5.0",
            "_model_name": "DescriptionStyleModel",
            "_view_count": null,
            "_view_module": "@jupyter-widgets/base",
            "_view_module_version": "1.2.0",
            "_view_name": "StyleView",
            "description_width": ""
          }
        },
        "94a1dfb135f84eb0a9678d466bd15b60": {
          "model_module": "@jupyter-widgets/base",
          "model_module_version": "1.2.0",
          "model_name": "LayoutModel",
          "state": {
            "_model_module": "@jupyter-widgets/base",
            "_model_module_version": "1.2.0",
            "_model_name": "LayoutModel",
            "_view_count": null,
            "_view_module": "@jupyter-widgets/base",
            "_view_module_version": "1.2.0",
            "_view_name": "LayoutView",
            "align_content": null,
            "align_items": null,
            "align_self": null,
            "border": null,
            "bottom": null,
            "display": null,
            "flex": null,
            "flex_flow": null,
            "grid_area": null,
            "grid_auto_columns": null,
            "grid_auto_flow": null,
            "grid_auto_rows": null,
            "grid_column": null,
            "grid_gap": null,
            "grid_row": null,
            "grid_template_areas": null,
            "grid_template_columns": null,
            "grid_template_rows": null,
            "height": null,
            "justify_content": null,
            "justify_items": null,
            "left": null,
            "margin": null,
            "max_height": null,
            "max_width": null,
            "min_height": null,
            "min_width": null,
            "object_fit": null,
            "object_position": null,
            "order": null,
            "overflow": null,
            "overflow_x": null,
            "overflow_y": null,
            "padding": null,
            "right": null,
            "top": null,
            "visibility": null,
            "width": null
          }
        },
        "95fbc17815014c8fbb24bc5d8782ebea": {
          "model_module": "@jupyter-widgets/base",
          "model_module_version": "1.2.0",
          "model_name": "LayoutModel",
          "state": {
            "_model_module": "@jupyter-widgets/base",
            "_model_module_version": "1.2.0",
            "_model_name": "LayoutModel",
            "_view_count": null,
            "_view_module": "@jupyter-widgets/base",
            "_view_module_version": "1.2.0",
            "_view_name": "LayoutView",
            "align_content": null,
            "align_items": null,
            "align_self": null,
            "border": null,
            "bottom": null,
            "display": null,
            "flex": null,
            "flex_flow": null,
            "grid_area": null,
            "grid_auto_columns": null,
            "grid_auto_flow": null,
            "grid_auto_rows": null,
            "grid_column": null,
            "grid_gap": null,
            "grid_row": null,
            "grid_template_areas": null,
            "grid_template_columns": null,
            "grid_template_rows": null,
            "height": null,
            "justify_content": null,
            "justify_items": null,
            "left": null,
            "margin": null,
            "max_height": null,
            "max_width": null,
            "min_height": null,
            "min_width": null,
            "object_fit": null,
            "object_position": null,
            "order": null,
            "overflow": null,
            "overflow_x": null,
            "overflow_y": null,
            "padding": null,
            "right": null,
            "top": null,
            "visibility": null,
            "width": null
          }
        },
        "9ae75ea54fc6440b9a9a7bfbb65651ad": {
          "model_module": "@jupyter-widgets/controls",
          "model_module_version": "1.5.0",
          "model_name": "HBoxModel",
          "state": {
            "_dom_classes": [],
            "_model_module": "@jupyter-widgets/controls",
            "_model_module_version": "1.5.0",
            "_model_name": "HBoxModel",
            "_view_count": null,
            "_view_module": "@jupyter-widgets/controls",
            "_view_module_version": "1.5.0",
            "_view_name": "HBoxView",
            "box_style": "",
            "children": [
              "IPY_MODEL_7e4804c59001458ea8fdb21094b29c1c",
              "IPY_MODEL_f87cc15d86d74cffa60fcce145503f7b",
              "IPY_MODEL_5d17c9348cca42d683a50d18826ccb06"
            ],
            "layout": "IPY_MODEL_ce231332b55d479aa7890409275a18ba"
          }
        },
        "9b1b558d14714e4785d3bde0811e0caf": {
          "model_module": "@jupyter-widgets/controls",
          "model_module_version": "1.5.0",
          "model_name": "FloatProgressModel",
          "state": {
            "_dom_classes": [],
            "_model_module": "@jupyter-widgets/controls",
            "_model_module_version": "1.5.0",
            "_model_name": "FloatProgressModel",
            "_view_count": null,
            "_view_module": "@jupyter-widgets/controls",
            "_view_module_version": "1.5.0",
            "_view_name": "ProgressView",
            "bar_style": "success",
            "description": "",
            "description_tooltip": null,
            "layout": "IPY_MODEL_aab405d4d63049849b8c8a2cafc0272e",
            "max": 20012707,
            "min": 0,
            "orientation": "horizontal",
            "style": "IPY_MODEL_252793a96d85486ab6a0efbdd0dce83e",
            "value": 20012707
          }
        },
        "9c93629820004b31a6415a8368cd0b56": {
          "model_module": "@jupyter-widgets/controls",
          "model_module_version": "1.5.0",
          "model_name": "FloatProgressModel",
          "state": {
            "_dom_classes": [],
            "_model_module": "@jupyter-widgets/controls",
            "_model_module_version": "1.5.0",
            "_model_name": "FloatProgressModel",
            "_view_count": null,
            "_view_module": "@jupyter-widgets/controls",
            "_view_module_version": "1.5.0",
            "_view_name": "ProgressView",
            "bar_style": "success",
            "description": "",
            "description_tooltip": null,
            "layout": "IPY_MODEL_8d1b8e66c3d74272a3fddcab04f5ff84",
            "max": 601420,
            "min": 0,
            "orientation": "horizontal",
            "style": "IPY_MODEL_7994e50ea86a40b5bdbb3a6f4970bdbc",
            "value": 601420
          }
        },
        "9dcd0b32c5804730a55434f8fdca20f0": {
          "model_module": "@jupyter-widgets/controls",
          "model_module_version": "1.5.0",
          "model_name": "HBoxModel",
          "state": {
            "_dom_classes": [],
            "_model_module": "@jupyter-widgets/controls",
            "_model_module_version": "1.5.0",
            "_model_name": "HBoxModel",
            "_view_count": null,
            "_view_module": "@jupyter-widgets/controls",
            "_view_module_version": "1.5.0",
            "_view_name": "HBoxView",
            "box_style": "",
            "children": [
              "IPY_MODEL_4c29ba6091524584ad278ef8fd4715fd",
              "IPY_MODEL_9c93629820004b31a6415a8368cd0b56",
              "IPY_MODEL_77bd1cc999194667b1547051834caee6"
            ],
            "layout": "IPY_MODEL_24ecbeaf9023488fb28043376b84946d"
          }
        },
        "9e55e2652a0f4201bc92d025a27fedd7": {
          "model_module": "@jupyter-widgets/controls",
          "model_module_version": "1.5.0",
          "model_name": "HTMLModel",
          "state": {
            "_dom_classes": [],
            "_model_module": "@jupyter-widgets/controls",
            "_model_module_version": "1.5.0",
            "_model_name": "HTMLModel",
            "_view_count": null,
            "_view_module": "@jupyter-widgets/controls",
            "_view_module_version": "1.5.0",
            "_view_name": "HTMLView",
            "description": "",
            "description_tooltip": null,
            "layout": "IPY_MODEL_29ea0e5ffee84c46806b0b490e590334",
            "placeholder": "​",
            "style": "IPY_MODEL_d351012da77b47819fbd42584e5a5e6a",
            "value": "Downloading https://huggingface.co/stanfordnlp/stanza-es/resolve/v1.7.0/models/backward_charlm/newswiki.pt: 100%"
          }
        },
        "a79d374f23be49a5b4e81c1fb76ec299": {
          "model_module": "@jupyter-widgets/controls",
          "model_module_version": "1.5.0",
          "model_name": "HTMLModel",
          "state": {
            "_dom_classes": [],
            "_model_module": "@jupyter-widgets/controls",
            "_model_module_version": "1.5.0",
            "_model_name": "HTMLModel",
            "_view_count": null,
            "_view_module": "@jupyter-widgets/controls",
            "_view_module_version": "1.5.0",
            "_view_name": "HTMLView",
            "description": "",
            "description_tooltip": null,
            "layout": "IPY_MODEL_8d0c2c60ef7445799c50713775d81c9d",
            "placeholder": "​",
            "style": "IPY_MODEL_926ab9edb2ff449fa5fa92d0f4a3e2d6",
            "value": "Downloading https://huggingface.co/stanfordnlp/stanza-es/resolve/v1.7.0/models/pretrain/conll17.pt: 100%"
          }
        },
        "a8d39d161ca94871b438e528b800028d": {
          "model_module": "@jupyter-widgets/controls",
          "model_module_version": "1.5.0",
          "model_name": "DescriptionStyleModel",
          "state": {
            "_model_module": "@jupyter-widgets/controls",
            "_model_module_version": "1.5.0",
            "_model_name": "DescriptionStyleModel",
            "_view_count": null,
            "_view_module": "@jupyter-widgets/base",
            "_view_module_version": "1.2.0",
            "_view_name": "StyleView",
            "description_width": ""
          }
        },
        "aab405d4d63049849b8c8a2cafc0272e": {
          "model_module": "@jupyter-widgets/base",
          "model_module_version": "1.2.0",
          "model_name": "LayoutModel",
          "state": {
            "_model_module": "@jupyter-widgets/base",
            "_model_module_version": "1.2.0",
            "_model_name": "LayoutModel",
            "_view_count": null,
            "_view_module": "@jupyter-widgets/base",
            "_view_module_version": "1.2.0",
            "_view_name": "LayoutView",
            "align_content": null,
            "align_items": null,
            "align_self": null,
            "border": null,
            "bottom": null,
            "display": null,
            "flex": null,
            "flex_flow": null,
            "grid_area": null,
            "grid_auto_columns": null,
            "grid_auto_flow": null,
            "grid_auto_rows": null,
            "grid_column": null,
            "grid_gap": null,
            "grid_row": null,
            "grid_template_areas": null,
            "grid_template_columns": null,
            "grid_template_rows": null,
            "height": null,
            "justify_content": null,
            "justify_items": null,
            "left": null,
            "margin": null,
            "max_height": null,
            "max_width": null,
            "min_height": null,
            "min_width": null,
            "object_fit": null,
            "object_position": null,
            "order": null,
            "overflow": null,
            "overflow_x": null,
            "overflow_y": null,
            "padding": null,
            "right": null,
            "top": null,
            "visibility": null,
            "width": null
          }
        },
        "aaebbf5431a24773a76c47bc6b5b851e": {
          "model_module": "@jupyter-widgets/controls",
          "model_module_version": "1.5.0",
          "model_name": "HTMLModel",
          "state": {
            "_dom_classes": [],
            "_model_module": "@jupyter-widgets/controls",
            "_model_module_version": "1.5.0",
            "_model_name": "HTMLModel",
            "_view_count": null,
            "_view_module": "@jupyter-widgets/controls",
            "_view_module_version": "1.5.0",
            "_view_name": "HTMLView",
            "description": "",
            "description_tooltip": null,
            "layout": "IPY_MODEL_caccda03e94d46ebb0583f5beb78a34d",
            "placeholder": "​",
            "style": "IPY_MODEL_336e28ffdf1a4e5cba8e493b2ee1fa4a",
            "value": " 20.0M/20.0M [00:00&lt;00:00, 57.8MB/s]"
          }
        },
        "abef293eeb734aa180bf04b49d90de32": {
          "model_module": "@jupyter-widgets/controls",
          "model_module_version": "1.5.0",
          "model_name": "HBoxModel",
          "state": {
            "_dom_classes": [],
            "_model_module": "@jupyter-widgets/controls",
            "_model_module_version": "1.5.0",
            "_model_name": "HBoxModel",
            "_view_count": null,
            "_view_module": "@jupyter-widgets/controls",
            "_view_module_version": "1.5.0",
            "_view_name": "HBoxView",
            "box_style": "",
            "children": [
              "IPY_MODEL_9e55e2652a0f4201bc92d025a27fedd7",
              "IPY_MODEL_c3886e5ed62f4ed798666636080876d3",
              "IPY_MODEL_48d3b42daf3d40d59c6ace714bc72bfc"
            ],
            "layout": "IPY_MODEL_f917eb316ee44ebeaf2e7740c914d39d"
          }
        },
        "b11dc8ea980343eb965705564fd5b8ee": {
          "model_module": "@jupyter-widgets/controls",
          "model_module_version": "1.5.0",
          "model_name": "FloatProgressModel",
          "state": {
            "_dom_classes": [],
            "_model_module": "@jupyter-widgets/controls",
            "_model_module_version": "1.5.0",
            "_model_name": "FloatProgressModel",
            "_view_count": null,
            "_view_module": "@jupyter-widgets/controls",
            "_view_module_version": "1.5.0",
            "_view_name": "ProgressView",
            "bar_style": "success",
            "description": "",
            "description_tooltip": null,
            "layout": "IPY_MODEL_94a1dfb135f84eb0a9678d466bd15b60",
            "max": 36903747,
            "min": 0,
            "orientation": "horizontal",
            "style": "IPY_MODEL_08d9afd6a7844d7dae0b5d8c3c1501e9",
            "value": 36903747
          }
        },
        "b5f837acb5ab4231bee532a7cc2f8098": {
          "model_module": "@jupyter-widgets/base",
          "model_module_version": "1.2.0",
          "model_name": "LayoutModel",
          "state": {
            "_model_module": "@jupyter-widgets/base",
            "_model_module_version": "1.2.0",
            "_model_name": "LayoutModel",
            "_view_count": null,
            "_view_module": "@jupyter-widgets/base",
            "_view_module_version": "1.2.0",
            "_view_name": "LayoutView",
            "align_content": null,
            "align_items": null,
            "align_self": null,
            "border": null,
            "bottom": null,
            "display": null,
            "flex": null,
            "flex_flow": null,
            "grid_area": null,
            "grid_auto_columns": null,
            "grid_auto_flow": null,
            "grid_auto_rows": null,
            "grid_column": null,
            "grid_gap": null,
            "grid_row": null,
            "grid_template_areas": null,
            "grid_template_columns": null,
            "grid_template_rows": null,
            "height": null,
            "justify_content": null,
            "justify_items": null,
            "left": null,
            "margin": null,
            "max_height": null,
            "max_width": null,
            "min_height": null,
            "min_width": null,
            "object_fit": null,
            "object_position": null,
            "order": null,
            "overflow": null,
            "overflow_x": null,
            "overflow_y": null,
            "padding": null,
            "right": null,
            "top": null,
            "visibility": null,
            "width": null
          }
        },
        "b97a92f394b04742b7a852800906c168": {
          "model_module": "@jupyter-widgets/controls",
          "model_module_version": "1.5.0",
          "model_name": "ProgressStyleModel",
          "state": {
            "_model_module": "@jupyter-widgets/controls",
            "_model_module_version": "1.5.0",
            "_model_name": "ProgressStyleModel",
            "_view_count": null,
            "_view_module": "@jupyter-widgets/base",
            "_view_module_version": "1.2.0",
            "_view_name": "StyleView",
            "bar_color": null,
            "description_width": ""
          }
        },
        "c208445059b84e5ea74c7b3b53014ba7": {
          "model_module": "@jupyter-widgets/controls",
          "model_module_version": "1.5.0",
          "model_name": "DescriptionStyleModel",
          "state": {
            "_model_module": "@jupyter-widgets/controls",
            "_model_module_version": "1.5.0",
            "_model_name": "DescriptionStyleModel",
            "_view_count": null,
            "_view_module": "@jupyter-widgets/base",
            "_view_module_version": "1.2.0",
            "_view_name": "StyleView",
            "description_width": ""
          }
        },
        "c2f3f8e70aef42d596157c9818fc9cdf": {
          "model_module": "@jupyter-widgets/controls",
          "model_module_version": "1.5.0",
          "model_name": "HTMLModel",
          "state": {
            "_dom_classes": [],
            "_model_module": "@jupyter-widgets/controls",
            "_model_module_version": "1.5.0",
            "_model_name": "HTMLModel",
            "_view_count": null,
            "_view_module": "@jupyter-widgets/controls",
            "_view_module_version": "1.5.0",
            "_view_name": "HTMLView",
            "description": "",
            "description_tooltip": null,
            "layout": "IPY_MODEL_d1a45982954043ae9bdd5f923e275acb",
            "placeholder": "​",
            "style": "IPY_MODEL_6269c95b2fc94b20819e5b9912df7683",
            "value": " 107M/107M [00:02&lt;00:00, 60.2MB/s]"
          }
        },
        "c3886e5ed62f4ed798666636080876d3": {
          "model_module": "@jupyter-widgets/controls",
          "model_module_version": "1.5.0",
          "model_name": "FloatProgressModel",
          "state": {
            "_dom_classes": [],
            "_model_module": "@jupyter-widgets/controls",
            "_model_module_version": "1.5.0",
            "_model_name": "FloatProgressModel",
            "_view_count": null,
            "_view_module": "@jupyter-widgets/controls",
            "_view_module_version": "1.5.0",
            "_view_name": "ProgressView",
            "bar_style": "success",
            "description": "",
            "description_tooltip": null,
            "layout": "IPY_MODEL_f1de933c525a4b3b88ae3f2ba1873d00",
            "max": 20012708,
            "min": 0,
            "orientation": "horizontal",
            "style": "IPY_MODEL_4d31ad5321bc45b6a985b9270671c92c",
            "value": 20012708
          }
        },
        "caccda03e94d46ebb0583f5beb78a34d": {
          "model_module": "@jupyter-widgets/base",
          "model_module_version": "1.2.0",
          "model_name": "LayoutModel",
          "state": {
            "_model_module": "@jupyter-widgets/base",
            "_model_module_version": "1.2.0",
            "_model_name": "LayoutModel",
            "_view_count": null,
            "_view_module": "@jupyter-widgets/base",
            "_view_module_version": "1.2.0",
            "_view_name": "LayoutView",
            "align_content": null,
            "align_items": null,
            "align_self": null,
            "border": null,
            "bottom": null,
            "display": null,
            "flex": null,
            "flex_flow": null,
            "grid_area": null,
            "grid_auto_columns": null,
            "grid_auto_flow": null,
            "grid_auto_rows": null,
            "grid_column": null,
            "grid_gap": null,
            "grid_row": null,
            "grid_template_areas": null,
            "grid_template_columns": null,
            "grid_template_rows": null,
            "height": null,
            "justify_content": null,
            "justify_items": null,
            "left": null,
            "margin": null,
            "max_height": null,
            "max_width": null,
            "min_height": null,
            "min_width": null,
            "object_fit": null,
            "object_position": null,
            "order": null,
            "overflow": null,
            "overflow_x": null,
            "overflow_y": null,
            "padding": null,
            "right": null,
            "top": null,
            "visibility": null,
            "width": null
          }
        },
        "cb79152bf34d4f33931efe66e1f75aec": {
          "model_module": "@jupyter-widgets/base",
          "model_module_version": "1.2.0",
          "model_name": "LayoutModel",
          "state": {
            "_model_module": "@jupyter-widgets/base",
            "_model_module_version": "1.2.0",
            "_model_name": "LayoutModel",
            "_view_count": null,
            "_view_module": "@jupyter-widgets/base",
            "_view_module_version": "1.2.0",
            "_view_name": "LayoutView",
            "align_content": null,
            "align_items": null,
            "align_self": null,
            "border": null,
            "bottom": null,
            "display": null,
            "flex": null,
            "flex_flow": null,
            "grid_area": null,
            "grid_auto_columns": null,
            "grid_auto_flow": null,
            "grid_auto_rows": null,
            "grid_column": null,
            "grid_gap": null,
            "grid_row": null,
            "grid_template_areas": null,
            "grid_template_columns": null,
            "grid_template_rows": null,
            "height": null,
            "justify_content": null,
            "justify_items": null,
            "left": null,
            "margin": null,
            "max_height": null,
            "max_width": null,
            "min_height": null,
            "min_width": null,
            "object_fit": null,
            "object_position": null,
            "order": null,
            "overflow": null,
            "overflow_x": null,
            "overflow_y": null,
            "padding": null,
            "right": null,
            "top": null,
            "visibility": null,
            "width": null
          }
        },
        "cbe076b020d5428f9450a337588f2700": {
          "model_module": "@jupyter-widgets/base",
          "model_module_version": "1.2.0",
          "model_name": "LayoutModel",
          "state": {
            "_model_module": "@jupyter-widgets/base",
            "_model_module_version": "1.2.0",
            "_model_name": "LayoutModel",
            "_view_count": null,
            "_view_module": "@jupyter-widgets/base",
            "_view_module_version": "1.2.0",
            "_view_name": "LayoutView",
            "align_content": null,
            "align_items": null,
            "align_self": null,
            "border": null,
            "bottom": null,
            "display": null,
            "flex": null,
            "flex_flow": null,
            "grid_area": null,
            "grid_auto_columns": null,
            "grid_auto_flow": null,
            "grid_auto_rows": null,
            "grid_column": null,
            "grid_gap": null,
            "grid_row": null,
            "grid_template_areas": null,
            "grid_template_columns": null,
            "grid_template_rows": null,
            "height": null,
            "justify_content": null,
            "justify_items": null,
            "left": null,
            "margin": null,
            "max_height": null,
            "max_width": null,
            "min_height": null,
            "min_width": null,
            "object_fit": null,
            "object_position": null,
            "order": null,
            "overflow": null,
            "overflow_x": null,
            "overflow_y": null,
            "padding": null,
            "right": null,
            "top": null,
            "visibility": null,
            "width": null
          }
        },
        "cbeb85d7614a4bef81e1d2f58349eda6": {
          "model_module": "@jupyter-widgets/base",
          "model_module_version": "1.2.0",
          "model_name": "LayoutModel",
          "state": {
            "_model_module": "@jupyter-widgets/base",
            "_model_module_version": "1.2.0",
            "_model_name": "LayoutModel",
            "_view_count": null,
            "_view_module": "@jupyter-widgets/base",
            "_view_module_version": "1.2.0",
            "_view_name": "LayoutView",
            "align_content": null,
            "align_items": null,
            "align_self": null,
            "border": null,
            "bottom": null,
            "display": null,
            "flex": null,
            "flex_flow": null,
            "grid_area": null,
            "grid_auto_columns": null,
            "grid_auto_flow": null,
            "grid_auto_rows": null,
            "grid_column": null,
            "grid_gap": null,
            "grid_row": null,
            "grid_template_areas": null,
            "grid_template_columns": null,
            "grid_template_rows": null,
            "height": null,
            "justify_content": null,
            "justify_items": null,
            "left": null,
            "margin": null,
            "max_height": null,
            "max_width": null,
            "min_height": null,
            "min_width": null,
            "object_fit": null,
            "object_position": null,
            "order": null,
            "overflow": null,
            "overflow_x": null,
            "overflow_y": null,
            "padding": null,
            "right": null,
            "top": null,
            "visibility": null,
            "width": null
          }
        },
        "ce111a0f7bca47dab98f162c082bc5db": {
          "model_module": "@jupyter-widgets/base",
          "model_module_version": "1.2.0",
          "model_name": "LayoutModel",
          "state": {
            "_model_module": "@jupyter-widgets/base",
            "_model_module_version": "1.2.0",
            "_model_name": "LayoutModel",
            "_view_count": null,
            "_view_module": "@jupyter-widgets/base",
            "_view_module_version": "1.2.0",
            "_view_name": "LayoutView",
            "align_content": null,
            "align_items": null,
            "align_self": null,
            "border": null,
            "bottom": null,
            "display": null,
            "flex": null,
            "flex_flow": null,
            "grid_area": null,
            "grid_auto_columns": null,
            "grid_auto_flow": null,
            "grid_auto_rows": null,
            "grid_column": null,
            "grid_gap": null,
            "grid_row": null,
            "grid_template_areas": null,
            "grid_template_columns": null,
            "grid_template_rows": null,
            "height": null,
            "justify_content": null,
            "justify_items": null,
            "left": null,
            "margin": null,
            "max_height": null,
            "max_width": null,
            "min_height": null,
            "min_width": null,
            "object_fit": null,
            "object_position": null,
            "order": null,
            "overflow": null,
            "overflow_x": null,
            "overflow_y": null,
            "padding": null,
            "right": null,
            "top": null,
            "visibility": null,
            "width": null
          }
        },
        "ce231332b55d479aa7890409275a18ba": {
          "model_module": "@jupyter-widgets/base",
          "model_module_version": "1.2.0",
          "model_name": "LayoutModel",
          "state": {
            "_model_module": "@jupyter-widgets/base",
            "_model_module_version": "1.2.0",
            "_model_name": "LayoutModel",
            "_view_count": null,
            "_view_module": "@jupyter-widgets/base",
            "_view_module_version": "1.2.0",
            "_view_name": "LayoutView",
            "align_content": null,
            "align_items": null,
            "align_self": null,
            "border": null,
            "bottom": null,
            "display": null,
            "flex": null,
            "flex_flow": null,
            "grid_area": null,
            "grid_auto_columns": null,
            "grid_auto_flow": null,
            "grid_auto_rows": null,
            "grid_column": null,
            "grid_gap": null,
            "grid_row": null,
            "grid_template_areas": null,
            "grid_template_columns": null,
            "grid_template_rows": null,
            "height": null,
            "justify_content": null,
            "justify_items": null,
            "left": null,
            "margin": null,
            "max_height": null,
            "max_width": null,
            "min_height": null,
            "min_width": null,
            "object_fit": null,
            "object_position": null,
            "order": null,
            "overflow": null,
            "overflow_x": null,
            "overflow_y": null,
            "padding": null,
            "right": null,
            "top": null,
            "visibility": null,
            "width": null
          }
        },
        "d1a45982954043ae9bdd5f923e275acb": {
          "model_module": "@jupyter-widgets/base",
          "model_module_version": "1.2.0",
          "model_name": "LayoutModel",
          "state": {
            "_model_module": "@jupyter-widgets/base",
            "_model_module_version": "1.2.0",
            "_model_name": "LayoutModel",
            "_view_count": null,
            "_view_module": "@jupyter-widgets/base",
            "_view_module_version": "1.2.0",
            "_view_name": "LayoutView",
            "align_content": null,
            "align_items": null,
            "align_self": null,
            "border": null,
            "bottom": null,
            "display": null,
            "flex": null,
            "flex_flow": null,
            "grid_area": null,
            "grid_auto_columns": null,
            "grid_auto_flow": null,
            "grid_auto_rows": null,
            "grid_column": null,
            "grid_gap": null,
            "grid_row": null,
            "grid_template_areas": null,
            "grid_template_columns": null,
            "grid_template_rows": null,
            "height": null,
            "justify_content": null,
            "justify_items": null,
            "left": null,
            "margin": null,
            "max_height": null,
            "max_width": null,
            "min_height": null,
            "min_width": null,
            "object_fit": null,
            "object_position": null,
            "order": null,
            "overflow": null,
            "overflow_x": null,
            "overflow_y": null,
            "padding": null,
            "right": null,
            "top": null,
            "visibility": null,
            "width": null
          }
        },
        "d351012da77b47819fbd42584e5a5e6a": {
          "model_module": "@jupyter-widgets/controls",
          "model_module_version": "1.5.0",
          "model_name": "DescriptionStyleModel",
          "state": {
            "_model_module": "@jupyter-widgets/controls",
            "_model_module_version": "1.5.0",
            "_model_name": "DescriptionStyleModel",
            "_view_count": null,
            "_view_module": "@jupyter-widgets/base",
            "_view_module_version": "1.2.0",
            "_view_name": "StyleView",
            "description_width": ""
          }
        },
        "d875d39a49a646a9bb9fca35c982bc0d": {
          "model_module": "@jupyter-widgets/base",
          "model_module_version": "1.2.0",
          "model_name": "LayoutModel",
          "state": {
            "_model_module": "@jupyter-widgets/base",
            "_model_module_version": "1.2.0",
            "_model_name": "LayoutModel",
            "_view_count": null,
            "_view_module": "@jupyter-widgets/base",
            "_view_module_version": "1.2.0",
            "_view_name": "LayoutView",
            "align_content": null,
            "align_items": null,
            "align_self": null,
            "border": null,
            "bottom": null,
            "display": null,
            "flex": null,
            "flex_flow": null,
            "grid_area": null,
            "grid_auto_columns": null,
            "grid_auto_flow": null,
            "grid_auto_rows": null,
            "grid_column": null,
            "grid_gap": null,
            "grid_row": null,
            "grid_template_areas": null,
            "grid_template_columns": null,
            "grid_template_rows": null,
            "height": null,
            "justify_content": null,
            "justify_items": null,
            "left": null,
            "margin": null,
            "max_height": null,
            "max_width": null,
            "min_height": null,
            "min_width": null,
            "object_fit": null,
            "object_position": null,
            "order": null,
            "overflow": null,
            "overflow_x": null,
            "overflow_y": null,
            "padding": null,
            "right": null,
            "top": null,
            "visibility": null,
            "width": null
          }
        },
        "da21587cf5d84c20a7e1996051ddd52f": {
          "model_module": "@jupyter-widgets/base",
          "model_module_version": "1.2.0",
          "model_name": "LayoutModel",
          "state": {
            "_model_module": "@jupyter-widgets/base",
            "_model_module_version": "1.2.0",
            "_model_name": "LayoutModel",
            "_view_count": null,
            "_view_module": "@jupyter-widgets/base",
            "_view_module_version": "1.2.0",
            "_view_name": "LayoutView",
            "align_content": null,
            "align_items": null,
            "align_self": null,
            "border": null,
            "bottom": null,
            "display": null,
            "flex": null,
            "flex_flow": null,
            "grid_area": null,
            "grid_auto_columns": null,
            "grid_auto_flow": null,
            "grid_auto_rows": null,
            "grid_column": null,
            "grid_gap": null,
            "grid_row": null,
            "grid_template_areas": null,
            "grid_template_columns": null,
            "grid_template_rows": null,
            "height": null,
            "justify_content": null,
            "justify_items": null,
            "left": null,
            "margin": null,
            "max_height": null,
            "max_width": null,
            "min_height": null,
            "min_width": null,
            "object_fit": null,
            "object_position": null,
            "order": null,
            "overflow": null,
            "overflow_x": null,
            "overflow_y": null,
            "padding": null,
            "right": null,
            "top": null,
            "visibility": null,
            "width": null
          }
        },
        "dc79b89988fb4ae8bbc88ffd4f7640ac": {
          "model_module": "@jupyter-widgets/controls",
          "model_module_version": "1.5.0",
          "model_name": "DescriptionStyleModel",
          "state": {
            "_model_module": "@jupyter-widgets/controls",
            "_model_module_version": "1.5.0",
            "_model_name": "DescriptionStyleModel",
            "_view_count": null,
            "_view_module": "@jupyter-widgets/base",
            "_view_module_version": "1.2.0",
            "_view_name": "StyleView",
            "description_width": ""
          }
        },
        "dd926215c04c4f22a5570f131a3d3f4c": {
          "model_module": "@jupyter-widgets/controls",
          "model_module_version": "1.5.0",
          "model_name": "HTMLModel",
          "state": {
            "_dom_classes": [],
            "_model_module": "@jupyter-widgets/controls",
            "_model_module_version": "1.5.0",
            "_model_name": "HTMLModel",
            "_view_count": null,
            "_view_module": "@jupyter-widgets/controls",
            "_view_module_version": "1.5.0",
            "_view_name": "HTMLView",
            "description": "",
            "description_tooltip": null,
            "layout": "IPY_MODEL_02b9749c676240d7920041b9b9f2517b",
            "placeholder": "​",
            "style": "IPY_MODEL_5d87d22e3fd74845ae51fe87dd0e4e23",
            "value": "Downloading https://huggingface.co/stanfordnlp/stanza-es/resolve/v1.7.0/models/pos/ancora_charlm.pt: 100%"
          }
        },
        "e49776d3a30c4c82839778f70fa44e3f": {
          "model_module": "@jupyter-widgets/base",
          "model_module_version": "1.2.0",
          "model_name": "LayoutModel",
          "state": {
            "_model_module": "@jupyter-widgets/base",
            "_model_module_version": "1.2.0",
            "_model_name": "LayoutModel",
            "_view_count": null,
            "_view_module": "@jupyter-widgets/base",
            "_view_module_version": "1.2.0",
            "_view_name": "LayoutView",
            "align_content": null,
            "align_items": null,
            "align_self": null,
            "border": null,
            "bottom": null,
            "display": null,
            "flex": null,
            "flex_flow": null,
            "grid_area": null,
            "grid_auto_columns": null,
            "grid_auto_flow": null,
            "grid_auto_rows": null,
            "grid_column": null,
            "grid_gap": null,
            "grid_row": null,
            "grid_template_areas": null,
            "grid_template_columns": null,
            "grid_template_rows": null,
            "height": null,
            "justify_content": null,
            "justify_items": null,
            "left": null,
            "margin": null,
            "max_height": null,
            "max_width": null,
            "min_height": null,
            "min_width": null,
            "object_fit": null,
            "object_position": null,
            "order": null,
            "overflow": null,
            "overflow_x": null,
            "overflow_y": null,
            "padding": null,
            "right": null,
            "top": null,
            "visibility": null,
            "width": null
          }
        },
        "f1de933c525a4b3b88ae3f2ba1873d00": {
          "model_module": "@jupyter-widgets/base",
          "model_module_version": "1.2.0",
          "model_name": "LayoutModel",
          "state": {
            "_model_module": "@jupyter-widgets/base",
            "_model_module_version": "1.2.0",
            "_model_name": "LayoutModel",
            "_view_count": null,
            "_view_module": "@jupyter-widgets/base",
            "_view_module_version": "1.2.0",
            "_view_name": "LayoutView",
            "align_content": null,
            "align_items": null,
            "align_self": null,
            "border": null,
            "bottom": null,
            "display": null,
            "flex": null,
            "flex_flow": null,
            "grid_area": null,
            "grid_auto_columns": null,
            "grid_auto_flow": null,
            "grid_auto_rows": null,
            "grid_column": null,
            "grid_gap": null,
            "grid_row": null,
            "grid_template_areas": null,
            "grid_template_columns": null,
            "grid_template_rows": null,
            "height": null,
            "justify_content": null,
            "justify_items": null,
            "left": null,
            "margin": null,
            "max_height": null,
            "max_width": null,
            "min_height": null,
            "min_width": null,
            "object_fit": null,
            "object_position": null,
            "order": null,
            "overflow": null,
            "overflow_x": null,
            "overflow_y": null,
            "padding": null,
            "right": null,
            "top": null,
            "visibility": null,
            "width": null
          }
        },
        "f3b8f388c33f4863ac6c8bddf56cffa5": {
          "model_module": "@jupyter-widgets/controls",
          "model_module_version": "1.5.0",
          "model_name": "FloatProgressModel",
          "state": {
            "_dom_classes": [],
            "_model_module": "@jupyter-widgets/controls",
            "_model_module_version": "1.5.0",
            "_model_name": "FloatProgressModel",
            "_view_count": null,
            "_view_module": "@jupyter-widgets/controls",
            "_view_module_version": "1.5.0",
            "_view_name": "ProgressView",
            "bar_style": "success",
            "description": "",
            "description_tooltip": null,
            "layout": "IPY_MODEL_40a2279aa24046328dd67467b8107b61",
            "max": 46220,
            "min": 0,
            "orientation": "horizontal",
            "style": "IPY_MODEL_8e51181d1702424a92a4d1265a0c5d04",
            "value": 46220
          }
        },
        "f67343df8bc841c8bd6f88b71c6a8907": {
          "model_module": "@jupyter-widgets/controls",
          "model_module_version": "1.5.0",
          "model_name": "DescriptionStyleModel",
          "state": {
            "_model_module": "@jupyter-widgets/controls",
            "_model_module_version": "1.5.0",
            "_model_name": "DescriptionStyleModel",
            "_view_count": null,
            "_view_module": "@jupyter-widgets/base",
            "_view_module_version": "1.2.0",
            "_view_name": "StyleView",
            "description_width": ""
          }
        },
        "f87cc15d86d74cffa60fcce145503f7b": {
          "model_module": "@jupyter-widgets/controls",
          "model_module_version": "1.5.0",
          "model_name": "FloatProgressModel",
          "state": {
            "_dom_classes": [],
            "_model_module": "@jupyter-widgets/controls",
            "_model_module_version": "1.5.0",
            "_model_name": "FloatProgressModel",
            "_view_count": null,
            "_view_module": "@jupyter-widgets/controls",
            "_view_module_version": "1.5.0",
            "_view_name": "ProgressView",
            "bar_style": "success",
            "description": "",
            "description_tooltip": null,
            "layout": "IPY_MODEL_6a65e0b6a98947849351a7d30c4d3931",
            "max": 4610084,
            "min": 0,
            "orientation": "horizontal",
            "style": "IPY_MODEL_1476dc33a71d417fb53044bfe1476450",
            "value": 4610084
          }
        },
        "f917eb316ee44ebeaf2e7740c914d39d": {
          "model_module": "@jupyter-widgets/base",
          "model_module_version": "1.2.0",
          "model_name": "LayoutModel",
          "state": {
            "_model_module": "@jupyter-widgets/base",
            "_model_module_version": "1.2.0",
            "_model_name": "LayoutModel",
            "_view_count": null,
            "_view_module": "@jupyter-widgets/base",
            "_view_module_version": "1.2.0",
            "_view_name": "LayoutView",
            "align_content": null,
            "align_items": null,
            "align_self": null,
            "border": null,
            "bottom": null,
            "display": null,
            "flex": null,
            "flex_flow": null,
            "grid_area": null,
            "grid_auto_columns": null,
            "grid_auto_flow": null,
            "grid_auto_rows": null,
            "grid_column": null,
            "grid_gap": null,
            "grid_row": null,
            "grid_template_areas": null,
            "grid_template_columns": null,
            "grid_template_rows": null,
            "height": null,
            "justify_content": null,
            "justify_items": null,
            "left": null,
            "margin": null,
            "max_height": null,
            "max_width": null,
            "min_height": null,
            "min_width": null,
            "object_fit": null,
            "object_position": null,
            "order": null,
            "overflow": null,
            "overflow_x": null,
            "overflow_y": null,
            "padding": null,
            "right": null,
            "top": null,
            "visibility": null,
            "width": null
          }
        },
        "fac789eef0734f80b01b5f4505da7b49": {
          "model_module": "@jupyter-widgets/controls",
          "model_module_version": "1.5.0",
          "model_name": "HTMLModel",
          "state": {
            "_dom_classes": [],
            "_model_module": "@jupyter-widgets/controls",
            "_model_module_version": "1.5.0",
            "_model_name": "HTMLModel",
            "_view_count": null,
            "_view_module": "@jupyter-widgets/controls",
            "_view_module_version": "1.5.0",
            "_view_name": "HTMLView",
            "description": "",
            "description_tooltip": null,
            "layout": "IPY_MODEL_cb79152bf34d4f33931efe66e1f75aec",
            "placeholder": "​",
            "style": "IPY_MODEL_dc79b89988fb4ae8bbc88ffd4f7640ac",
            "value": "Downloading https://huggingface.co/stanfordnlp/stanza-es/resolve/v1.7.0/models/forward_charlm/newswiki.pt: 100%"
          }
        },
        "fea272d4247c4ab3b29f1d267fb74a55": {
          "model_module": "@jupyter-widgets/base",
          "model_module_version": "1.2.0",
          "model_name": "LayoutModel",
          "state": {
            "_model_module": "@jupyter-widgets/base",
            "_model_module_version": "1.2.0",
            "_model_name": "LayoutModel",
            "_view_count": null,
            "_view_module": "@jupyter-widgets/base",
            "_view_module_version": "1.2.0",
            "_view_name": "LayoutView",
            "align_content": null,
            "align_items": null,
            "align_self": null,
            "border": null,
            "bottom": null,
            "display": null,
            "flex": null,
            "flex_flow": null,
            "grid_area": null,
            "grid_auto_columns": null,
            "grid_auto_flow": null,
            "grid_auto_rows": null,
            "grid_column": null,
            "grid_gap": null,
            "grid_row": null,
            "grid_template_areas": null,
            "grid_template_columns": null,
            "grid_template_rows": null,
            "height": null,
            "justify_content": null,
            "justify_items": null,
            "left": null,
            "margin": null,
            "max_height": null,
            "max_width": null,
            "min_height": null,
            "min_width": null,
            "object_fit": null,
            "object_position": null,
            "order": null,
            "overflow": null,
            "overflow_x": null,
            "overflow_y": null,
            "padding": null,
            "right": null,
            "top": null,
            "visibility": null,
            "width": null
          }
        },
        "ff7825cbd8314f0cb1ee7be7f1c26a7a": {
          "model_module": "@jupyter-widgets/controls",
          "model_module_version": "1.5.0",
          "model_name": "FloatProgressModel",
          "state": {
            "_dom_classes": [],
            "_model_module": "@jupyter-widgets/controls",
            "_model_module_version": "1.5.0",
            "_model_name": "FloatProgressModel",
            "_view_count": null,
            "_view_module": "@jupyter-widgets/controls",
            "_view_module_version": "1.5.0",
            "_view_name": "ProgressView",
            "bar_style": "success",
            "description": "",
            "description_tooltip": null,
            "layout": "IPY_MODEL_29cb4039ed0447bea5af358399b38595",
            "max": 106892736,
            "min": 0,
            "orientation": "horizontal",
            "style": "IPY_MODEL_70199d3ccd9249389a00de159818f80d",
            "value": 106892736
          }
        }
      }
    }
  },
  "nbformat": 4,
  "nbformat_minor": 0
}
