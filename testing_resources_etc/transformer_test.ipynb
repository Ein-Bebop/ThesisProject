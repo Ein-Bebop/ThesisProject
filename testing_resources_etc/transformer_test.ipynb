{
 "cells": [
  {
   "cell_type": "code",
   "execution_count": 16,
   "metadata": {},
   "outputs": [],
   "source": [
    "# Dependecies\n",
    "import tensorflow as tf\n",
    "import matplotlib.pyplot as plt\n",
    "import numpy as np\n",
    "import pandas as pd\n",
    "from sklearn.model_selection import train_test_split\n",
    "from sklearn.metrics import classification_report\n",
    "from time import time\n",
    "from tqdm.auto import tqdm"
   ]
  },
  {
   "cell_type": "code",
   "execution_count": 2,
   "metadata": {},
   "outputs": [
    {
     "data": {
      "text/plain": [
       "DistilBertConfig {\n",
       "  \"_name_or_path\": \"lxyuan/distilbert-base-multilingual-cased-sentiments-student\",\n",
       "  \"activation\": \"gelu\",\n",
       "  \"architectures\": [\n",
       "    \"DistilBertForSequenceClassification\"\n",
       "  ],\n",
       "  \"attention_dropout\": 0.1,\n",
       "  \"dim\": 768,\n",
       "  \"dropout\": 0.1,\n",
       "  \"hidden_dim\": 3072,\n",
       "  \"id2label\": {\n",
       "    \"0\": \"positive\",\n",
       "    \"1\": \"neutral\",\n",
       "    \"2\": \"negative\"\n",
       "  },\n",
       "  \"initializer_range\": 0.02,\n",
       "  \"label2id\": {\n",
       "    \"negative\": 2,\n",
       "    \"neutral\": 1,\n",
       "    \"positive\": 0\n",
       "  },\n",
       "  \"max_position_embeddings\": 512,\n",
       "  \"model_type\": \"distilbert\",\n",
       "  \"n_heads\": 12,\n",
       "  \"n_layers\": 6,\n",
       "  \"output_past\": true,\n",
       "  \"pad_token_id\": 0,\n",
       "  \"qa_dropout\": 0.1,\n",
       "  \"seq_classif_dropout\": 0.2,\n",
       "  \"sinusoidal_pos_embds\": false,\n",
       "  \"tie_weights_\": true,\n",
       "  \"torch_dtype\": \"float32\",\n",
       "  \"transformers_version\": \"4.37.2\",\n",
       "  \"vocab_size\": 119547\n",
       "}"
      ]
     },
     "execution_count": 2,
     "metadata": {},
     "output_type": "execute_result"
    }
   ],
   "source": [
    "from transformers import AutoModelForSequenceClassification, AutoTokenizer\n",
    "tokenizer = AutoTokenizer.from_pretrained(\"lxyuan/distilbert-base-multilingual-cased-sentiments-student\")\n",
    "model = AutoModelForSequenceClassification.from_pretrained(\"lxyuan/distilbert-base-multilingual-cased-sentiments-student\")\n",
    "model.config"
   ]
  },
  {
   "cell_type": "code",
   "execution_count": 3,
   "metadata": {},
   "outputs": [
    {
     "data": {
      "text/html": [
       "<div>\n",
       "<style scoped>\n",
       "    .dataframe tbody tr th:only-of-type {\n",
       "        vertical-align: middle;\n",
       "    }\n",
       "\n",
       "    .dataframe tbody tr th {\n",
       "        vertical-align: top;\n",
       "    }\n",
       "\n",
       "    .dataframe thead th {\n",
       "        text-align: right;\n",
       "    }\n",
       "</style>\n",
       "<table border=\"1\" class=\"dataframe\">\n",
       "  <thead>\n",
       "    <tr style=\"text-align: right;\">\n",
       "      <th></th>\n",
       "      <th>APR</th>\n",
       "      <th>DOM</th>\n",
       "      <th>EVA</th>\n",
       "      <th>MEJ</th>\n",
       "      <th>MET</th>\n",
       "      <th>PRA</th>\n",
       "      <th>REC</th>\n",
       "      <th>RET</th>\n",
       "      <th>ASE</th>\n",
       "      <th>GÉNERO ALUMNO</th>\n",
       "      <th>PROM ACUMULADO EN PROFESIONAL</th>\n",
       "      <th>Género del profesor</th>\n",
       "      <th>Tipo Comentario</th>\n",
       "      <th>Comentarios</th>\n",
       "      <th>AVG</th>\n",
       "      <th>Lemm</th>\n",
       "    </tr>\n",
       "  </thead>\n",
       "  <tbody>\n",
       "    <tr>\n",
       "      <th>0</th>\n",
       "      <td>5.0</td>\n",
       "      <td>4.0</td>\n",
       "      <td>9.0</td>\n",
       "      <td>0.0</td>\n",
       "      <td>5.0</td>\n",
       "      <td>10.0</td>\n",
       "      <td>4.0</td>\n",
       "      <td>10.0</td>\n",
       "      <td>8.0</td>\n",
       "      <td>0</td>\n",
       "      <td>94.428</td>\n",
       "      <td>0.0</td>\n",
       "      <td>0</td>\n",
       "      <td>Sabe explicar muy bien las cosas teoricas, pe...</td>\n",
       "      <td>7.2</td>\n",
       "      <td>['saber', 'explicar', 'bien', 'cosa', 'teorico...</td>\n",
       "    </tr>\n",
       "    <tr>\n",
       "      <th>1</th>\n",
       "      <td>5.0</td>\n",
       "      <td>8.0</td>\n",
       "      <td>8.0</td>\n",
       "      <td>0.0</td>\n",
       "      <td>5.0</td>\n",
       "      <td>7.0</td>\n",
       "      <td>8.0</td>\n",
       "      <td>5.0</td>\n",
       "      <td>8.0</td>\n",
       "      <td>0</td>\n",
       "      <td>95.968</td>\n",
       "      <td>0.0</td>\n",
       "      <td>0</td>\n",
       "      <td>Método anticuado de enseñar. Los temas podría...</td>\n",
       "      <td>6.3</td>\n",
       "      <td>['método', 'anticuado', 'enseñar', 'tema', 'po...</td>\n",
       "    </tr>\n",
       "    <tr>\n",
       "      <th>2</th>\n",
       "      <td>10.0</td>\n",
       "      <td>10.0</td>\n",
       "      <td>5.0</td>\n",
       "      <td>1.0</td>\n",
       "      <td>8.0</td>\n",
       "      <td>10.0</td>\n",
       "      <td>10.0</td>\n",
       "      <td>10.0</td>\n",
       "      <td>8.0</td>\n",
       "      <td>0</td>\n",
       "      <td>96.408</td>\n",
       "      <td>0.0</td>\n",
       "      <td>1</td>\n",
       "      <td>Sabe muchísimo del tema, muy preparada.</td>\n",
       "      <td>8.8</td>\n",
       "      <td>['saber', 'muchísimo', 'tema', 'preparado']</td>\n",
       "    </tr>\n",
       "    <tr>\n",
       "      <th>3</th>\n",
       "      <td>10.0</td>\n",
       "      <td>10.0</td>\n",
       "      <td>10.0</td>\n",
       "      <td>1.0</td>\n",
       "      <td>10.0</td>\n",
       "      <td>10.0</td>\n",
       "      <td>10.0</td>\n",
       "      <td>10.0</td>\n",
       "      <td>10.0</td>\n",
       "      <td>0</td>\n",
       "      <td>94.981</td>\n",
       "      <td>0.0</td>\n",
       "      <td>2</td>\n",
       "      <td>buena maestra si lo recomiendo</td>\n",
       "      <td>10.0</td>\n",
       "      <td>['buen', 'maestro', 'si', 'recomer']</td>\n",
       "    </tr>\n",
       "    <tr>\n",
       "      <th>4</th>\n",
       "      <td>9.0</td>\n",
       "      <td>10.0</td>\n",
       "      <td>9.0</td>\n",
       "      <td>1.0</td>\n",
       "      <td>9.0</td>\n",
       "      <td>9.0</td>\n",
       "      <td>9.0</td>\n",
       "      <td>9.0</td>\n",
       "      <td>9.0</td>\n",
       "      <td>0</td>\n",
       "      <td>89.040</td>\n",
       "      <td>0.0</td>\n",
       "      <td>1</td>\n",
       "      <td>Tiene mucho conocimiento sobre los temas.</td>\n",
       "      <td>9.0</td>\n",
       "      <td>['conocimiento', 'tema']</td>\n",
       "    </tr>\n",
       "  </tbody>\n",
       "</table>\n",
       "</div>"
      ],
      "text/plain": [
       "    APR   DOM   EVA  MEJ   MET   PRA   REC   RET   ASE  GÉNERO ALUMNO  \\\n",
       "0   5.0   4.0   9.0  0.0   5.0  10.0   4.0  10.0   8.0              0   \n",
       "1   5.0   8.0   8.0  0.0   5.0   7.0   8.0   5.0   8.0              0   \n",
       "2  10.0  10.0   5.0  1.0   8.0  10.0  10.0  10.0   8.0              0   \n",
       "3  10.0  10.0  10.0  1.0  10.0  10.0  10.0  10.0  10.0              0   \n",
       "4   9.0  10.0   9.0  1.0   9.0   9.0   9.0   9.0   9.0              0   \n",
       "\n",
       "   PROM ACUMULADO EN PROFESIONAL  Género del profesor  Tipo Comentario  \\\n",
       "0                         94.428                  0.0                0   \n",
       "1                         95.968                  0.0                0   \n",
       "2                         96.408                  0.0                1   \n",
       "3                         94.981                  0.0                2   \n",
       "4                         89.040                  0.0                1   \n",
       "\n",
       "                                         Comentarios   AVG  \\\n",
       "0   Sabe explicar muy bien las cosas teoricas, pe...   7.2   \n",
       "1   Método anticuado de enseñar. Los temas podría...   6.3   \n",
       "2           Sabe muchísimo del tema, muy preparada.    8.8   \n",
       "3                     buena maestra si lo recomiendo  10.0   \n",
       "4         Tiene mucho conocimiento sobre los temas.    9.0   \n",
       "\n",
       "                                                Lemm  \n",
       "0  ['saber', 'explicar', 'bien', 'cosa', 'teorico...  \n",
       "1  ['método', 'anticuado', 'enseñar', 'tema', 'po...  \n",
       "2        ['saber', 'muchísimo', 'tema', 'preparado']  \n",
       "3               ['buen', 'maestro', 'si', 'recomer']  \n",
       "4                           ['conocimiento', 'tema']  "
      ]
     },
     "execution_count": 3,
     "metadata": {},
     "output_type": "execute_result"
    }
   ],
   "source": [
    "df_ecoas=pd.read_csv('./datasets/df_ready.csv', index_col=0)\n",
    "df_ecoas.head()"
   ]
  },
  {
   "cell_type": "code",
   "execution_count": 4,
   "metadata": {},
   "outputs": [],
   "source": [
    "conditions = [\n",
    "    (df_ecoas['Tipo Comentario'] == 0),\n",
    "    (df_ecoas['Tipo Comentario'] == 1),\n",
    "    (df_ecoas['Tipo Comentario'] == 2)\n",
    "]\n",
    "\n",
    "choices = ['negative', 'positive', 'neutral']\n",
    "df_ecoas['Sentiment'] = np.select(conditions, choices, default='undefined')"
   ]
  },
  {
   "cell_type": "code",
   "execution_count": 5,
   "metadata": {},
   "outputs": [
    {
     "data": {
      "text/html": [
       "<div>\n",
       "<style scoped>\n",
       "    .dataframe tbody tr th:only-of-type {\n",
       "        vertical-align: middle;\n",
       "    }\n",
       "\n",
       "    .dataframe tbody tr th {\n",
       "        vertical-align: top;\n",
       "    }\n",
       "\n",
       "    .dataframe thead th {\n",
       "        text-align: right;\n",
       "    }\n",
       "</style>\n",
       "<table border=\"1\" class=\"dataframe\">\n",
       "  <thead>\n",
       "    <tr style=\"text-align: right;\">\n",
       "      <th></th>\n",
       "      <th>Comentarios</th>\n",
       "      <th>Sentiment</th>\n",
       "    </tr>\n",
       "  </thead>\n",
       "  <tbody>\n",
       "    <tr>\n",
       "      <th>0</th>\n",
       "      <td>Sabe explicar muy bien las cosas teoricas, pe...</td>\n",
       "      <td>negative</td>\n",
       "    </tr>\n",
       "    <tr>\n",
       "      <th>1</th>\n",
       "      <td>Método anticuado de enseñar. Los temas podría...</td>\n",
       "      <td>negative</td>\n",
       "    </tr>\n",
       "    <tr>\n",
       "      <th>2</th>\n",
       "      <td>Sabe muchísimo del tema, muy preparada.</td>\n",
       "      <td>positive</td>\n",
       "    </tr>\n",
       "    <tr>\n",
       "      <th>3</th>\n",
       "      <td>buena maestra si lo recomiendo</td>\n",
       "      <td>neutral</td>\n",
       "    </tr>\n",
       "    <tr>\n",
       "      <th>4</th>\n",
       "      <td>Tiene mucho conocimiento sobre los temas.</td>\n",
       "      <td>positive</td>\n",
       "    </tr>\n",
       "  </tbody>\n",
       "</table>\n",
       "</div>"
      ],
      "text/plain": [
       "                                         Comentarios Sentiment\n",
       "0   Sabe explicar muy bien las cosas teoricas, pe...  negative\n",
       "1   Método anticuado de enseñar. Los temas podría...  negative\n",
       "2           Sabe muchísimo del tema, muy preparada.   positive\n",
       "3                     buena maestra si lo recomiendo   neutral\n",
       "4         Tiene mucho conocimiento sobre los temas.   positive"
      ]
     },
     "execution_count": 5,
     "metadata": {},
     "output_type": "execute_result"
    }
   ],
   "source": [
    "# keep only comments and sentiment\n",
    "df_ecoas = df_ecoas[['Comentarios', 'Sentiment']]\n",
    "df_ecoas.head()"
   ]
  },
  {
   "cell_type": "code",
   "execution_count": 6,
   "metadata": {},
   "outputs": [],
   "source": [
    "# We will use the 'Comentarios' column as input for the model and the 'Tipo Comentario' as the target variable\n",
    "train, test = train_test_split(df_ecoas, test_size=0.2, random_state=42)\n",
    "\n",
    "X_train = train['Comentarios']\n",
    "y_train = train['Sentiment']\n",
    "X_test = test['Comentarios']\n",
    "y_test = test['Sentiment']"
   ]
  },
  {
   "cell_type": "code",
   "execution_count": 7,
   "metadata": {},
   "outputs": [
    {
     "data": {
      "text/plain": [
       "('Sabe muchísimo del tema, muy preparada. ', 'positive')"
      ]
     },
     "execution_count": 7,
     "metadata": {},
     "output_type": "execute_result"
    }
   ],
   "source": [
    "X_train[2], y_train[2]"
   ]
  },
  {
   "cell_type": "code",
   "execution_count": 8,
   "metadata": {},
   "outputs": [
    {
     "name": "stderr",
     "output_type": "stream",
     "text": [
      "/Users/diegoacosta/Documents/Maestría/Thesis/Notebooks/Complete/.venv/lib/python3.9/site-packages/transformers/pipelines/text_classification.py:105: UserWarning: `return_all_scores` is now deprecated,  if want a similar functionality use `top_k=None` instead of `return_all_scores=True` or `top_k=1` instead of `return_all_scores=False`.\n",
      "  warnings.warn(\n"
     ]
    },
    {
     "data": {
      "text/plain": [
       "[[{'label': 'positive', 'score': 0.9138137102127075},\n",
       "  {'label': 'neutral', 'score': 0.04455755650997162},\n",
       "  {'label': 'negative', 'score': 0.041628628969192505}]]"
      ]
     },
     "execution_count": 8,
     "metadata": {},
     "output_type": "execute_result"
    }
   ],
   "source": [
    "from transformers import TextClassificationPipeline\n",
    "distilled_classifier = TextClassificationPipeline(model=model, tokenizer=tokenizer, return_all_scores=True)\n",
    "distilled_classifier(X_train[2])"
   ]
  },
  {
   "cell_type": "code",
   "execution_count": 10,
   "metadata": {},
   "outputs": [
    {
     "name": "stderr",
     "output_type": "stream",
     "text": [
      "100%|██████████| 755/755 [40:58<00:00,  3.26s/it]\n"
     ]
    }
   ],
   "source": [
    "start = time()\n",
    "class_names = ['positive', 'neutral', 'negative']\n",
    "\n",
    "batch_size = 128 # larger batch size bc distilled model is more memory efficient\n",
    "distilled_classifier.return_all_scores = False\n",
    "tokenizer_kwargs = {'padding':True, 'truncation':True, 'max_length':512}\n",
    "preds = []\n",
    "outputs = []\n",
    "for i in tqdm(range(0, len(df_ecoas), batch_size)):\n",
    "    examples = df_ecoas[i:i+batch_size]['Comentarios'].tolist()\n",
    "    outputs.append(distilled_classifier(examples, **tokenizer_kwargs))\n",
    "    # outputs = distilled_classifier(examples, **tokenizer_kwargs)\n",
    "    # preds += [class_names.index(o['label'][0]) for o in outputs]\n"
   ]
  },
  {
   "cell_type": "code",
   "execution_count": 11,
   "metadata": {},
   "outputs": [],
   "source": [
    "preds = []\n",
    "\n",
    "for i in range(len(outputs)):\n",
    "    for j in range(len(outputs[i])):\n",
    "        preds.append(max(outputs[i][j], key=lambda x: x['score'])['label'])"
   ]
  },
  {
   "cell_type": "code",
   "execution_count": 12,
   "metadata": {},
   "outputs": [
    {
     "data": {
      "text/html": [
       "<div>\n",
       "<style scoped>\n",
       "    .dataframe tbody tr th:only-of-type {\n",
       "        vertical-align: middle;\n",
       "    }\n",
       "\n",
       "    .dataframe tbody tr th {\n",
       "        vertical-align: top;\n",
       "    }\n",
       "\n",
       "    .dataframe thead th {\n",
       "        text-align: right;\n",
       "    }\n",
       "</style>\n",
       "<table border=\"1\" class=\"dataframe\">\n",
       "  <thead>\n",
       "    <tr style=\"text-align: right;\">\n",
       "      <th></th>\n",
       "      <th>Comentarios</th>\n",
       "      <th>Sentiment</th>\n",
       "    </tr>\n",
       "  </thead>\n",
       "  <tbody>\n",
       "    <tr>\n",
       "      <th>0</th>\n",
       "      <td>Sabe explicar muy bien las cosas teoricas, pe...</td>\n",
       "      <td>negative</td>\n",
       "    </tr>\n",
       "    <tr>\n",
       "      <th>1</th>\n",
       "      <td>Método anticuado de enseñar. Los temas podría...</td>\n",
       "      <td>negative</td>\n",
       "    </tr>\n",
       "    <tr>\n",
       "      <th>2</th>\n",
       "      <td>Sabe muchísimo del tema, muy preparada.</td>\n",
       "      <td>positive</td>\n",
       "    </tr>\n",
       "    <tr>\n",
       "      <th>3</th>\n",
       "      <td>buena maestra si lo recomiendo</td>\n",
       "      <td>neutral</td>\n",
       "    </tr>\n",
       "    <tr>\n",
       "      <th>4</th>\n",
       "      <td>Tiene mucho conocimiento sobre los temas.</td>\n",
       "      <td>positive</td>\n",
       "    </tr>\n",
       "    <tr>\n",
       "      <th>5</th>\n",
       "      <td>Una maestra con mucho conocimiento y visión</td>\n",
       "      <td>positive</td>\n",
       "    </tr>\n",
       "    <tr>\n",
       "      <th>6</th>\n",
       "      <td>Conocedora de tema</td>\n",
       "      <td>positive</td>\n",
       "    </tr>\n",
       "    <tr>\n",
       "      <th>7</th>\n",
       "      <td>Aunque no la conozco fisicamente ya que la cla...</td>\n",
       "      <td>positive</td>\n",
       "    </tr>\n",
       "    <tr>\n",
       "      <th>8</th>\n",
       "      <td>La clase esta super repetitiva todo el semest...</td>\n",
       "      <td>negative</td>\n",
       "    </tr>\n",
       "    <tr>\n",
       "      <th>9</th>\n",
       "      <td>Muchas actividades de aprendizaje. no aplica</td>\n",
       "      <td>neutral</td>\n",
       "    </tr>\n",
       "  </tbody>\n",
       "</table>\n",
       "</div>"
      ],
      "text/plain": [
       "                                         Comentarios Sentiment\n",
       "0   Sabe explicar muy bien las cosas teoricas, pe...  negative\n",
       "1   Método anticuado de enseñar. Los temas podría...  negative\n",
       "2           Sabe muchísimo del tema, muy preparada.   positive\n",
       "3                     buena maestra si lo recomiendo   neutral\n",
       "4         Tiene mucho conocimiento sobre los temas.   positive\n",
       "5       Una maestra con mucho conocimiento y visión   positive\n",
       "6                                Conocedora de tema   positive\n",
       "7  Aunque no la conozco fisicamente ya que la cla...  positive\n",
       "8   La clase esta super repetitiva todo el semest...  negative\n",
       "9       Muchas actividades de aprendizaje. no aplica   neutral"
      ]
     },
     "execution_count": 12,
     "metadata": {},
     "output_type": "execute_result"
    }
   ],
   "source": [
    "df_ecoas[0:10]"
   ]
  },
  {
   "cell_type": "code",
   "execution_count": 13,
   "metadata": {},
   "outputs": [
    {
     "data": {
      "text/plain": [
       "['positive',\n",
       " 'positive',\n",
       " 'positive',\n",
       " 'positive',\n",
       " 'positive',\n",
       " 'positive',\n",
       " 'positive',\n",
       " 'neutral',\n",
       " 'negative',\n",
       " 'positive']"
      ]
     },
     "execution_count": 13,
     "metadata": {},
     "output_type": "execute_result"
    }
   ],
   "source": [
    "preds[0:10]"
   ]
  },
  {
   "cell_type": "code",
   "execution_count": 17,
   "metadata": {},
   "outputs": [
    {
     "name": "stdout",
     "output_type": "stream",
     "text": [
      "              precision    recall  f1-score   support\n",
      "\n",
      "    positive       0.33      0.53      0.40      8823\n",
      "     neutral       0.50      0.08      0.14     33131\n",
      "    negative       0.66      0.93      0.77     54586\n",
      "\n",
      "    accuracy                           0.60     96540\n",
      "   macro avg       0.49      0.51      0.44     96540\n",
      "weighted avg       0.57      0.60      0.52     96540\n",
      "\n"
     ]
    }
   ],
   "source": [
    "report = classification_report(df_ecoas['Sentiment'], preds, target_names=class_names)\n",
    "print(report)"
   ]
  },
  {
   "cell_type": "code",
   "execution_count": 14,
   "metadata": {},
   "outputs": [
    {
     "name": "stdout",
     "output_type": "stream",
     "text": [
      "Distilled model accuracy: 60.10%\n",
      "Runtime:  13447.81 seconds\n"
     ]
    }
   ],
   "source": [
    "accuracy = np.mean(np.array(preds) == np.array(df_ecoas['Sentiment']))\n",
    "print(f\"Distilled model accuracy: {accuracy*100:0.2f}%\")\n",
    "print(f\"Runtime: {time() - start : 0.2f} seconds\")"
   ]
  }
 ],
 "metadata": {
  "kernelspec": {
   "display_name": ".venv",
   "language": "python",
   "name": "python3"
  },
  "language_info": {
   "codemirror_mode": {
    "name": "ipython",
    "version": 3
   },
   "file_extension": ".py",
   "mimetype": "text/x-python",
   "name": "python",
   "nbconvert_exporter": "python",
   "pygments_lexer": "ipython3",
   "version": "3.9.6"
  }
 },
 "nbformat": 4,
 "nbformat_minor": 2
}
