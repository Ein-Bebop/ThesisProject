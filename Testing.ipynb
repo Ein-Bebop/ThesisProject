{
 "cells": [
  {
   "cell_type": "code",
   "execution_count": 10,
   "metadata": {},
   "outputs": [
    {
     "name": "stderr",
     "output_type": "stream",
     "text": [
      "2024-02-14 15:34:29 INFO: Checking for updates to resources.json in case models have been updated.  Note: this behavior can be turned off with download_method=None or download_method=DownloadMethod.REUSE_RESOURCES\n",
      "Downloading https://raw.githubusercontent.com/stanfordnlp/stanza-resources/main/resources_1.7.0.json: 370kB [00:00, 11.8MB/s]                    \n",
      "2024-02-14 15:34:30 INFO: Loading these models for language: es (Spanish):\n",
      "===============================\n",
      "| Processor | Package         |\n",
      "-------------------------------\n",
      "| tokenize  | ancora          |\n",
      "| mwt       | ancora          |\n",
      "| pos       | ancora_charlm   |\n",
      "| lemma     | ancora_nocharlm |\n",
      "===============================\n",
      "\n",
      "2024-02-14 15:34:30 INFO: Using device: cpu\n",
      "2024-02-14 15:34:30 INFO: Loading: tokenize\n",
      "2024-02-14 15:34:30 INFO: Loading: mwt\n",
      "2024-02-14 15:34:30 INFO: Loading: pos\n",
      "2024-02-14 15:34:30 INFO: Loading: lemma\n",
      "2024-02-14 15:34:30 INFO: Done loading processors!\n"
     ]
    },
    {
     "name": "stdout",
     "output_type": "stream",
     "text": [
      "Hola, ¿cómo estás?\n",
      "Me llamo Juan.\n",
      "¿Y tú?\n"
     ]
    }
   ],
   "source": [
    "import stanza\n",
    "\n",
    "# Download the Spanish language model\n",
    "# stanza.download('es')\n",
    "\n",
    "# Initialize the Spanish pipeline\n",
    "# nlp = stanza.Pipeline('es')\n",
    "\n",
    "config = {\n",
    "\t'processors': 'tokenize,mwt,pos,lemma',\n",
    "  'lang': 'es',\n",
    "}\n",
    "nlp = stanza.Pipeline(**config) # Initialize the pipeline using a configuration dict\n",
    "\n",
    "# Define the text to be segmented\n",
    "text = \"Hola, ¿cómo estás? Me llamo Juan. ¿Y tú?\"\n",
    "\n",
    "# Process the text\n",
    "doc = nlp(text)\n",
    "\n",
    "# Get the segmented sentences\n",
    "sentences = [sentence.text for sentence in doc.sentences]\n",
    "\n",
    "# Print the segmented sentences\n",
    "for sentence in sentences:\n",
    "    print(sentence)\n"
   ]
  },
  {
   "cell_type": "code",
   "execution_count": 11,
   "metadata": {},
   "outputs": [
    {
     "name": "stdout",
     "output_type": "stream",
     "text": [
      "['Hola, ¿cómo estás?', 'Me llamo Juan.', '¿Y tú?']\n"
     ]
    }
   ],
   "source": [
    "print([sentence.text for sentence in doc.sentences])"
   ]
  },
  {
   "cell_type": "code",
   "execution_count": 12,
   "metadata": {},
   "outputs": [
    {
     "data": {
      "text/html": [
       "<div>\n",
       "<style scoped>\n",
       "    .dataframe tbody tr th:only-of-type {\n",
       "        vertical-align: middle;\n",
       "    }\n",
       "\n",
       "    .dataframe tbody tr th {\n",
       "        vertical-align: top;\n",
       "    }\n",
       "\n",
       "    .dataframe thead th {\n",
       "        text-align: right;\n",
       "    }\n",
       "</style>\n",
       "<table border=\"1\" class=\"dataframe\">\n",
       "  <thead>\n",
       "    <tr style=\"text-align: right;\">\n",
       "      <th></th>\n",
       "      <th>APR</th>\n",
       "      <th>DOM</th>\n",
       "      <th>EVA</th>\n",
       "      <th>MEJ</th>\n",
       "      <th>MET</th>\n",
       "      <th>PRA</th>\n",
       "      <th>REC</th>\n",
       "      <th>RET</th>\n",
       "      <th>ASE</th>\n",
       "      <th>GÉNERO ALUMNO</th>\n",
       "      <th>PROM ACUMULADO EN PROFESIONAL</th>\n",
       "      <th>Género del profesor</th>\n",
       "      <th>Tipo Comentario</th>\n",
       "      <th>Comentarios</th>\n",
       "      <th>AVG</th>\n",
       "      <th>Lemm</th>\n",
       "    </tr>\n",
       "  </thead>\n",
       "  <tbody>\n",
       "    <tr>\n",
       "      <th>0</th>\n",
       "      <td>5.0</td>\n",
       "      <td>4.0</td>\n",
       "      <td>9.0</td>\n",
       "      <td>0.0</td>\n",
       "      <td>5.0</td>\n",
       "      <td>10.0</td>\n",
       "      <td>4.0</td>\n",
       "      <td>10.0</td>\n",
       "      <td>8.0</td>\n",
       "      <td>0</td>\n",
       "      <td>94.428</td>\n",
       "      <td>0.0</td>\n",
       "      <td>0</td>\n",
       "      <td>Sabe explicar muy bien las cosas teoricas, pe...</td>\n",
       "      <td>7.2</td>\n",
       "      <td>['saber', 'explicar', 'bien', 'cosa', 'teorico...</td>\n",
       "    </tr>\n",
       "    <tr>\n",
       "      <th>1</th>\n",
       "      <td>5.0</td>\n",
       "      <td>8.0</td>\n",
       "      <td>8.0</td>\n",
       "      <td>0.0</td>\n",
       "      <td>5.0</td>\n",
       "      <td>7.0</td>\n",
       "      <td>8.0</td>\n",
       "      <td>5.0</td>\n",
       "      <td>8.0</td>\n",
       "      <td>0</td>\n",
       "      <td>95.968</td>\n",
       "      <td>0.0</td>\n",
       "      <td>0</td>\n",
       "      <td>Método anticuado de enseñar. Los temas podría...</td>\n",
       "      <td>6.3</td>\n",
       "      <td>['método', 'anticuado', 'enseñar', 'tema', 'po...</td>\n",
       "    </tr>\n",
       "    <tr>\n",
       "      <th>2</th>\n",
       "      <td>10.0</td>\n",
       "      <td>10.0</td>\n",
       "      <td>5.0</td>\n",
       "      <td>1.0</td>\n",
       "      <td>8.0</td>\n",
       "      <td>10.0</td>\n",
       "      <td>10.0</td>\n",
       "      <td>10.0</td>\n",
       "      <td>8.0</td>\n",
       "      <td>0</td>\n",
       "      <td>96.408</td>\n",
       "      <td>0.0</td>\n",
       "      <td>1</td>\n",
       "      <td>Sabe muchísimo del tema, muy preparada.</td>\n",
       "      <td>8.8</td>\n",
       "      <td>['saber', 'muchísimo', 'tema', 'preparado']</td>\n",
       "    </tr>\n",
       "    <tr>\n",
       "      <th>3</th>\n",
       "      <td>10.0</td>\n",
       "      <td>10.0</td>\n",
       "      <td>10.0</td>\n",
       "      <td>1.0</td>\n",
       "      <td>10.0</td>\n",
       "      <td>10.0</td>\n",
       "      <td>10.0</td>\n",
       "      <td>10.0</td>\n",
       "      <td>10.0</td>\n",
       "      <td>0</td>\n",
       "      <td>94.981</td>\n",
       "      <td>0.0</td>\n",
       "      <td>2</td>\n",
       "      <td>buena maestra si lo recomiendo</td>\n",
       "      <td>10.0</td>\n",
       "      <td>['buen', 'maestro', 'si', 'recomer']</td>\n",
       "    </tr>\n",
       "    <tr>\n",
       "      <th>4</th>\n",
       "      <td>9.0</td>\n",
       "      <td>10.0</td>\n",
       "      <td>9.0</td>\n",
       "      <td>1.0</td>\n",
       "      <td>9.0</td>\n",
       "      <td>9.0</td>\n",
       "      <td>9.0</td>\n",
       "      <td>9.0</td>\n",
       "      <td>9.0</td>\n",
       "      <td>0</td>\n",
       "      <td>89.040</td>\n",
       "      <td>0.0</td>\n",
       "      <td>1</td>\n",
       "      <td>Tiene mucho conocimiento sobre los temas.</td>\n",
       "      <td>9.0</td>\n",
       "      <td>['conocimiento', 'tema']</td>\n",
       "    </tr>\n",
       "  </tbody>\n",
       "</table>\n",
       "</div>"
      ],
      "text/plain": [
       "    APR   DOM   EVA  MEJ   MET   PRA   REC   RET   ASE  GÉNERO ALUMNO  \\\n",
       "0   5.0   4.0   9.0  0.0   5.0  10.0   4.0  10.0   8.0              0   \n",
       "1   5.0   8.0   8.0  0.0   5.0   7.0   8.0   5.0   8.0              0   \n",
       "2  10.0  10.0   5.0  1.0   8.0  10.0  10.0  10.0   8.0              0   \n",
       "3  10.0  10.0  10.0  1.0  10.0  10.0  10.0  10.0  10.0              0   \n",
       "4   9.0  10.0   9.0  1.0   9.0   9.0   9.0   9.0   9.0              0   \n",
       "\n",
       "   PROM ACUMULADO EN PROFESIONAL  Género del profesor  Tipo Comentario  \\\n",
       "0                         94.428                  0.0                0   \n",
       "1                         95.968                  0.0                0   \n",
       "2                         96.408                  0.0                1   \n",
       "3                         94.981                  0.0                2   \n",
       "4                         89.040                  0.0                1   \n",
       "\n",
       "                                         Comentarios   AVG  \\\n",
       "0   Sabe explicar muy bien las cosas teoricas, pe...   7.2   \n",
       "1   Método anticuado de enseñar. Los temas podría...   6.3   \n",
       "2           Sabe muchísimo del tema, muy preparada.    8.8   \n",
       "3                     buena maestra si lo recomiendo  10.0   \n",
       "4         Tiene mucho conocimiento sobre los temas.    9.0   \n",
       "\n",
       "                                                Lemm  \n",
       "0  ['saber', 'explicar', 'bien', 'cosa', 'teorico...  \n",
       "1  ['método', 'anticuado', 'enseñar', 'tema', 'po...  \n",
       "2        ['saber', 'muchísimo', 'tema', 'preparado']  \n",
       "3               ['buen', 'maestro', 'si', 'recomer']  \n",
       "4                           ['conocimiento', 'tema']  "
      ]
     },
     "execution_count": 12,
     "metadata": {},
     "output_type": "execute_result"
    }
   ],
   "source": [
    "import pandas as pd\n",
    "df=pd.read_csv('df_ready.csv', index_col=0)\n",
    "df.head()"
   ]
  },
  {
   "cell_type": "code",
   "execution_count": 13,
   "metadata": {},
   "outputs": [
    {
     "data": {
      "text/plain": [
       "' Sabe explicar muy bien las cosas teoricas, pero le hace falta aterrizar un poco los temas a lo que es en la practica la mercadotecnia interna. Nos puso a realizar un proyecto de mercadotecnia interna a una empresa sin nosotros tener algún ejemplo concreto de qué acciones se pueden implementar. Solo nos dio teoria basica.'"
      ]
     },
     "execution_count": 13,
     "metadata": {},
     "output_type": "execute_result"
    }
   ],
   "source": [
    "comment = df['Comentarios'][0]\n",
    "comment"
   ]
  },
  {
   "cell_type": "code",
   "execution_count": 14,
   "metadata": {},
   "outputs": [
    {
     "name": "stdout",
     "output_type": "stream",
     "text": [
      "Sabe explicar muy bien las cosas teoricas, pero le hace falta aterrizar un poco los temas a lo que es en la practica la mercadotecnia interna.\n",
      "Nos puso a realizar un proyecto de mercadotecnia interna a una empresa sin nosotros tener algún ejemplo concreto de qué acciones se pueden implementar.\n",
      "Solo nos dio teoria basica.\n"
     ]
    }
   ],
   "source": [
    "# Process the text\n",
    "doc = nlp(comment)\n",
    "\n",
    "# Get the segmented sentences\n",
    "sentences = [sentence.text for sentence in doc.sentences]\n",
    "\n",
    "# Print the segmented sentences\n",
    "for sentence in sentences:\n",
    "    print(sentence)\n"
   ]
  },
  {
   "cell_type": "code",
   "execution_count": 18,
   "metadata": {},
   "outputs": [],
   "source": [
    "import concurrent.futures\n",
    "\n",
    "com_lemmatized = []\n",
    "comments_lemm = []\n",
    "\n",
    "def lemmatize_comments(comment):\n",
    "  doc = nlp(comment)\n",
    "  lemmatized_comment = []\n",
    "  for sent in doc.sentences:\n",
    "    lemmatized_comment.extend([word.lemma for word in sent.words])\n",
    "  return lemmatized_comment\n",
    "\n",
    "with concurrent.futures.ThreadPoolExecutor() as executor:\n",
    "  results = executor.map(lemmatize_comments, sentences)\n",
    "\n",
    "comments_lemm = list(results)\n"
   ]
  },
  {
   "cell_type": "code",
   "execution_count": 19,
   "metadata": {},
   "outputs": [
    {
     "data": {
      "text/plain": [
       "[['saber',\n",
       "  'explicar',\n",
       "  'mucho',\n",
       "  'bien',\n",
       "  'el',\n",
       "  'cosa',\n",
       "  'teorico',\n",
       "  ',',\n",
       "  'pero',\n",
       "  'él',\n",
       "  'hacer',\n",
       "  'falta',\n",
       "  'aterrizar',\n",
       "  'uno',\n",
       "  'poco',\n",
       "  'el',\n",
       "  'tema',\n",
       "  'a',\n",
       "  'él',\n",
       "  'que',\n",
       "  'ser',\n",
       "  'en',\n",
       "  'el',\n",
       "  'practicar',\n",
       "  'el',\n",
       "  'mercadotecnia',\n",
       "  'interno',\n",
       "  '.'],\n",
       " ['yo',\n",
       "  'poner',\n",
       "  'a',\n",
       "  'realizar',\n",
       "  'uno',\n",
       "  'proyecto',\n",
       "  'de',\n",
       "  'mercadotecnia',\n",
       "  'interno',\n",
       "  'a',\n",
       "  'uno',\n",
       "  'empresa',\n",
       "  'sin',\n",
       "  'yo',\n",
       "  'tener',\n",
       "  'alguno',\n",
       "  'ejemplo',\n",
       "  'concreto',\n",
       "  'de',\n",
       "  'qué',\n",
       "  'acción',\n",
       "  'él',\n",
       "  'poder',\n",
       "  'implementar',\n",
       "  '.'],\n",
       " ['solo', 'yo', 'dar', 'teoria', 'basico', '.']]"
      ]
     },
     "execution_count": 19,
     "metadata": {},
     "output_type": "execute_result"
    }
   ],
   "source": [
    "comments_lemm"
   ]
  },
  {
   "cell_type": "code",
   "execution_count": null,
   "metadata": {},
   "outputs": [],
   "source": []
  }
 ],
 "metadata": {
  "kernelspec": {
   "display_name": ".venv",
   "language": "python",
   "name": "python3"
  },
  "language_info": {
   "codemirror_mode": {
    "name": "ipython",
    "version": 3
   },
   "file_extension": ".py",
   "mimetype": "text/x-python",
   "name": "python",
   "nbconvert_exporter": "python",
   "pygments_lexer": "ipython3",
   "version": "3.9.6"
  }
 },
 "nbformat": 4,
 "nbformat_minor": 2
}
